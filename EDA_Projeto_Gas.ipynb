{
  "cells": [
    {
      "cell_type": "markdown",
      "metadata": {
        "id": "view-in-github",
        "colab_type": "text"
      },
      "source": [
        "<a href=\"https://colab.research.google.com/github/manusaleal/EDA_Projeto_Gas/blob/desenvolvimento-cicero/EDA_Projeto_Gas.ipynb\" target=\"_parent\"><img src=\"https://colab.research.google.com/assets/colab-badge.svg\" alt=\"Open In Colab\"/></a>"
      ]
    },
    {
      "cell_type": "markdown",
      "source": [
        "#Projeto"
      ],
      "metadata": {
        "id": "ZtuXXNR4bqRn"
      }
    },
    {
      "cell_type": "markdown",
      "source": [
        "Segundo a fonte:\n",
        "\n",
        "Até 30 de outubro de 2004, todos os preços médios eram calculados por média aritmética simples. **Após esta data, os preços médios de revenda e de distribuição de combustíveis, em nível estadual, regional e nacional, passaram a ser ponderados com base nas informações de vendas enviadas pelas distribuidoras à ANP.** Atualmente, apenas o preço médio em nível municipal é obtido por média aritmética simples.\n",
        "\n",
        "***Portanto... Analisar apenas dados fornecidos a partir do dia 31/10/2004.***\n",
        "\n",
        "Tipos de Produtos:\n",
        "* Gasolina Comum\n",
        "* Etanol Hidratado Combustível\n",
        "* Óleo Diesel Não Aditivado\n",
        "* Gás Natural Veicular (GNV)\n",
        "* Gás Liquefeito de Petróleo (GLP – botijão de 13 quilos)\n",
        "* Óleo diesel B S-10 <---> **Foi adicionado depois**\n",
        "\n",
        "***Os valores NULL foram substituídos pelo valor -99999***"
      ],
      "metadata": {
        "id": "KjY7hIt0gJF7"
      }
    },
    {
      "cell_type": "code",
      "source": [
        "from google.colab import drive\n",
        "drive.mount('/content/drive')"
      ],
      "metadata": {
        "colab": {
          "base_uri": "https://localhost:8080/"
        },
        "id": "SwH85-DjaeY9",
        "outputId": "914cbe60-8dd6-4a56-ff48-28d7f3321b47"
      },
      "execution_count": 568,
      "outputs": [
        {
          "output_type": "stream",
          "name": "stdout",
          "text": [
            "Drive already mounted at /content/drive; to attempt to forcibly remount, call drive.mount(\"/content/drive\", force_remount=True).\n"
          ]
        }
      ]
    },
    {
      "cell_type": "code",
      "execution_count": 569,
      "metadata": {
        "id": "Z_avPcEsWh6l"
      },
      "outputs": [],
      "source": [
        "import pandas as pd\n",
        "import numpy as np"
      ]
    },
    {
      "cell_type": "code",
      "execution_count": 570,
      "metadata": {
        "colab": {
          "base_uri": "https://localhost:8080/",
          "height": 653
        },
        "id": "e77ZOdXhWh6s",
        "outputId": "10c48520-d237-40ad-f817-d42edfa8ec0c"
      },
      "outputs": [
        {
          "output_type": "execute_result",
          "data": {
            "text/plain": [
              "  DATA INICIAL  DATA FINAL        REGIÃO              ESTADO  \\\n",
              "0   2004-05-09  2004-05-15  CENTRO OESTE    DISTRITO FEDERAL   \n",
              "1   2004-05-09  2004-05-15  CENTRO OESTE               GOIAS   \n",
              "2   2004-05-09  2004-05-15  CENTRO OESTE         MATO GROSSO   \n",
              "3   2004-05-09  2004-05-15  CENTRO OESTE  MATO GROSSO DO SUL   \n",
              "4   2004-05-09  2004-05-15      NORDESTE             ALAGOAS   \n",
              "5   2004-05-09  2004-05-15      NORDESTE               BAHIA   \n",
              "6   2004-05-09  2004-05-15      NORDESTE               CEARA   \n",
              "7   2004-05-09  2004-05-15      NORDESTE            MARANHAO   \n",
              "8   2004-05-09  2004-05-15      NORDESTE             PARAIBA   \n",
              "9   2004-05-09  2004-05-15      NORDESTE          PERNAMBUCO   \n",
              "\n",
              "            PRODUTO  NÚMERO DE POSTOS PESQUISADOS UNIDADE DE MEDIDA  \\\n",
              "0  ETANOL HIDRATADO                           127              R$/l   \n",
              "1  ETANOL HIDRATADO                           387              R$/l   \n",
              "2  ETANOL HIDRATADO                           192              R$/l   \n",
              "3  ETANOL HIDRATADO                           162              R$/l   \n",
              "4  ETANOL HIDRATADO                           103              R$/l   \n",
              "5  ETANOL HIDRATADO                           408              R$/l   \n",
              "6  ETANOL HIDRATADO                           278              R$/l   \n",
              "7  ETANOL HIDRATADO                           105              R$/l   \n",
              "8  ETANOL HIDRATADO                           125              R$/l   \n",
              "9  ETANOL HIDRATADO                           423              R$/l   \n",
              "\n",
              "   PREÇO MÉDIO REVENDA  DESVIO PADRÃO REVENDA  PREÇO MÍNIMO REVENDA  \\\n",
              "0                1.288                  0.016                 1.190   \n",
              "1                1.162                  0.114                 0.890   \n",
              "2                1.389                  0.097                 1.180   \n",
              "3                1.262                  0.070                 1.090   \n",
              "4                1.181                  0.078                 1.050   \n",
              "5                1.383                  0.132                 0.999   \n",
              "6                1.453                  0.218                 1.030   \n",
              "7                1.631                  0.158                 1.350   \n",
              "8                1.284                  0.130                 1.100   \n",
              "9                1.224                  0.141                 0.989   \n",
              "\n",
              "   PREÇO MÁXIMO REVENDA MARGEM MÉDIA REVENDA  COEF DE VARIAÇÃO REVENDA  \\\n",
              "0                 1.350                0.463                     0.012   \n",
              "1                 1.449                0.399                     0.098   \n",
              "2                 1.760                0.419                     0.070   \n",
              "3                 1.509                0.432                     0.055   \n",
              "4                 1.400                 0.24                     0.066   \n",
              "5                 2.050                0.426                     0.095   \n",
              "6                 1.950                0.353                     0.150   \n",
              "7                 2.000                0.515                     0.097   \n",
              "8                 1.699                0.353                     0.101   \n",
              "9                 1.700                0.277                     0.115   \n",
              "\n",
              "  PREÇO MÉDIO DISTRIBUIÇÃO DESVIO PADRÃO DISTRIBUIÇÃO  \\\n",
              "0                    0.825                       0.11   \n",
              "1                    0.763                      0.088   \n",
              "2                     0.97                      0.095   \n",
              "3                     0.83                      0.119   \n",
              "4                    0.941                      0.077   \n",
              "5                    0.957                      0.128   \n",
              "6                      1.1                      0.068   \n",
              "7                    1.116                      0.091   \n",
              "8                    0.931                      0.072   \n",
              "9                    0.947                      0.091   \n",
              "\n",
              "  PREÇO MÍNIMO DISTRIBUIÇÃO PREÇO MÁXIMO DISTRIBUIÇÃO  \\\n",
              "0                    0.4201                    0.9666   \n",
              "1                    0.5013                     01.05   \n",
              "2                    0.5614                     1.161   \n",
              "3                    0.5991                   1.22242   \n",
              "4                    0.7441                    1.0317   \n",
              "5                    0.5686                      1.35   \n",
              "6                    0.7332                     1.294   \n",
              "7                    0.9923                   1.36183   \n",
              "8                    0.7577                    1.2972   \n",
              "9                    0.5643                    1.3541   \n",
              "\n",
              "  COEF DE VARIAÇÃO DISTRIBUIÇÃO  \n",
              "0                         0.133  \n",
              "1                         0.115  \n",
              "2                         0.098  \n",
              "3                         0.143  \n",
              "4                         0.082  \n",
              "5                         0.134  \n",
              "6                         0.062  \n",
              "7                         0.082  \n",
              "8                         0.077  \n",
              "9                         0.096  "
            ],
            "text/html": [
              "\n",
              "\n",
              "  <div id=\"df-90dfcd4f-b26b-4c3c-a2a1-cde3a4422355\">\n",
              "    <div class=\"colab-df-container\">\n",
              "      <div>\n",
              "<style scoped>\n",
              "    .dataframe tbody tr th:only-of-type {\n",
              "        vertical-align: middle;\n",
              "    }\n",
              "\n",
              "    .dataframe tbody tr th {\n",
              "        vertical-align: top;\n",
              "    }\n",
              "\n",
              "    .dataframe thead th {\n",
              "        text-align: right;\n",
              "    }\n",
              "</style>\n",
              "<table border=\"1\" class=\"dataframe\">\n",
              "  <thead>\n",
              "    <tr style=\"text-align: right;\">\n",
              "      <th></th>\n",
              "      <th>DATA INICIAL</th>\n",
              "      <th>DATA FINAL</th>\n",
              "      <th>REGIÃO</th>\n",
              "      <th>ESTADO</th>\n",
              "      <th>PRODUTO</th>\n",
              "      <th>NÚMERO DE POSTOS PESQUISADOS</th>\n",
              "      <th>UNIDADE DE MEDIDA</th>\n",
              "      <th>PREÇO MÉDIO REVENDA</th>\n",
              "      <th>DESVIO PADRÃO REVENDA</th>\n",
              "      <th>PREÇO MÍNIMO REVENDA</th>\n",
              "      <th>PREÇO MÁXIMO REVENDA</th>\n",
              "      <th>MARGEM MÉDIA REVENDA</th>\n",
              "      <th>COEF DE VARIAÇÃO REVENDA</th>\n",
              "      <th>PREÇO MÉDIO DISTRIBUIÇÃO</th>\n",
              "      <th>DESVIO PADRÃO DISTRIBUIÇÃO</th>\n",
              "      <th>PREÇO MÍNIMO DISTRIBUIÇÃO</th>\n",
              "      <th>PREÇO MÁXIMO DISTRIBUIÇÃO</th>\n",
              "      <th>COEF DE VARIAÇÃO DISTRIBUIÇÃO</th>\n",
              "    </tr>\n",
              "  </thead>\n",
              "  <tbody>\n",
              "    <tr>\n",
              "      <th>0</th>\n",
              "      <td>2004-05-09</td>\n",
              "      <td>2004-05-15</td>\n",
              "      <td>CENTRO OESTE</td>\n",
              "      <td>DISTRITO FEDERAL</td>\n",
              "      <td>ETANOL HIDRATADO</td>\n",
              "      <td>127</td>\n",
              "      <td>R$/l</td>\n",
              "      <td>1.288</td>\n",
              "      <td>0.016</td>\n",
              "      <td>1.190</td>\n",
              "      <td>1.350</td>\n",
              "      <td>0.463</td>\n",
              "      <td>0.012</td>\n",
              "      <td>0.825</td>\n",
              "      <td>0.11</td>\n",
              "      <td>0.4201</td>\n",
              "      <td>0.9666</td>\n",
              "      <td>0.133</td>\n",
              "    </tr>\n",
              "    <tr>\n",
              "      <th>1</th>\n",
              "      <td>2004-05-09</td>\n",
              "      <td>2004-05-15</td>\n",
              "      <td>CENTRO OESTE</td>\n",
              "      <td>GOIAS</td>\n",
              "      <td>ETANOL HIDRATADO</td>\n",
              "      <td>387</td>\n",
              "      <td>R$/l</td>\n",
              "      <td>1.162</td>\n",
              "      <td>0.114</td>\n",
              "      <td>0.890</td>\n",
              "      <td>1.449</td>\n",
              "      <td>0.399</td>\n",
              "      <td>0.098</td>\n",
              "      <td>0.763</td>\n",
              "      <td>0.088</td>\n",
              "      <td>0.5013</td>\n",
              "      <td>01.05</td>\n",
              "      <td>0.115</td>\n",
              "    </tr>\n",
              "    <tr>\n",
              "      <th>2</th>\n",
              "      <td>2004-05-09</td>\n",
              "      <td>2004-05-15</td>\n",
              "      <td>CENTRO OESTE</td>\n",
              "      <td>MATO GROSSO</td>\n",
              "      <td>ETANOL HIDRATADO</td>\n",
              "      <td>192</td>\n",
              "      <td>R$/l</td>\n",
              "      <td>1.389</td>\n",
              "      <td>0.097</td>\n",
              "      <td>1.180</td>\n",
              "      <td>1.760</td>\n",
              "      <td>0.419</td>\n",
              "      <td>0.070</td>\n",
              "      <td>0.97</td>\n",
              "      <td>0.095</td>\n",
              "      <td>0.5614</td>\n",
              "      <td>1.161</td>\n",
              "      <td>0.098</td>\n",
              "    </tr>\n",
              "    <tr>\n",
              "      <th>3</th>\n",
              "      <td>2004-05-09</td>\n",
              "      <td>2004-05-15</td>\n",
              "      <td>CENTRO OESTE</td>\n",
              "      <td>MATO GROSSO DO SUL</td>\n",
              "      <td>ETANOL HIDRATADO</td>\n",
              "      <td>162</td>\n",
              "      <td>R$/l</td>\n",
              "      <td>1.262</td>\n",
              "      <td>0.070</td>\n",
              "      <td>1.090</td>\n",
              "      <td>1.509</td>\n",
              "      <td>0.432</td>\n",
              "      <td>0.055</td>\n",
              "      <td>0.83</td>\n",
              "      <td>0.119</td>\n",
              "      <td>0.5991</td>\n",
              "      <td>1.22242</td>\n",
              "      <td>0.143</td>\n",
              "    </tr>\n",
              "    <tr>\n",
              "      <th>4</th>\n",
              "      <td>2004-05-09</td>\n",
              "      <td>2004-05-15</td>\n",
              "      <td>NORDESTE</td>\n",
              "      <td>ALAGOAS</td>\n",
              "      <td>ETANOL HIDRATADO</td>\n",
              "      <td>103</td>\n",
              "      <td>R$/l</td>\n",
              "      <td>1.181</td>\n",
              "      <td>0.078</td>\n",
              "      <td>1.050</td>\n",
              "      <td>1.400</td>\n",
              "      <td>0.24</td>\n",
              "      <td>0.066</td>\n",
              "      <td>0.941</td>\n",
              "      <td>0.077</td>\n",
              "      <td>0.7441</td>\n",
              "      <td>1.0317</td>\n",
              "      <td>0.082</td>\n",
              "    </tr>\n",
              "    <tr>\n",
              "      <th>5</th>\n",
              "      <td>2004-05-09</td>\n",
              "      <td>2004-05-15</td>\n",
              "      <td>NORDESTE</td>\n",
              "      <td>BAHIA</td>\n",
              "      <td>ETANOL HIDRATADO</td>\n",
              "      <td>408</td>\n",
              "      <td>R$/l</td>\n",
              "      <td>1.383</td>\n",
              "      <td>0.132</td>\n",
              "      <td>0.999</td>\n",
              "      <td>2.050</td>\n",
              "      <td>0.426</td>\n",
              "      <td>0.095</td>\n",
              "      <td>0.957</td>\n",
              "      <td>0.128</td>\n",
              "      <td>0.5686</td>\n",
              "      <td>1.35</td>\n",
              "      <td>0.134</td>\n",
              "    </tr>\n",
              "    <tr>\n",
              "      <th>6</th>\n",
              "      <td>2004-05-09</td>\n",
              "      <td>2004-05-15</td>\n",
              "      <td>NORDESTE</td>\n",
              "      <td>CEARA</td>\n",
              "      <td>ETANOL HIDRATADO</td>\n",
              "      <td>278</td>\n",
              "      <td>R$/l</td>\n",
              "      <td>1.453</td>\n",
              "      <td>0.218</td>\n",
              "      <td>1.030</td>\n",
              "      <td>1.950</td>\n",
              "      <td>0.353</td>\n",
              "      <td>0.150</td>\n",
              "      <td>1.1</td>\n",
              "      <td>0.068</td>\n",
              "      <td>0.7332</td>\n",
              "      <td>1.294</td>\n",
              "      <td>0.062</td>\n",
              "    </tr>\n",
              "    <tr>\n",
              "      <th>7</th>\n",
              "      <td>2004-05-09</td>\n",
              "      <td>2004-05-15</td>\n",
              "      <td>NORDESTE</td>\n",
              "      <td>MARANHAO</td>\n",
              "      <td>ETANOL HIDRATADO</td>\n",
              "      <td>105</td>\n",
              "      <td>R$/l</td>\n",
              "      <td>1.631</td>\n",
              "      <td>0.158</td>\n",
              "      <td>1.350</td>\n",
              "      <td>2.000</td>\n",
              "      <td>0.515</td>\n",
              "      <td>0.097</td>\n",
              "      <td>1.116</td>\n",
              "      <td>0.091</td>\n",
              "      <td>0.9923</td>\n",
              "      <td>1.36183</td>\n",
              "      <td>0.082</td>\n",
              "    </tr>\n",
              "    <tr>\n",
              "      <th>8</th>\n",
              "      <td>2004-05-09</td>\n",
              "      <td>2004-05-15</td>\n",
              "      <td>NORDESTE</td>\n",
              "      <td>PARAIBA</td>\n",
              "      <td>ETANOL HIDRATADO</td>\n",
              "      <td>125</td>\n",
              "      <td>R$/l</td>\n",
              "      <td>1.284</td>\n",
              "      <td>0.130</td>\n",
              "      <td>1.100</td>\n",
              "      <td>1.699</td>\n",
              "      <td>0.353</td>\n",
              "      <td>0.101</td>\n",
              "      <td>0.931</td>\n",
              "      <td>0.072</td>\n",
              "      <td>0.7577</td>\n",
              "      <td>1.2972</td>\n",
              "      <td>0.077</td>\n",
              "    </tr>\n",
              "    <tr>\n",
              "      <th>9</th>\n",
              "      <td>2004-05-09</td>\n",
              "      <td>2004-05-15</td>\n",
              "      <td>NORDESTE</td>\n",
              "      <td>PERNAMBUCO</td>\n",
              "      <td>ETANOL HIDRATADO</td>\n",
              "      <td>423</td>\n",
              "      <td>R$/l</td>\n",
              "      <td>1.224</td>\n",
              "      <td>0.141</td>\n",
              "      <td>0.989</td>\n",
              "      <td>1.700</td>\n",
              "      <td>0.277</td>\n",
              "      <td>0.115</td>\n",
              "      <td>0.947</td>\n",
              "      <td>0.091</td>\n",
              "      <td>0.5643</td>\n",
              "      <td>1.3541</td>\n",
              "      <td>0.096</td>\n",
              "    </tr>\n",
              "  </tbody>\n",
              "</table>\n",
              "</div>\n",
              "      <button class=\"colab-df-convert\" onclick=\"convertToInteractive('df-90dfcd4f-b26b-4c3c-a2a1-cde3a4422355')\"\n",
              "              title=\"Convert this dataframe to an interactive table.\"\n",
              "              style=\"display:none;\">\n",
              "\n",
              "  <svg xmlns=\"http://www.w3.org/2000/svg\" height=\"24px\"viewBox=\"0 0 24 24\"\n",
              "       width=\"24px\">\n",
              "    <path d=\"M0 0h24v24H0V0z\" fill=\"none\"/>\n",
              "    <path d=\"M18.56 5.44l.94 2.06.94-2.06 2.06-.94-2.06-.94-.94-2.06-.94 2.06-2.06.94zm-11 1L8.5 8.5l.94-2.06 2.06-.94-2.06-.94L8.5 2.5l-.94 2.06-2.06.94zm10 10l.94 2.06.94-2.06 2.06-.94-2.06-.94-.94-2.06-.94 2.06-2.06.94z\"/><path d=\"M17.41 7.96l-1.37-1.37c-.4-.4-.92-.59-1.43-.59-.52 0-1.04.2-1.43.59L10.3 9.45l-7.72 7.72c-.78.78-.78 2.05 0 2.83L4 21.41c.39.39.9.59 1.41.59.51 0 1.02-.2 1.41-.59l7.78-7.78 2.81-2.81c.8-.78.8-2.07 0-2.86zM5.41 20L4 18.59l7.72-7.72 1.47 1.35L5.41 20z\"/>\n",
              "  </svg>\n",
              "      </button>\n",
              "\n",
              "\n",
              "\n",
              "    <div id=\"df-1a861ba7-ea6f-4264-9299-d4c2b0baaa13\">\n",
              "      <button class=\"colab-df-quickchart\" onclick=\"quickchart('df-1a861ba7-ea6f-4264-9299-d4c2b0baaa13')\"\n",
              "              title=\"Suggest charts.\"\n",
              "              style=\"display:none;\">\n",
              "\n",
              "<svg xmlns=\"http://www.w3.org/2000/svg\" height=\"24px\"viewBox=\"0 0 24 24\"\n",
              "     width=\"24px\">\n",
              "    <g>\n",
              "        <path d=\"M19 3H5c-1.1 0-2 .9-2 2v14c0 1.1.9 2 2 2h14c1.1 0 2-.9 2-2V5c0-1.1-.9-2-2-2zM9 17H7v-7h2v7zm4 0h-2V7h2v10zm4 0h-2v-4h2v4z\"/>\n",
              "    </g>\n",
              "</svg>\n",
              "      </button>\n",
              "    </div>\n",
              "\n",
              "<style>\n",
              "  .colab-df-quickchart {\n",
              "    background-color: #E8F0FE;\n",
              "    border: none;\n",
              "    border-radius: 50%;\n",
              "    cursor: pointer;\n",
              "    display: none;\n",
              "    fill: #1967D2;\n",
              "    height: 32px;\n",
              "    padding: 0 0 0 0;\n",
              "    width: 32px;\n",
              "  }\n",
              "\n",
              "  .colab-df-quickchart:hover {\n",
              "    background-color: #E2EBFA;\n",
              "    box-shadow: 0px 1px 2px rgba(60, 64, 67, 0.3), 0px 1px 3px 1px rgba(60, 64, 67, 0.15);\n",
              "    fill: #174EA6;\n",
              "  }\n",
              "\n",
              "  [theme=dark] .colab-df-quickchart {\n",
              "    background-color: #3B4455;\n",
              "    fill: #D2E3FC;\n",
              "  }\n",
              "\n",
              "  [theme=dark] .colab-df-quickchart:hover {\n",
              "    background-color: #434B5C;\n",
              "    box-shadow: 0px 1px 3px 1px rgba(0, 0, 0, 0.15);\n",
              "    filter: drop-shadow(0px 1px 2px rgba(0, 0, 0, 0.3));\n",
              "    fill: #FFFFFF;\n",
              "  }\n",
              "</style>\n",
              "\n",
              "    <script>\n",
              "      async function quickchart(key) {\n",
              "        const containerElement = document.querySelector('#' + key);\n",
              "        const charts = await google.colab.kernel.invokeFunction(\n",
              "            'suggestCharts', [key], {});\n",
              "      }\n",
              "    </script>\n",
              "\n",
              "\n",
              "      <script>\n",
              "\n",
              "function displayQuickchartButton(domScope) {\n",
              "  let quickchartButtonEl =\n",
              "    domScope.querySelector('#df-1a861ba7-ea6f-4264-9299-d4c2b0baaa13 button.colab-df-quickchart');\n",
              "  quickchartButtonEl.style.display =\n",
              "    google.colab.kernel.accessAllowed ? 'block' : 'none';\n",
              "}\n",
              "\n",
              "        displayQuickchartButton(document);\n",
              "      </script>\n",
              "      <style>\n",
              "    .colab-df-container {\n",
              "      display:flex;\n",
              "      flex-wrap:wrap;\n",
              "      gap: 12px;\n",
              "    }\n",
              "\n",
              "    .colab-df-convert {\n",
              "      background-color: #E8F0FE;\n",
              "      border: none;\n",
              "      border-radius: 50%;\n",
              "      cursor: pointer;\n",
              "      display: none;\n",
              "      fill: #1967D2;\n",
              "      height: 32px;\n",
              "      padding: 0 0 0 0;\n",
              "      width: 32px;\n",
              "    }\n",
              "\n",
              "    .colab-df-convert:hover {\n",
              "      background-color: #E2EBFA;\n",
              "      box-shadow: 0px 1px 2px rgba(60, 64, 67, 0.3), 0px 1px 3px 1px rgba(60, 64, 67, 0.15);\n",
              "      fill: #174EA6;\n",
              "    }\n",
              "\n",
              "    [theme=dark] .colab-df-convert {\n",
              "      background-color: #3B4455;\n",
              "      fill: #D2E3FC;\n",
              "    }\n",
              "\n",
              "    [theme=dark] .colab-df-convert:hover {\n",
              "      background-color: #434B5C;\n",
              "      box-shadow: 0px 1px 3px 1px rgba(0, 0, 0, 0.15);\n",
              "      filter: drop-shadow(0px 1px 2px rgba(0, 0, 0, 0.3));\n",
              "      fill: #FFFFFF;\n",
              "    }\n",
              "  </style>\n",
              "\n",
              "      <script>\n",
              "        const buttonEl =\n",
              "          document.querySelector('#df-90dfcd4f-b26b-4c3c-a2a1-cde3a4422355 button.colab-df-convert');\n",
              "        buttonEl.style.display =\n",
              "          google.colab.kernel.accessAllowed ? 'block' : 'none';\n",
              "\n",
              "        async function convertToInteractive(key) {\n",
              "          const element = document.querySelector('#df-90dfcd4f-b26b-4c3c-a2a1-cde3a4422355');\n",
              "          const dataTable =\n",
              "            await google.colab.kernel.invokeFunction('convertToInteractive',\n",
              "                                                     [key], {});\n",
              "          if (!dataTable) return;\n",
              "\n",
              "          const docLinkHtml = 'Like what you see? Visit the ' +\n",
              "            '<a target=\"_blank\" href=https://colab.research.google.com/notebooks/data_table.ipynb>data table notebook</a>'\n",
              "            + ' to learn more about interactive tables.';\n",
              "          element.innerHTML = '';\n",
              "          dataTable['output_type'] = 'display_data';\n",
              "          await google.colab.output.renderOutput(dataTable, element);\n",
              "          const docLink = document.createElement('div');\n",
              "          docLink.innerHTML = docLinkHtml;\n",
              "          element.appendChild(docLink);\n",
              "        }\n",
              "      </script>\n",
              "    </div>\n",
              "  </div>\n"
            ]
          },
          "metadata": {},
          "execution_count": 570
        }
      ],
      "source": [
        "#Abrindo a base de dados .csv\n",
        "df_base = pd.read_csv('/content/drive/MyDrive/Colab Notebooks/TPI (PY) - Projeto Final/2004-2021.csv')\n",
        "\n",
        "#Realizando uma rápida observação dos dados\n",
        "df_base.head(10)"
      ]
    },
    {
      "cell_type": "markdown",
      "source": [
        "##Pré Análise dos Dados"
      ],
      "metadata": {
        "id": "zrUfEJ9ZEbX_"
      }
    },
    {
      "cell_type": "code",
      "source": [
        "#Verificando o tamanho do nosso dataset\n",
        "df_base.shape"
      ],
      "metadata": {
        "colab": {
          "base_uri": "https://localhost:8080/"
        },
        "id": "SM2nCDviEjpG",
        "outputId": "053da7ef-bae3-4fdf-f0fd-b9a8b73cf578"
      },
      "execution_count": 571,
      "outputs": [
        {
          "output_type": "execute_result",
          "data": {
            "text/plain": [
              "(120823, 18)"
            ]
          },
          "metadata": {},
          "execution_count": 571
        }
      ]
    },
    {
      "cell_type": "code",
      "source": [
        "#Verificando as colunas existentes no dataset\n",
        "df_base.columns"
      ],
      "metadata": {
        "colab": {
          "base_uri": "https://localhost:8080/"
        },
        "id": "acwM6ipSEq5V",
        "outputId": "56a07363-ba9e-4a38-f0ac-1d3d169f6ed8"
      },
      "execution_count": 572,
      "outputs": [
        {
          "output_type": "execute_result",
          "data": {
            "text/plain": [
              "Index(['DATA INICIAL', 'DATA FINAL', 'REGIÃO', 'ESTADO', 'PRODUTO',\n",
              "       'NÚMERO DE POSTOS PESQUISADOS', 'UNIDADE DE MEDIDA',\n",
              "       'PREÇO MÉDIO REVENDA', 'DESVIO PADRÃO REVENDA', 'PREÇO MÍNIMO REVENDA',\n",
              "       'PREÇO MÁXIMO REVENDA', 'MARGEM MÉDIA REVENDA',\n",
              "       'COEF DE VARIAÇÃO REVENDA', 'PREÇO MÉDIO DISTRIBUIÇÃO',\n",
              "       'DESVIO PADRÃO DISTRIBUIÇÃO', 'PREÇO MÍNIMO DISTRIBUIÇÃO',\n",
              "       'PREÇO MÁXIMO DISTRIBUIÇÃO', 'COEF DE VARIAÇÃO DISTRIBUIÇÃO'],\n",
              "      dtype='object')"
            ]
          },
          "metadata": {},
          "execution_count": 572
        }
      ]
    },
    {
      "cell_type": "code",
      "source": [
        "COLUNAS = ['DATA INICIAL', 'DATA FINAL', 'REGIÃO', 'ESTADO', 'PRODUTO', 'NÚMERO DE POSTOS PESQUISADOS',\n",
        "           'UNIDADE DE MEDIDA', 'PREÇO MÉDIO REVENDA', 'DESVIO PADRÃO REVENDA', 'PREÇO MÍNIMO REVENDA',\n",
        "           'PREÇO MÁXIMO REVENDA', 'MARGEM MÉDIA REVENDA', 'COEF DE VARIAÇÃO REVENDA', 'PREÇO MÉDIO DISTRIBUIÇÃO',\n",
        "           'DESVIO PADRÃO DISTRIBUIÇÃO', 'PREÇO MÍNIMO DISTRIBUIÇÃO', 'PREÇO MÁXIMO DISTRIBUIÇÃO',\n",
        "           'COEF DE VARIAÇÃO DISTRIBUIÇÃO']"
      ],
      "metadata": {
        "id": "6e2KWJ-SEsoD"
      },
      "execution_count": 573,
      "outputs": []
    },
    {
      "cell_type": "markdown",
      "source": [
        "Não foi possível visualizar em df.head() se o dataset possui células vazias ou nulas. Para isto, iremos utilizar o comando isna(), isnull() e somar por coluna."
      ],
      "metadata": {
        "id": "P93gBcEwFqWR"
      }
    },
    {
      "cell_type": "code",
      "source": [
        "#Verificando se o dataset possui células:\n",
        "#   * NaN se o tipo de dado for numérico\n",
        "#   * None ou NaN se o tipo de dado for objeto\n",
        "#   * NaT se o tipo de dado for data\n",
        "#df_base.isna().sum()\n",
        "\n",
        "#Verificando se o dataset possui células:\n",
        "#   * None ou numpy.NaN.\n",
        "\n",
        "#OBS: Células do tipo '' ou numpy.inf não são mapadas por essa função a menos que o comando abaixo seja rodado:\n",
        "#pd.options.mode.use_inf_as_na = True\n",
        "df_base.isnull().sum()"
      ],
      "metadata": {
        "colab": {
          "base_uri": "https://localhost:8080/"
        },
        "id": "OjPYsLIpFuwk",
        "outputId": "9304b4b5-9738-4d23-ced1-313383df08f8"
      },
      "execution_count": 574,
      "outputs": [
        {
          "output_type": "execute_result",
          "data": {
            "text/plain": [
              "DATA INICIAL                     0\n",
              "DATA FINAL                       0\n",
              "REGIÃO                           0\n",
              "ESTADO                           0\n",
              "PRODUTO                          0\n",
              "NÚMERO DE POSTOS PESQUISADOS     0\n",
              "UNIDADE DE MEDIDA                0\n",
              "PREÇO MÉDIO REVENDA              0\n",
              "DESVIO PADRÃO REVENDA            0\n",
              "PREÇO MÍNIMO REVENDA             0\n",
              "PREÇO MÁXIMO REVENDA             0\n",
              "MARGEM MÉDIA REVENDA             0\n",
              "COEF DE VARIAÇÃO REVENDA         0\n",
              "PREÇO MÉDIO DISTRIBUIÇÃO         0\n",
              "DESVIO PADRÃO DISTRIBUIÇÃO       0\n",
              "PREÇO MÍNIMO DISTRIBUIÇÃO        0\n",
              "PREÇO MÁXIMO DISTRIBUIÇÃO        0\n",
              "COEF DE VARIAÇÃO DISTRIBUIÇÃO    0\n",
              "dtype: int64"
            ]
          },
          "metadata": {},
          "execution_count": 574
        }
      ]
    },
    {
      "cell_type": "code",
      "source": [
        "#Verificando se o dataset possui células:\n",
        "#   * None ou numpy.NaN ou '' ou nump.inf.\n",
        "pd.options.mode.use_inf_as_na = True\n",
        "df_base.isnull().sum()"
      ],
      "metadata": {
        "colab": {
          "base_uri": "https://localhost:8080/"
        },
        "id": "ViId4y65FyVV",
        "outputId": "d477ddda-48cf-4ac0-875e-0a6539e82d8f"
      },
      "execution_count": 575,
      "outputs": [
        {
          "output_type": "execute_result",
          "data": {
            "text/plain": [
              "DATA INICIAL                     0\n",
              "DATA FINAL                       0\n",
              "REGIÃO                           0\n",
              "ESTADO                           0\n",
              "PRODUTO                          0\n",
              "NÚMERO DE POSTOS PESQUISADOS     0\n",
              "UNIDADE DE MEDIDA                0\n",
              "PREÇO MÉDIO REVENDA              0\n",
              "DESVIO PADRÃO REVENDA            0\n",
              "PREÇO MÍNIMO REVENDA             0\n",
              "PREÇO MÁXIMO REVENDA             0\n",
              "MARGEM MÉDIA REVENDA             0\n",
              "COEF DE VARIAÇÃO REVENDA         0\n",
              "PREÇO MÉDIO DISTRIBUIÇÃO         0\n",
              "DESVIO PADRÃO DISTRIBUIÇÃO       0\n",
              "PREÇO MÍNIMO DISTRIBUIÇÃO        0\n",
              "PREÇO MÁXIMO DISTRIBUIÇÃO        0\n",
              "COEF DE VARIAÇÃO DISTRIBUIÇÃO    0\n",
              "dtype: int64"
            ]
          },
          "metadata": {},
          "execution_count": 575
        }
      ]
    },
    {
      "cell_type": "markdown",
      "source": [
        "Todas as colunas não possuem valores nulos."
      ],
      "metadata": {
        "id": "Aar3nWMuF9Fv"
      }
    },
    {
      "cell_type": "code",
      "source": [
        "#Seguindo recomendação da fonte as datas deverão ser a partirdo dia 31/10/2004\n",
        "filtro_data = df_base['DATA INICIAL'] >= '2004-10-31'\n",
        "df_base = df_base[filtro_data]\n",
        "\n",
        "#Verificando o tamanho do nosso dataset após o filtro\n",
        "df_base.shape"
      ],
      "metadata": {
        "colab": {
          "base_uri": "https://localhost:8080/"
        },
        "id": "SqKVfvShgwI7",
        "outputId": "66290ab2-a526-4890-8ada-1cf6bd19dfb2"
      },
      "execution_count": 576,
      "outputs": [
        {
          "output_type": "execute_result",
          "data": {
            "text/plain": [
              "(117734, 18)"
            ]
          },
          "metadata": {},
          "execution_count": 576
        }
      ]
    },
    {
      "cell_type": "markdown",
      "source": [
        "Com a aplicação do filtro, foram removidas 3089 linhas."
      ],
      "metadata": {
        "id": "HzxOSHgLiq9q"
      }
    },
    {
      "cell_type": "code",
      "source": [
        "#Analisando a quantidade de valores únicos para as colunas\n",
        "#'DATA INICIAL', 'DATA FINAL', 'REGIÃO', 'ESTADO', 'PRODUTO', 'UNIDADE DE MEDIDA'\n",
        "\n",
        "for i in [0, 1, 2, 3, 4, 6]:\n",
        "  coluna = df_base[COLUNAS[i]].unique()\n",
        "  tamanho = len(coluna)\n",
        "  print(f'{COLUNAS[i]} tem {tamanho} valores únicos')"
      ],
      "metadata": {
        "colab": {
          "base_uri": "https://localhost:8080/"
        },
        "id": "mOBO73muFHwe",
        "outputId": "623d09bb-699c-4705-bdfe-73cb6ef47de5"
      },
      "execution_count": 577,
      "outputs": [
        {
          "output_type": "stream",
          "name": "stdout",
          "text": [
            "DATA INICIAL tem 848 valores únicos\n",
            "DATA FINAL tem 848 valores únicos\n",
            "REGIÃO tem 5 valores únicos\n",
            "ESTADO tem 27 valores únicos\n",
            "PRODUTO tem 9 valores únicos\n",
            "UNIDADE DE MEDIDA tem 3 valores únicos\n"
          ]
        }
      ]
    },
    {
      "cell_type": "code",
      "source": [
        "df_base['REGIÃO'].value_counts()"
      ],
      "metadata": {
        "colab": {
          "base_uri": "https://localhost:8080/"
        },
        "id": "stpu5oPCPa0Y",
        "outputId": "452b079c-d48b-4b9e-853a-8afceac93f55"
      },
      "execution_count": 578,
      "outputs": [
        {
          "output_type": "execute_result",
          "data": {
            "text/plain": [
              "NORDESTE        40582\n",
              "NORTE           27289\n",
              "SUDESTE         18770\n",
              "CENTRO OESTE    17024\n",
              "SUL             14069\n",
              "Name: REGIÃO, dtype: int64"
            ]
          },
          "metadata": {},
          "execution_count": 578
        }
      ]
    },
    {
      "cell_type": "code",
      "source": [
        "df_base['ESTADO'].value_counts()"
      ],
      "metadata": {
        "colab": {
          "base_uri": "https://localhost:8080/"
        },
        "id": "tusfKBJBPo71",
        "outputId": "073bef53-06d7-4f0e-f750-499f7331533c"
      },
      "execution_count": 579,
      "outputs": [
        {
          "output_type": "execute_result",
          "data": {
            "text/plain": [
              "PARAIBA                4694\n",
              "RIO DE JANEIRO         4694\n",
              "SAO PAULO              4694\n",
              "RIO GRANDE DO SUL      4694\n",
              "BAHIA                  4694\n",
              "SANTA CATARINA         4693\n",
              "RIO GRANDE DO NORTE    4693\n",
              "MINAS GERAIS           4692\n",
              "ESPIRITO SANTO         4690\n",
              "PERNAMBUCO             4688\n",
              "CEARA                  4688\n",
              "PARANA                 4682\n",
              "ALAGOAS                4681\n",
              "SERGIPE                4670\n",
              "MATO GROSSO DO SUL     4668\n",
              "MATO GROSSO            4466\n",
              "AMAZONAS               4314\n",
              "GOIAS                  4034\n",
              "PIAUI                  3903\n",
              "MARANHAO               3871\n",
              "DISTRITO FEDERAL       3856\n",
              "PARA                   3855\n",
              "TOCANTINS              3853\n",
              "RONDONIA               3850\n",
              "ACRE                   3848\n",
              "RORAIMA                3838\n",
              "AMAPA                  3731\n",
              "Name: ESTADO, dtype: int64"
            ]
          },
          "metadata": {},
          "execution_count": 579
        }
      ]
    },
    {
      "cell_type": "markdown",
      "source": [
        "Os dados estão bem distibuídos pelos estados."
      ],
      "metadata": {
        "id": "_KAKJ2-3Qhz0"
      }
    },
    {
      "cell_type": "code",
      "source": [
        "df_base['PRODUTO'].value_counts()"
      ],
      "metadata": {
        "colab": {
          "base_uri": "https://localhost:8080/"
        },
        "id": "AVShQrSDPwWv",
        "outputId": "2c76078c-50f0-404d-c379-0b37e02c5cee"
      },
      "execution_count": 580,
      "outputs": [
        {
          "output_type": "execute_result",
          "data": {
            "text/plain": [
              "GASOLINA COMUM        22895\n",
              "GLP                   22886\n",
              "ETANOL HIDRATADO      22765\n",
              "ÓLEO DIESEL           20519\n",
              "GNV                   14080\n",
              "ÓLEO DIESEL S10        9113\n",
              "OLEO DIESEL S10        2376\n",
              "OLEO DIESEL            2351\n",
              "GASOLINA ADITIVADA      749\n",
              "Name: PRODUTO, dtype: int64"
            ]
          },
          "metadata": {},
          "execution_count": 580
        }
      ]
    },
    {
      "cell_type": "markdown",
      "source": [
        "Precisa dar uma tratada na coluna PRODUTO e como observação, a Gasolina Aditivada não estava mapeada na fonte."
      ],
      "metadata": {
        "id": "_ttSzmyQj8_b"
      }
    },
    {
      "cell_type": "markdown",
      "source": [
        "Antes de continuar, vamos agrupar os PRODUTOS que deveriam ser iguais."
      ],
      "metadata": {
        "id": "hqnp7pJ6lRMg"
      }
    },
    {
      "cell_type": "code",
      "source": [
        "df_base['PRODUTO'] = df_base['PRODUTO'].replace(['ÓLEO DIESEL S10'], 'OLEO DIESEL S10')\n",
        "df_base['PRODUTO'] = df_base['PRODUTO'].replace(['ÓLEO DIESEL'], 'OLEO DIESEL')\n",
        "\n",
        "df_base['PRODUTO'].value_counts()"
      ],
      "metadata": {
        "colab": {
          "base_uri": "https://localhost:8080/"
        },
        "id": "LZfGSYPNlLkA",
        "outputId": "d70b0965-8edf-41e9-becc-dfd8034a737b"
      },
      "execution_count": 581,
      "outputs": [
        {
          "output_type": "execute_result",
          "data": {
            "text/plain": [
              "GASOLINA COMUM        22895\n",
              "GLP                   22886\n",
              "OLEO DIESEL           22870\n",
              "ETANOL HIDRATADO      22765\n",
              "GNV                   14080\n",
              "OLEO DIESEL S10       11489\n",
              "GASOLINA ADITIVADA      749\n",
              "Name: PRODUTO, dtype: int64"
            ]
          },
          "metadata": {},
          "execution_count": 581
        }
      ]
    },
    {
      "cell_type": "code",
      "source": [
        "df_base['UNIDADE DE MEDIDA'].value_counts()"
      ],
      "metadata": {
        "colab": {
          "base_uri": "https://localhost:8080/"
        },
        "id": "7mKVIqT-QBQZ",
        "outputId": "007220a5-4611-4af0-abd2-3d91da3f9326"
      },
      "execution_count": 582,
      "outputs": [
        {
          "output_type": "execute_result",
          "data": {
            "text/plain": [
              "R$/l       80768\n",
              "R$/13Kg    22886\n",
              "R$/m3      14080\n",
              "Name: UNIDADE DE MEDIDA, dtype: int64"
            ]
          },
          "metadata": {},
          "execution_count": 582
        }
      ]
    },
    {
      "cell_type": "markdown",
      "source": [
        "Tem que tomar cuidado quando for comparar"
      ],
      "metadata": {
        "id": "ZjE4rnmzQ-cM"
      }
    },
    {
      "cell_type": "markdown",
      "source": [
        "##Tratamento dos Dados"
      ],
      "metadata": {
        "id": "i18zuWeIEOv3"
      }
    },
    {
      "cell_type": "code",
      "execution_count": 583,
      "metadata": {
        "colab": {
          "base_uri": "https://localhost:8080/"
        },
        "id": "HA0TMIL8Wh60",
        "outputId": "f845ecaa-695f-4673-fcb1-13b98e42dd80"
      },
      "outputs": [
        {
          "output_type": "stream",
          "name": "stdout",
          "text": [
            "<class 'pandas.core.frame.DataFrame'>\n",
            "Int64Index: 117734 entries, 675 to 120822\n",
            "Data columns (total 18 columns):\n",
            " #   Column                         Non-Null Count   Dtype  \n",
            "---  ------                         --------------   -----  \n",
            " 0   DATA INICIAL                   117734 non-null  object \n",
            " 1   DATA FINAL                     117734 non-null  object \n",
            " 2   REGIÃO                         117734 non-null  object \n",
            " 3   ESTADO                         117734 non-null  object \n",
            " 4   PRODUTO                        117734 non-null  object \n",
            " 5   NÚMERO DE POSTOS PESQUISADOS   117734 non-null  int64  \n",
            " 6   UNIDADE DE MEDIDA              117734 non-null  object \n",
            " 7   PREÇO MÉDIO REVENDA            117734 non-null  float64\n",
            " 8   DESVIO PADRÃO REVENDA          117734 non-null  float64\n",
            " 9   PREÇO MÍNIMO REVENDA           117734 non-null  float64\n",
            " 10  PREÇO MÁXIMO REVENDA           117734 non-null  float64\n",
            " 11  MARGEM MÉDIA REVENDA           117734 non-null  object \n",
            " 12  COEF DE VARIAÇÃO REVENDA       117734 non-null  float64\n",
            " 13  PREÇO MÉDIO DISTRIBUIÇÃO       117734 non-null  object \n",
            " 14  DESVIO PADRÃO DISTRIBUIÇÃO     117734 non-null  object \n",
            " 15  PREÇO MÍNIMO DISTRIBUIÇÃO      117734 non-null  object \n",
            " 16  PREÇO MÁXIMO DISTRIBUIÇÃO      117734 non-null  object \n",
            " 17  COEF DE VARIAÇÃO DISTRIBUIÇÃO  117734 non-null  object \n",
            "dtypes: float64(5), int64(1), object(12)\n",
            "memory usage: 17.1+ MB\n"
          ]
        }
      ],
      "source": [
        "#Analisando os tipos de variáveis das colunas\n",
        "df = df_base.copy()\n",
        "df.info()"
      ]
    },
    {
      "cell_type": "markdown",
      "source": [
        "Note que algumas colunas que deveriam ser numéricas estão como object.\n",
        "\n",
        "EXEMPLO:\n",
        "* MARGEM MÉDIA REVENDA\n",
        "* PREÇO MÉDIO DISTRIBUIÇÃO\n",
        "* DESVIO PADRÃO DISTRIBUIÇÃO\n",
        "* PREÇO MÍNIMO DISTRIBUIÇÃO\n",
        "* PREÇO MÁXIMO DISTRIBUIÇÃO\n",
        "* COEF DE VARIAÇÃO DISTRIBUIÇÃO\n",
        "\n",
        "Será feita a conversão das mesmas."
      ],
      "metadata": {
        "id": "GT3KkZbQ1EL3"
      }
    },
    {
      "cell_type": "code",
      "source": [
        "#Convertendo para numérico (float neste caso) e coagindo quando necessário\n",
        "LISTA_NOME_COLUNAS_CONVERTIDAS = [\"MARGEM MÉDIA REVENDA\", \"PREÇO MÉDIO DISTRIBUIÇÃO\", \"DESVIO PADRÃO DISTRIBUIÇÃO\",\n",
        "                                  \"PREÇO MÍNIMO DISTRIBUIÇÃO\", \"PREÇO MÁXIMO DISTRIBUIÇÃO\", \"COEF DE VARIAÇÃO DISTRIBUIÇÃO\"]\n",
        "\n",
        "for i in range(0, len(LISTA_NOME_COLUNAS_CONVERTIDAS)):\n",
        "  nome = LISTA_NOME_COLUNAS_CONVERTIDAS[i]\n",
        "  #O coerce foi usado para converter em 'NaN' os casos em que não foi possível fazer o cast.\n",
        "  #O número a ser convertido não pode ser menor que (np.iinfo(np.int64).min)\n",
        "  # e nem maior que (np.iinfo(np.uint64).max)\n",
        "  df[nome] = pd.to_numeric(df[nome],errors='coerce')"
      ],
      "metadata": {
        "id": "HDu08j3F06OQ"
      },
      "execution_count": 584,
      "outputs": []
    },
    {
      "cell_type": "code",
      "source": [
        "pd.options.mode.use_inf_as_na = False\n",
        "df.isnull().sum()"
      ],
      "metadata": {
        "colab": {
          "base_uri": "https://localhost:8080/"
        },
        "id": "KpZ0Cz2c4qNN",
        "outputId": "2f4a2955-7920-4bd5-dd7c-3786258d3e35"
      },
      "execution_count": 585,
      "outputs": [
        {
          "output_type": "execute_result",
          "data": {
            "text/plain": [
              "DATA INICIAL                        0\n",
              "DATA FINAL                          0\n",
              "REGIÃO                              0\n",
              "ESTADO                              0\n",
              "PRODUTO                             0\n",
              "NÚMERO DE POSTOS PESQUISADOS        0\n",
              "UNIDADE DE MEDIDA                   0\n",
              "PREÇO MÉDIO REVENDA                 0\n",
              "DESVIO PADRÃO REVENDA               0\n",
              "PREÇO MÍNIMO REVENDA                0\n",
              "PREÇO MÁXIMO REVENDA                0\n",
              "MARGEM MÉDIA REVENDA             3416\n",
              "COEF DE VARIAÇÃO REVENDA            0\n",
              "PREÇO MÉDIO DISTRIBUIÇÃO         3385\n",
              "DESVIO PADRÃO DISTRIBUIÇÃO       3385\n",
              "PREÇO MÍNIMO DISTRIBUIÇÃO        3385\n",
              "PREÇO MÁXIMO DISTRIBUIÇÃO        3385\n",
              "COEF DE VARIAÇÃO DISTRIBUIÇÃO    3385\n",
              "dtype: int64"
            ]
          },
          "metadata": {},
          "execution_count": 585
        }
      ]
    },
    {
      "cell_type": "code",
      "source": [
        "pd.options.mode.use_inf_as_na = True\n",
        "df.isnull().sum()"
      ],
      "metadata": {
        "colab": {
          "base_uri": "https://localhost:8080/"
        },
        "id": "Za3x-GLl43SD",
        "outputId": "a679b89f-3a3c-4132-d0bb-3bd82a0056f9"
      },
      "execution_count": 586,
      "outputs": [
        {
          "output_type": "execute_result",
          "data": {
            "text/plain": [
              "DATA INICIAL                        0\n",
              "DATA FINAL                          0\n",
              "REGIÃO                              0\n",
              "ESTADO                              0\n",
              "PRODUTO                             0\n",
              "NÚMERO DE POSTOS PESQUISADOS        0\n",
              "UNIDADE DE MEDIDA                   0\n",
              "PREÇO MÉDIO REVENDA                 0\n",
              "DESVIO PADRÃO REVENDA               0\n",
              "PREÇO MÍNIMO REVENDA                0\n",
              "PREÇO MÁXIMO REVENDA                0\n",
              "MARGEM MÉDIA REVENDA             3416\n",
              "COEF DE VARIAÇÃO REVENDA            0\n",
              "PREÇO MÉDIO DISTRIBUIÇÃO         3385\n",
              "DESVIO PADRÃO DISTRIBUIÇÃO       3385\n",
              "PREÇO MÍNIMO DISTRIBUIÇÃO        3385\n",
              "PREÇO MÁXIMO DISTRIBUIÇÃO        3385\n",
              "COEF DE VARIAÇÃO DISTRIBUIÇÃO    3385\n",
              "dtype: int64"
            ]
          },
          "metadata": {},
          "execution_count": 586
        }
      ]
    },
    {
      "cell_type": "code",
      "source": [
        "df_base['MARGEM MÉDIA REVENDA'].value_counts()"
      ],
      "metadata": {
        "colab": {
          "base_uri": "https://localhost:8080/"
        },
        "id": "zknASyePTWaM",
        "outputId": "ff247979-c70c-4ee7-c084-74d89ff8f829"
      },
      "execution_count": 587,
      "outputs": [
        {
          "output_type": "execute_result",
          "data": {
            "text/plain": [
              "-99999.0    5517\n",
              "-           3416\n",
              "0.361        320\n",
              "0.326        311\n",
              "0.333        304\n",
              "            ... \n",
              "9.571          1\n",
              "12.499         1\n",
              "4.702          1\n",
              "7.23           1\n",
              "22.671         1\n",
              "Name: MARGEM MÉDIA REVENDA, Length: 12782, dtype: int64"
            ]
          },
          "metadata": {},
          "execution_count": 587
        }
      ]
    },
    {
      "cell_type": "markdown",
      "source": [
        "São exatamente 3431 linhas que nã puderam ser conertidas para numeric. Qual é o significado de '-'? Não há significado =/"
      ],
      "metadata": {
        "id": "HDxAjJQzTVd0"
      }
    },
    {
      "cell_type": "code",
      "source": [
        "df_base['PREÇO MÉDIO DISTRIBUIÇÃO'].value_counts()"
      ],
      "metadata": {
        "colab": {
          "base_uri": "https://localhost:8080/"
        },
        "id": "uvJyECzJTm9c",
        "outputId": "168b6cb3-12f0-44df-e44f-fdc2ffdaad31"
      },
      "execution_count": 588,
      "outputs": [
        {
          "output_type": "execute_result",
          "data": {
            "text/plain": [
              "-99999.0    5508\n",
              "-           3385\n",
              "1.283         94\n",
              "1.684         92\n",
              "1.681         92\n",
              "            ... \n",
              "36.605         1\n",
              "32.688         1\n",
              "42.69          1\n",
              "32.545         1\n",
              "51.166         1\n",
              "Name: PREÇO MÉDIO DISTRIBUIÇÃO, Length: 16942, dtype: int64"
            ]
          },
          "metadata": {},
          "execution_count": 588
        }
      ]
    },
    {
      "cell_type": "markdown",
      "source": [
        "São exatamente 3400 linhas que nã puderam ser conertidas para numeric. Qual é o significado de '-'? Não há significado =/"
      ],
      "metadata": {
        "id": "bAMOYkfRTnok"
      }
    },
    {
      "cell_type": "code",
      "source": [
        "df_base['DESVIO PADRÃO DISTRIBUIÇÃO'].value_counts()"
      ],
      "metadata": {
        "colab": {
          "base_uri": "https://localhost:8080/"
        },
        "id": "HQncEg9CT1V7",
        "outputId": "28c24b40-9157-4b86-aa83-df2010ae4e76"
      },
      "execution_count": 589,
      "outputs": [
        {
          "output_type": "execute_result",
          "data": {
            "text/plain": [
              "-99999.0    5508\n",
              "-           3385\n",
              "0           3204\n",
              "0.046       1078\n",
              "0.056       1040\n",
              "            ... \n",
              "5.446          1\n",
              "5.848          1\n",
              "4.874          1\n",
              "6.056          1\n",
              "5.442          1\n",
              "Name: DESVIO PADRÃO DISTRIBUIÇÃO, Length: 6132, dtype: int64"
            ]
          },
          "metadata": {},
          "execution_count": 589
        }
      ]
    },
    {
      "cell_type": "markdown",
      "source": [
        "São exatamente 3400 linhas que nã puderam ser conertidas para numeric. Qual é o significado de '-'? Não há significado =/"
      ],
      "metadata": {
        "id": "F7gMC-QBT1uq"
      }
    },
    {
      "cell_type": "code",
      "source": [
        "df_base['PREÇO MÍNIMO DISTRIBUIÇÃO'].value_counts()"
      ],
      "metadata": {
        "colab": {
          "base_uri": "https://localhost:8080/"
        },
        "id": "vvVq8iEvUE67",
        "outputId": "f6aeec5e-1223-4590-b42f-71d2563cf6d8"
      },
      "execution_count": 590,
      "outputs": [
        {
          "output_type": "execute_result",
          "data": {
            "text/plain": [
              "-99999.0    5508\n",
              "-           3385\n",
              "24           786\n",
              "26           454\n",
              "22.5         442\n",
              "            ... \n",
              "1.1404         1\n",
              "0.8378         1\n",
              "1.7685         1\n",
              "1.9724         1\n",
              "2.9328         1\n",
              "Name: PREÇO MÍNIMO DISTRIBUIÇÃO, Length: 22594, dtype: int64"
            ]
          },
          "metadata": {},
          "execution_count": 590
        }
      ]
    },
    {
      "cell_type": "markdown",
      "source": [
        "São exatamente 3400 linhas que nã puderam ser conertidas para numeric. Qual é o significado de '-'? Não há significado =/"
      ],
      "metadata": {
        "id": "udcT3xgfUFOM"
      }
    },
    {
      "cell_type": "code",
      "source": [
        "df_base['PREÇO MÁXIMO DISTRIBUIÇÃO'].value_counts()"
      ],
      "metadata": {
        "colab": {
          "base_uri": "https://localhost:8080/"
        },
        "id": "IvsRFbP6URS5",
        "outputId": "02081d26-7855-4c4b-ff2b-11da6fa16d15"
      },
      "execution_count": 591,
      "outputs": [
        {
          "output_type": "execute_result",
          "data": {
            "text/plain": [
              "-99999.0    5508\n",
              "-           3385\n",
              "32           807\n",
              "35           722\n",
              "31           628\n",
              "            ... \n",
              "1.7405         1\n",
              "1.3779         1\n",
              "1.5082         1\n",
              "2.4214         1\n",
              "3.8237         1\n",
              "Name: PREÇO MÁXIMO DISTRIBUIÇÃO, Length: 23669, dtype: int64"
            ]
          },
          "metadata": {},
          "execution_count": 591
        }
      ]
    },
    {
      "cell_type": "markdown",
      "source": [
        "São exatamente 3400 linhas que nã puderam ser conertidas para numeric. Qual é o significado de '-'? Não há significado =/"
      ],
      "metadata": {
        "id": "TLbWCVv7URiC"
      }
    },
    {
      "cell_type": "code",
      "source": [
        "df_base['COEF DE VARIAÇÃO DISTRIBUIÇÃO'].value_counts()"
      ],
      "metadata": {
        "colab": {
          "base_uri": "https://localhost:8080/"
        },
        "id": "Kc2jGtlCUcxS",
        "outputId": "4a488151-8852-44e6-fd19-6869c7fb1020"
      },
      "execution_count": 592,
      "outputs": [
        {
          "output_type": "execute_result",
          "data": {
            "text/plain": [
              "-99999.0    5508\n",
              "-           3385\n",
              "0           3261\n",
              "0.022       3207\n",
              "0.021       3165\n",
              "            ... \n",
              "0.426          1\n",
              "0.362          1\n",
              "0.418          1\n",
              "0.466          1\n",
              "0.591          1\n",
              "Name: COEF DE VARIAÇÃO DISTRIBUIÇÃO, Length: 400, dtype: int64"
            ]
          },
          "metadata": {},
          "execution_count": 592
        }
      ]
    },
    {
      "cell_type": "markdown",
      "source": [
        "São exatamente 3400 linhas que nã puderam ser conertidas para numeric. Qual é o significado de '-'? Não há significado =/"
      ],
      "metadata": {
        "id": "xChjx__YUdF5"
      }
    },
    {
      "cell_type": "markdown",
      "source": [
        "Perceba que agora existem varias células vazias. Precisamos tratá-las antes de continuarmos."
      ],
      "metadata": {
        "id": "VpynFQj-5md0"
      }
    },
    {
      "cell_type": "code",
      "source": [
        "df = df.dropna(subset = LISTA_NOME_COLUNAS_CONVERTIDAS)\n",
        "df.shape"
      ],
      "metadata": {
        "colab": {
          "base_uri": "https://localhost:8080/"
        },
        "id": "p-MrQkURPWvN",
        "outputId": "4cfcf98d-4743-46d7-b53f-30fd94c9581c"
      },
      "execution_count": 593,
      "outputs": [
        {
          "output_type": "execute_result",
          "data": {
            "text/plain": [
              "(114318, 18)"
            ]
          },
          "metadata": {},
          "execution_count": 593
        }
      ]
    },
    {
      "cell_type": "markdown",
      "source": [
        "Foram removidas 3416 linhas."
      ],
      "metadata": {
        "id": "aV2osNb1xnhJ"
      }
    },
    {
      "cell_type": "code",
      "source": [
        "pd.options.mode.use_inf_as_na = False\n",
        "df.isnull().sum()"
      ],
      "metadata": {
        "colab": {
          "base_uri": "https://localhost:8080/"
        },
        "id": "r7SgO-CMxgSn",
        "outputId": "33e622e5-67cc-4292-ee49-bb5491110a12"
      },
      "execution_count": 594,
      "outputs": [
        {
          "output_type": "execute_result",
          "data": {
            "text/plain": [
              "DATA INICIAL                     0\n",
              "DATA FINAL                       0\n",
              "REGIÃO                           0\n",
              "ESTADO                           0\n",
              "PRODUTO                          0\n",
              "NÚMERO DE POSTOS PESQUISADOS     0\n",
              "UNIDADE DE MEDIDA                0\n",
              "PREÇO MÉDIO REVENDA              0\n",
              "DESVIO PADRÃO REVENDA            0\n",
              "PREÇO MÍNIMO REVENDA             0\n",
              "PREÇO MÁXIMO REVENDA             0\n",
              "MARGEM MÉDIA REVENDA             0\n",
              "COEF DE VARIAÇÃO REVENDA         0\n",
              "PREÇO MÉDIO DISTRIBUIÇÃO         0\n",
              "DESVIO PADRÃO DISTRIBUIÇÃO       0\n",
              "PREÇO MÍNIMO DISTRIBUIÇÃO        0\n",
              "PREÇO MÁXIMO DISTRIBUIÇÃO        0\n",
              "COEF DE VARIAÇÃO DISTRIBUIÇÃO    0\n",
              "dtype: int64"
            ]
          },
          "metadata": {},
          "execution_count": 594
        }
      ]
    },
    {
      "cell_type": "code",
      "source": [
        "pd.options.mode.use_inf_as_na = True\n",
        "df.isnull().sum()"
      ],
      "metadata": {
        "colab": {
          "base_uri": "https://localhost:8080/"
        },
        "id": "izjdGd0vxjQR",
        "outputId": "85bf73bb-43ed-4c0a-e9eb-04cd45de5e42"
      },
      "execution_count": 595,
      "outputs": [
        {
          "output_type": "execute_result",
          "data": {
            "text/plain": [
              "DATA INICIAL                     0\n",
              "DATA FINAL                       0\n",
              "REGIÃO                           0\n",
              "ESTADO                           0\n",
              "PRODUTO                          0\n",
              "NÚMERO DE POSTOS PESQUISADOS     0\n",
              "UNIDADE DE MEDIDA                0\n",
              "PREÇO MÉDIO REVENDA              0\n",
              "DESVIO PADRÃO REVENDA            0\n",
              "PREÇO MÍNIMO REVENDA             0\n",
              "PREÇO MÁXIMO REVENDA             0\n",
              "MARGEM MÉDIA REVENDA             0\n",
              "COEF DE VARIAÇÃO REVENDA         0\n",
              "PREÇO MÉDIO DISTRIBUIÇÃO         0\n",
              "DESVIO PADRÃO DISTRIBUIÇÃO       0\n",
              "PREÇO MÍNIMO DISTRIBUIÇÃO        0\n",
              "PREÇO MÁXIMO DISTRIBUIÇÃO        0\n",
              "COEF DE VARIAÇÃO DISTRIBUIÇÃO    0\n",
              "dtype: int64"
            ]
          },
          "metadata": {},
          "execution_count": 595
        }
      ]
    },
    {
      "cell_type": "markdown",
      "source": [
        "Lembrando que, segundo a fonte, todos os valores NULL foram trocados por -99999. Iremos agora remover essas linhas."
      ],
      "metadata": {
        "id": "S7HL-qG3yUhQ"
      }
    },
    {
      "cell_type": "code",
      "source": [
        "for i in range(0, len(LISTA_NOME_COLUNAS_CONVERTIDAS)):\n",
        "  df_remove = df.loc[(df[LISTA_NOME_COLUNAS_CONVERTIDAS[i]] == -99999)]\n",
        "  df = df.drop(df_remove.index)\n",
        "\n",
        "df.shape"
      ],
      "metadata": {
        "colab": {
          "base_uri": "https://localhost:8080/"
        },
        "id": "5uWyy7TBymDG",
        "outputId": "0143af25-6757-44c9-cc73-cd17f36b4486"
      },
      "execution_count": 596,
      "outputs": [
        {
          "output_type": "execute_result",
          "data": {
            "text/plain": [
              "(108801, 18)"
            ]
          },
          "metadata": {},
          "execution_count": 596
        }
      ]
    },
    {
      "cell_type": "markdown",
      "source": [
        "Foram removidas 5517 linhas"
      ],
      "metadata": {
        "id": "-ejDXjhV1Lbm"
      }
    },
    {
      "cell_type": "markdown",
      "metadata": {
        "id": "c-5cx-mqWh61"
      },
      "source": [
        "Analisando a data, seria interessante trabalhar com o dia, mês e ano em colunas separadas para facilitar a análise."
      ]
    },
    {
      "cell_type": "code",
      "execution_count": 597,
      "metadata": {
        "colab": {
          "base_uri": "https://localhost:8080/",
          "height": 682
        },
        "id": "5jxg2DDQWh62",
        "outputId": "43938b11-fab6-4128-c322-47cc03b4d442"
      },
      "outputs": [
        {
          "output_type": "execute_result",
          "data": {
            "text/plain": [
              "    DATA INICIAL  DATA FINAL        REGIÃO              ESTADO  \\\n",
              "675   2004-10-31  2004-11-06  CENTRO OESTE    DISTRITO FEDERAL   \n",
              "676   2004-10-31  2004-11-06  CENTRO OESTE               GOIAS   \n",
              "677   2004-10-31  2004-11-06  CENTRO OESTE         MATO GROSSO   \n",
              "678   2004-10-31  2004-11-06  CENTRO OESTE  MATO GROSSO DO SUL   \n",
              "679   2004-10-31  2004-11-06      NORDESTE             ALAGOAS   \n",
              "680   2004-10-31  2004-11-06      NORDESTE               BAHIA   \n",
              "681   2004-10-31  2004-11-06      NORDESTE               CEARA   \n",
              "682   2004-10-31  2004-11-06      NORDESTE            MARANHAO   \n",
              "683   2004-10-31  2004-11-06      NORDESTE             PARAIBA   \n",
              "684   2004-10-31  2004-11-06      NORDESTE          PERNAMBUCO   \n",
              "\n",
              "              PRODUTO  NÚMERO DE POSTOS PESQUISADOS UNIDADE DE MEDIDA  \\\n",
              "675  ETANOL HIDRATADO                           146              R$/l   \n",
              "676  ETANOL HIDRATADO                           378              R$/l   \n",
              "677  ETANOL HIDRATADO                           195              R$/l   \n",
              "678  ETANOL HIDRATADO                           172              R$/l   \n",
              "679  ETANOL HIDRATADO                            98              R$/l   \n",
              "680  ETANOL HIDRATADO                           422              R$/l   \n",
              "681  ETANOL HIDRATADO                           262              R$/l   \n",
              "682  ETANOL HIDRATADO                            96              R$/l   \n",
              "683  ETANOL HIDRATADO                           127              R$/l   \n",
              "684  ETANOL HIDRATADO                           408              R$/l   \n",
              "\n",
              "     PREÇO MÉDIO REVENDA  DESVIO PADRÃO REVENDA  PREÇO MÍNIMO REVENDA  ...  \\\n",
              "675                1.632                  0.088                  1.27  ...   \n",
              "676                1.412                  0.123                  1.20  ...   \n",
              "677                1.692                  0.091                  1.45  ...   \n",
              "678                1.626                  0.066                  1.37  ...   \n",
              "679                1.479                  0.053                  1.36  ...   \n",
              "680                1.586                  0.112                  1.39  ...   \n",
              "681                1.509                  0.123                  1.20  ...   \n",
              "682                1.646                  0.089                  1.49  ...   \n",
              "683                1.489                  0.054                  1.39  ...   \n",
              "684                1.437                  0.124                  1.19  ...   \n",
              "\n",
              "     DESVIO PADRÃO DISTRIBUIÇÃO  PREÇO MÍNIMO DISTRIBUIÇÃO  \\\n",
              "675                       0.127                    0.90510   \n",
              "676                       0.091                    0.87301   \n",
              "677                       0.077                    1.05000   \n",
              "678                       0.114                    0.94670   \n",
              "679                       0.077                    1.05020   \n",
              "680                       0.183                    0.67130   \n",
              "681                       0.076                    1.06730   \n",
              "682                       0.103                    1.14320   \n",
              "683                       0.064                    1.06470   \n",
              "684                       0.083                    1.05340   \n",
              "\n",
              "     PREÇO MÁXIMO DISTRIBUIÇÃO  COEF DE VARIAÇÃO DISTRIBUIÇÃO  DIA INICIAL  \\\n",
              "675                     1.6527                          0.102           31   \n",
              "676                     1.4579                          0.083           31   \n",
              "677                     1.6271                          0.059           31   \n",
              "678                     1.4600                          0.093           31   \n",
              "679                     1.4047                          0.059           31   \n",
              "680                     1.5481                          0.139           31   \n",
              "681                     1.5559                          0.055           31   \n",
              "682                     1.5658                          0.076           31   \n",
              "683                     1.3777                          0.050           31   \n",
              "684                     1.6133                          0.066           31   \n",
              "\n",
              "     MES INICIAL  ANO INICIAL  DIA FINAL  MES FINAL  ANO FINAL  \n",
              "675           10         2004          6         11       2004  \n",
              "676           10         2004          6         11       2004  \n",
              "677           10         2004          6         11       2004  \n",
              "678           10         2004          6         11       2004  \n",
              "679           10         2004          6         11       2004  \n",
              "680           10         2004          6         11       2004  \n",
              "681           10         2004          6         11       2004  \n",
              "682           10         2004          6         11       2004  \n",
              "683           10         2004          6         11       2004  \n",
              "684           10         2004          6         11       2004  \n",
              "\n",
              "[10 rows x 24 columns]"
            ],
            "text/html": [
              "\n",
              "\n",
              "  <div id=\"df-bd0b3325-6c72-4f51-b9e8-7f95c6867e86\">\n",
              "    <div class=\"colab-df-container\">\n",
              "      <div>\n",
              "<style scoped>\n",
              "    .dataframe tbody tr th:only-of-type {\n",
              "        vertical-align: middle;\n",
              "    }\n",
              "\n",
              "    .dataframe tbody tr th {\n",
              "        vertical-align: top;\n",
              "    }\n",
              "\n",
              "    .dataframe thead th {\n",
              "        text-align: right;\n",
              "    }\n",
              "</style>\n",
              "<table border=\"1\" class=\"dataframe\">\n",
              "  <thead>\n",
              "    <tr style=\"text-align: right;\">\n",
              "      <th></th>\n",
              "      <th>DATA INICIAL</th>\n",
              "      <th>DATA FINAL</th>\n",
              "      <th>REGIÃO</th>\n",
              "      <th>ESTADO</th>\n",
              "      <th>PRODUTO</th>\n",
              "      <th>NÚMERO DE POSTOS PESQUISADOS</th>\n",
              "      <th>UNIDADE DE MEDIDA</th>\n",
              "      <th>PREÇO MÉDIO REVENDA</th>\n",
              "      <th>DESVIO PADRÃO REVENDA</th>\n",
              "      <th>PREÇO MÍNIMO REVENDA</th>\n",
              "      <th>...</th>\n",
              "      <th>DESVIO PADRÃO DISTRIBUIÇÃO</th>\n",
              "      <th>PREÇO MÍNIMO DISTRIBUIÇÃO</th>\n",
              "      <th>PREÇO MÁXIMO DISTRIBUIÇÃO</th>\n",
              "      <th>COEF DE VARIAÇÃO DISTRIBUIÇÃO</th>\n",
              "      <th>DIA INICIAL</th>\n",
              "      <th>MES INICIAL</th>\n",
              "      <th>ANO INICIAL</th>\n",
              "      <th>DIA FINAL</th>\n",
              "      <th>MES FINAL</th>\n",
              "      <th>ANO FINAL</th>\n",
              "    </tr>\n",
              "  </thead>\n",
              "  <tbody>\n",
              "    <tr>\n",
              "      <th>675</th>\n",
              "      <td>2004-10-31</td>\n",
              "      <td>2004-11-06</td>\n",
              "      <td>CENTRO OESTE</td>\n",
              "      <td>DISTRITO FEDERAL</td>\n",
              "      <td>ETANOL HIDRATADO</td>\n",
              "      <td>146</td>\n",
              "      <td>R$/l</td>\n",
              "      <td>1.632</td>\n",
              "      <td>0.088</td>\n",
              "      <td>1.27</td>\n",
              "      <td>...</td>\n",
              "      <td>0.127</td>\n",
              "      <td>0.90510</td>\n",
              "      <td>1.6527</td>\n",
              "      <td>0.102</td>\n",
              "      <td>31</td>\n",
              "      <td>10</td>\n",
              "      <td>2004</td>\n",
              "      <td>6</td>\n",
              "      <td>11</td>\n",
              "      <td>2004</td>\n",
              "    </tr>\n",
              "    <tr>\n",
              "      <th>676</th>\n",
              "      <td>2004-10-31</td>\n",
              "      <td>2004-11-06</td>\n",
              "      <td>CENTRO OESTE</td>\n",
              "      <td>GOIAS</td>\n",
              "      <td>ETANOL HIDRATADO</td>\n",
              "      <td>378</td>\n",
              "      <td>R$/l</td>\n",
              "      <td>1.412</td>\n",
              "      <td>0.123</td>\n",
              "      <td>1.20</td>\n",
              "      <td>...</td>\n",
              "      <td>0.091</td>\n",
              "      <td>0.87301</td>\n",
              "      <td>1.4579</td>\n",
              "      <td>0.083</td>\n",
              "      <td>31</td>\n",
              "      <td>10</td>\n",
              "      <td>2004</td>\n",
              "      <td>6</td>\n",
              "      <td>11</td>\n",
              "      <td>2004</td>\n",
              "    </tr>\n",
              "    <tr>\n",
              "      <th>677</th>\n",
              "      <td>2004-10-31</td>\n",
              "      <td>2004-11-06</td>\n",
              "      <td>CENTRO OESTE</td>\n",
              "      <td>MATO GROSSO</td>\n",
              "      <td>ETANOL HIDRATADO</td>\n",
              "      <td>195</td>\n",
              "      <td>R$/l</td>\n",
              "      <td>1.692</td>\n",
              "      <td>0.091</td>\n",
              "      <td>1.45</td>\n",
              "      <td>...</td>\n",
              "      <td>0.077</td>\n",
              "      <td>1.05000</td>\n",
              "      <td>1.6271</td>\n",
              "      <td>0.059</td>\n",
              "      <td>31</td>\n",
              "      <td>10</td>\n",
              "      <td>2004</td>\n",
              "      <td>6</td>\n",
              "      <td>11</td>\n",
              "      <td>2004</td>\n",
              "    </tr>\n",
              "    <tr>\n",
              "      <th>678</th>\n",
              "      <td>2004-10-31</td>\n",
              "      <td>2004-11-06</td>\n",
              "      <td>CENTRO OESTE</td>\n",
              "      <td>MATO GROSSO DO SUL</td>\n",
              "      <td>ETANOL HIDRATADO</td>\n",
              "      <td>172</td>\n",
              "      <td>R$/l</td>\n",
              "      <td>1.626</td>\n",
              "      <td>0.066</td>\n",
              "      <td>1.37</td>\n",
              "      <td>...</td>\n",
              "      <td>0.114</td>\n",
              "      <td>0.94670</td>\n",
              "      <td>1.4600</td>\n",
              "      <td>0.093</td>\n",
              "      <td>31</td>\n",
              "      <td>10</td>\n",
              "      <td>2004</td>\n",
              "      <td>6</td>\n",
              "      <td>11</td>\n",
              "      <td>2004</td>\n",
              "    </tr>\n",
              "    <tr>\n",
              "      <th>679</th>\n",
              "      <td>2004-10-31</td>\n",
              "      <td>2004-11-06</td>\n",
              "      <td>NORDESTE</td>\n",
              "      <td>ALAGOAS</td>\n",
              "      <td>ETANOL HIDRATADO</td>\n",
              "      <td>98</td>\n",
              "      <td>R$/l</td>\n",
              "      <td>1.479</td>\n",
              "      <td>0.053</td>\n",
              "      <td>1.36</td>\n",
              "      <td>...</td>\n",
              "      <td>0.077</td>\n",
              "      <td>1.05020</td>\n",
              "      <td>1.4047</td>\n",
              "      <td>0.059</td>\n",
              "      <td>31</td>\n",
              "      <td>10</td>\n",
              "      <td>2004</td>\n",
              "      <td>6</td>\n",
              "      <td>11</td>\n",
              "      <td>2004</td>\n",
              "    </tr>\n",
              "    <tr>\n",
              "      <th>680</th>\n",
              "      <td>2004-10-31</td>\n",
              "      <td>2004-11-06</td>\n",
              "      <td>NORDESTE</td>\n",
              "      <td>BAHIA</td>\n",
              "      <td>ETANOL HIDRATADO</td>\n",
              "      <td>422</td>\n",
              "      <td>R$/l</td>\n",
              "      <td>1.586</td>\n",
              "      <td>0.112</td>\n",
              "      <td>1.39</td>\n",
              "      <td>...</td>\n",
              "      <td>0.183</td>\n",
              "      <td>0.67130</td>\n",
              "      <td>1.5481</td>\n",
              "      <td>0.139</td>\n",
              "      <td>31</td>\n",
              "      <td>10</td>\n",
              "      <td>2004</td>\n",
              "      <td>6</td>\n",
              "      <td>11</td>\n",
              "      <td>2004</td>\n",
              "    </tr>\n",
              "    <tr>\n",
              "      <th>681</th>\n",
              "      <td>2004-10-31</td>\n",
              "      <td>2004-11-06</td>\n",
              "      <td>NORDESTE</td>\n",
              "      <td>CEARA</td>\n",
              "      <td>ETANOL HIDRATADO</td>\n",
              "      <td>262</td>\n",
              "      <td>R$/l</td>\n",
              "      <td>1.509</td>\n",
              "      <td>0.123</td>\n",
              "      <td>1.20</td>\n",
              "      <td>...</td>\n",
              "      <td>0.076</td>\n",
              "      <td>1.06730</td>\n",
              "      <td>1.5559</td>\n",
              "      <td>0.055</td>\n",
              "      <td>31</td>\n",
              "      <td>10</td>\n",
              "      <td>2004</td>\n",
              "      <td>6</td>\n",
              "      <td>11</td>\n",
              "      <td>2004</td>\n",
              "    </tr>\n",
              "    <tr>\n",
              "      <th>682</th>\n",
              "      <td>2004-10-31</td>\n",
              "      <td>2004-11-06</td>\n",
              "      <td>NORDESTE</td>\n",
              "      <td>MARANHAO</td>\n",
              "      <td>ETANOL HIDRATADO</td>\n",
              "      <td>96</td>\n",
              "      <td>R$/l</td>\n",
              "      <td>1.646</td>\n",
              "      <td>0.089</td>\n",
              "      <td>1.49</td>\n",
              "      <td>...</td>\n",
              "      <td>0.103</td>\n",
              "      <td>1.14320</td>\n",
              "      <td>1.5658</td>\n",
              "      <td>0.076</td>\n",
              "      <td>31</td>\n",
              "      <td>10</td>\n",
              "      <td>2004</td>\n",
              "      <td>6</td>\n",
              "      <td>11</td>\n",
              "      <td>2004</td>\n",
              "    </tr>\n",
              "    <tr>\n",
              "      <th>683</th>\n",
              "      <td>2004-10-31</td>\n",
              "      <td>2004-11-06</td>\n",
              "      <td>NORDESTE</td>\n",
              "      <td>PARAIBA</td>\n",
              "      <td>ETANOL HIDRATADO</td>\n",
              "      <td>127</td>\n",
              "      <td>R$/l</td>\n",
              "      <td>1.489</td>\n",
              "      <td>0.054</td>\n",
              "      <td>1.39</td>\n",
              "      <td>...</td>\n",
              "      <td>0.064</td>\n",
              "      <td>1.06470</td>\n",
              "      <td>1.3777</td>\n",
              "      <td>0.050</td>\n",
              "      <td>31</td>\n",
              "      <td>10</td>\n",
              "      <td>2004</td>\n",
              "      <td>6</td>\n",
              "      <td>11</td>\n",
              "      <td>2004</td>\n",
              "    </tr>\n",
              "    <tr>\n",
              "      <th>684</th>\n",
              "      <td>2004-10-31</td>\n",
              "      <td>2004-11-06</td>\n",
              "      <td>NORDESTE</td>\n",
              "      <td>PERNAMBUCO</td>\n",
              "      <td>ETANOL HIDRATADO</td>\n",
              "      <td>408</td>\n",
              "      <td>R$/l</td>\n",
              "      <td>1.437</td>\n",
              "      <td>0.124</td>\n",
              "      <td>1.19</td>\n",
              "      <td>...</td>\n",
              "      <td>0.083</td>\n",
              "      <td>1.05340</td>\n",
              "      <td>1.6133</td>\n",
              "      <td>0.066</td>\n",
              "      <td>31</td>\n",
              "      <td>10</td>\n",
              "      <td>2004</td>\n",
              "      <td>6</td>\n",
              "      <td>11</td>\n",
              "      <td>2004</td>\n",
              "    </tr>\n",
              "  </tbody>\n",
              "</table>\n",
              "<p>10 rows × 24 columns</p>\n",
              "</div>\n",
              "      <button class=\"colab-df-convert\" onclick=\"convertToInteractive('df-bd0b3325-6c72-4f51-b9e8-7f95c6867e86')\"\n",
              "              title=\"Convert this dataframe to an interactive table.\"\n",
              "              style=\"display:none;\">\n",
              "\n",
              "  <svg xmlns=\"http://www.w3.org/2000/svg\" height=\"24px\"viewBox=\"0 0 24 24\"\n",
              "       width=\"24px\">\n",
              "    <path d=\"M0 0h24v24H0V0z\" fill=\"none\"/>\n",
              "    <path d=\"M18.56 5.44l.94 2.06.94-2.06 2.06-.94-2.06-.94-.94-2.06-.94 2.06-2.06.94zm-11 1L8.5 8.5l.94-2.06 2.06-.94-2.06-.94L8.5 2.5l-.94 2.06-2.06.94zm10 10l.94 2.06.94-2.06 2.06-.94-2.06-.94-.94-2.06-.94 2.06-2.06.94z\"/><path d=\"M17.41 7.96l-1.37-1.37c-.4-.4-.92-.59-1.43-.59-.52 0-1.04.2-1.43.59L10.3 9.45l-7.72 7.72c-.78.78-.78 2.05 0 2.83L4 21.41c.39.39.9.59 1.41.59.51 0 1.02-.2 1.41-.59l7.78-7.78 2.81-2.81c.8-.78.8-2.07 0-2.86zM5.41 20L4 18.59l7.72-7.72 1.47 1.35L5.41 20z\"/>\n",
              "  </svg>\n",
              "      </button>\n",
              "\n",
              "\n",
              "\n",
              "    <div id=\"df-97fc6c5c-404e-40cf-bbb9-95a60ef2a8c2\">\n",
              "      <button class=\"colab-df-quickchart\" onclick=\"quickchart('df-97fc6c5c-404e-40cf-bbb9-95a60ef2a8c2')\"\n",
              "              title=\"Suggest charts.\"\n",
              "              style=\"display:none;\">\n",
              "\n",
              "<svg xmlns=\"http://www.w3.org/2000/svg\" height=\"24px\"viewBox=\"0 0 24 24\"\n",
              "     width=\"24px\">\n",
              "    <g>\n",
              "        <path d=\"M19 3H5c-1.1 0-2 .9-2 2v14c0 1.1.9 2 2 2h14c1.1 0 2-.9 2-2V5c0-1.1-.9-2-2-2zM9 17H7v-7h2v7zm4 0h-2V7h2v10zm4 0h-2v-4h2v4z\"/>\n",
              "    </g>\n",
              "</svg>\n",
              "      </button>\n",
              "    </div>\n",
              "\n",
              "<style>\n",
              "  .colab-df-quickchart {\n",
              "    background-color: #E8F0FE;\n",
              "    border: none;\n",
              "    border-radius: 50%;\n",
              "    cursor: pointer;\n",
              "    display: none;\n",
              "    fill: #1967D2;\n",
              "    height: 32px;\n",
              "    padding: 0 0 0 0;\n",
              "    width: 32px;\n",
              "  }\n",
              "\n",
              "  .colab-df-quickchart:hover {\n",
              "    background-color: #E2EBFA;\n",
              "    box-shadow: 0px 1px 2px rgba(60, 64, 67, 0.3), 0px 1px 3px 1px rgba(60, 64, 67, 0.15);\n",
              "    fill: #174EA6;\n",
              "  }\n",
              "\n",
              "  [theme=dark] .colab-df-quickchart {\n",
              "    background-color: #3B4455;\n",
              "    fill: #D2E3FC;\n",
              "  }\n",
              "\n",
              "  [theme=dark] .colab-df-quickchart:hover {\n",
              "    background-color: #434B5C;\n",
              "    box-shadow: 0px 1px 3px 1px rgba(0, 0, 0, 0.15);\n",
              "    filter: drop-shadow(0px 1px 2px rgba(0, 0, 0, 0.3));\n",
              "    fill: #FFFFFF;\n",
              "  }\n",
              "</style>\n",
              "\n",
              "    <script>\n",
              "      async function quickchart(key) {\n",
              "        const containerElement = document.querySelector('#' + key);\n",
              "        const charts = await google.colab.kernel.invokeFunction(\n",
              "            'suggestCharts', [key], {});\n",
              "      }\n",
              "    </script>\n",
              "\n",
              "\n",
              "      <script>\n",
              "\n",
              "function displayQuickchartButton(domScope) {\n",
              "  let quickchartButtonEl =\n",
              "    domScope.querySelector('#df-97fc6c5c-404e-40cf-bbb9-95a60ef2a8c2 button.colab-df-quickchart');\n",
              "  quickchartButtonEl.style.display =\n",
              "    google.colab.kernel.accessAllowed ? 'block' : 'none';\n",
              "}\n",
              "\n",
              "        displayQuickchartButton(document);\n",
              "      </script>\n",
              "      <style>\n",
              "    .colab-df-container {\n",
              "      display:flex;\n",
              "      flex-wrap:wrap;\n",
              "      gap: 12px;\n",
              "    }\n",
              "\n",
              "    .colab-df-convert {\n",
              "      background-color: #E8F0FE;\n",
              "      border: none;\n",
              "      border-radius: 50%;\n",
              "      cursor: pointer;\n",
              "      display: none;\n",
              "      fill: #1967D2;\n",
              "      height: 32px;\n",
              "      padding: 0 0 0 0;\n",
              "      width: 32px;\n",
              "    }\n",
              "\n",
              "    .colab-df-convert:hover {\n",
              "      background-color: #E2EBFA;\n",
              "      box-shadow: 0px 1px 2px rgba(60, 64, 67, 0.3), 0px 1px 3px 1px rgba(60, 64, 67, 0.15);\n",
              "      fill: #174EA6;\n",
              "    }\n",
              "\n",
              "    [theme=dark] .colab-df-convert {\n",
              "      background-color: #3B4455;\n",
              "      fill: #D2E3FC;\n",
              "    }\n",
              "\n",
              "    [theme=dark] .colab-df-convert:hover {\n",
              "      background-color: #434B5C;\n",
              "      box-shadow: 0px 1px 3px 1px rgba(0, 0, 0, 0.15);\n",
              "      filter: drop-shadow(0px 1px 2px rgba(0, 0, 0, 0.3));\n",
              "      fill: #FFFFFF;\n",
              "    }\n",
              "  </style>\n",
              "\n",
              "      <script>\n",
              "        const buttonEl =\n",
              "          document.querySelector('#df-bd0b3325-6c72-4f51-b9e8-7f95c6867e86 button.colab-df-convert');\n",
              "        buttonEl.style.display =\n",
              "          google.colab.kernel.accessAllowed ? 'block' : 'none';\n",
              "\n",
              "        async function convertToInteractive(key) {\n",
              "          const element = document.querySelector('#df-bd0b3325-6c72-4f51-b9e8-7f95c6867e86');\n",
              "          const dataTable =\n",
              "            await google.colab.kernel.invokeFunction('convertToInteractive',\n",
              "                                                     [key], {});\n",
              "          if (!dataTable) return;\n",
              "\n",
              "          const docLinkHtml = 'Like what you see? Visit the ' +\n",
              "            '<a target=\"_blank\" href=https://colab.research.google.com/notebooks/data_table.ipynb>data table notebook</a>'\n",
              "            + ' to learn more about interactive tables.';\n",
              "          element.innerHTML = '';\n",
              "          dataTable['output_type'] = 'display_data';\n",
              "          await google.colab.output.renderOutput(dataTable, element);\n",
              "          const docLink = document.createElement('div');\n",
              "          docLink.innerHTML = docLinkHtml;\n",
              "          element.appendChild(docLink);\n",
              "        }\n",
              "      </script>\n",
              "    </div>\n",
              "  </div>\n"
            ]
          },
          "metadata": {},
          "execution_count": 597
        }
      ],
      "source": [
        "#Novas colunas com o dia, mês e ano baseadas na coluna \"DATA INICIAL\" e \"DATA FINAL\"\n",
        "\n",
        "   #dia_inicial = pd.DatetimeIndex(df_base['DATA INICIAL']).day\n",
        "   #dia_final = pd.DatetimeIndex(df_base['DATA FINAL']).day\n",
        "\n",
        "   #mes_inicial = pd.DatetimeIndex(df_base['DATA INICIAL']).month\n",
        "   #mes_final = pd.DatetimeIndex(df_base['DATA FINAL']).month\n",
        "\n",
        "   #ano_inicial = pd.DatetimeIndex(df_base['DATA INICIAL']).year\n",
        "   #ano_final = pd.DatetimeIndex(df_base['DATA FINAL']).year\n",
        "\n",
        "LISTA_NOME_COLUNAS_NOVAS = ['DIA INICIAL', 'MES INICIAL', 'ANO INICIAL', 'DIA FINAL', 'MES FINAL', 'ANO FINAL']\n",
        "\n",
        "lista_colunas = list()\n",
        "\n",
        "for i in range(0, len(LISTA_NOME_COLUNAS_NOVAS)):\n",
        "  nome = LISTA_NOME_COLUNAS_NOVAS[i]\n",
        "\n",
        "  if 'INICIAL' in nome:\n",
        "    coluna_aux = df['DATA INICIAL']\n",
        "  elif 'FINAL' in nome:\n",
        "    coluna_aux = df['DATA FINAL']\n",
        "  else:\n",
        "    print('Erro Inesperado')\n",
        "    continue\n",
        "\n",
        "  if 'DIA' in nome:\n",
        "    coluna = pd.DatetimeIndex(coluna_aux).day\n",
        "  elif 'MES' in nome:\n",
        "    coluna = pd.DatetimeIndex(coluna_aux).month\n",
        "  elif 'ANO' in nome:\n",
        "    coluna = pd.DatetimeIndex(coluna_aux).year\n",
        "  else:\n",
        "    print('Erro Inesperado')\n",
        "    continue\n",
        "\n",
        "#Adicionando as colunas no DataFrame\n",
        "#df_base = df_base.assign(dia_inicial = dia_inicial, mes_inicial = mes_inicial, ano_inicial = ano_inicial, dia_final = dia_final, mes_final = mes_final, ano_final = ano_final)\n",
        "\n",
        "  df.insert(len(df.columns), LISTA_NOME_COLUNAS_NOVAS[i], coluna)\n",
        "\n",
        "#Visualizando o dataset modificado\n",
        "df.head(10)"
      ]
    },
    {
      "cell_type": "code",
      "source": [
        "#Analisando os tipos de variáveis das colunas\n",
        "df.info()"
      ],
      "metadata": {
        "colab": {
          "base_uri": "https://localhost:8080/"
        },
        "id": "jrMutJi50Z2Y",
        "outputId": "bbf33534-da0f-445d-8408-945819ae9993"
      },
      "execution_count": 598,
      "outputs": [
        {
          "output_type": "stream",
          "name": "stdout",
          "text": [
            "<class 'pandas.core.frame.DataFrame'>\n",
            "Int64Index: 108801 entries, 675 to 115883\n",
            "Data columns (total 24 columns):\n",
            " #   Column                         Non-Null Count   Dtype  \n",
            "---  ------                         --------------   -----  \n",
            " 0   DATA INICIAL                   108801 non-null  object \n",
            " 1   DATA FINAL                     108801 non-null  object \n",
            " 2   REGIÃO                         108801 non-null  object \n",
            " 3   ESTADO                         108801 non-null  object \n",
            " 4   PRODUTO                        108801 non-null  object \n",
            " 5   NÚMERO DE POSTOS PESQUISADOS   108801 non-null  int64  \n",
            " 6   UNIDADE DE MEDIDA              108801 non-null  object \n",
            " 7   PREÇO MÉDIO REVENDA            108801 non-null  float64\n",
            " 8   DESVIO PADRÃO REVENDA          108801 non-null  float64\n",
            " 9   PREÇO MÍNIMO REVENDA           108801 non-null  float64\n",
            " 10  PREÇO MÁXIMO REVENDA           108801 non-null  float64\n",
            " 11  MARGEM MÉDIA REVENDA           108801 non-null  float64\n",
            " 12  COEF DE VARIAÇÃO REVENDA       108801 non-null  float64\n",
            " 13  PREÇO MÉDIO DISTRIBUIÇÃO       108801 non-null  float64\n",
            " 14  DESVIO PADRÃO DISTRIBUIÇÃO     108801 non-null  float64\n",
            " 15  PREÇO MÍNIMO DISTRIBUIÇÃO      108801 non-null  float64\n",
            " 16  PREÇO MÁXIMO DISTRIBUIÇÃO      108801 non-null  float64\n",
            " 17  COEF DE VARIAÇÃO DISTRIBUIÇÃO  108801 non-null  float64\n",
            " 18  DIA INICIAL                    108801 non-null  int64  \n",
            " 19  MES INICIAL                    108801 non-null  int64  \n",
            " 20  ANO INICIAL                    108801 non-null  int64  \n",
            " 21  DIA FINAL                      108801 non-null  int64  \n",
            " 22  MES FINAL                      108801 non-null  int64  \n",
            " 23  ANO FINAL                      108801 non-null  int64  \n",
            "dtypes: float64(11), int64(7), object(6)\n",
            "memory usage: 20.8+ MB\n"
          ]
        }
      ]
    },
    {
      "cell_type": "code",
      "source": [
        "#Visualizando algumas estatísticas rápidas do dataset\n",
        "df.describe()"
      ],
      "metadata": {
        "colab": {
          "base_uri": "https://localhost:8080/",
          "height": 399
        },
        "id": "SJV7DLtrAMcR",
        "outputId": "f849bde2-65b9-4d4e-9c49-cdb2c3728e19"
      },
      "execution_count": 599,
      "outputs": [
        {
          "output_type": "execute_result",
          "data": {
            "text/plain": [
              "       NÚMERO DE POSTOS PESQUISADOS  PREÇO MÉDIO REVENDA  \\\n",
              "count                 108801.000000        108801.000000   \n",
              "mean                     231.600381            11.323676   \n",
              "std                      389.837425            18.788799   \n",
              "min                        1.000000             0.975000   \n",
              "25%                       45.000000             2.157000   \n",
              "50%                      105.000000             2.858000   \n",
              "75%                      239.000000             3.885000   \n",
              "max                     4155.000000            99.357000   \n",
              "\n",
              "       DESVIO PADRÃO REVENDA  PREÇO MÍNIMO REVENDA  PREÇO MÁXIMO REVENDA  \\\n",
              "count          108801.000000         108801.000000         108801.000000   \n",
              "mean                0.686996              9.814044             13.121848   \n",
              "std                 1.413067             16.017485             22.170968   \n",
              "min                 0.000000              0.659000              0.999000   \n",
              "25%                 0.077000              1.989000              2.439000   \n",
              "50%                 0.121000              2.649000              3.190000   \n",
              "75%                 0.202000              3.639000              4.399000   \n",
              "max                10.748000             90.000000            120.000000   \n",
              "\n",
              "       MARGEM MÉDIA REVENDA  COEF DE VARIAÇÃO REVENDA  \\\n",
              "count         108801.000000             108801.000000   \n",
              "mean               2.347912                  0.046086   \n",
              "std                4.637498                  0.024299   \n",
              "min                0.001000                  0.000000   \n",
              "25%                0.290000                  0.030000   \n",
              "50%                0.392000                  0.042000   \n",
              "75%                0.579000                  0.059000   \n",
              "max               36.847000                  0.262000   \n",
              "\n",
              "       PREÇO MÉDIO DISTRIBUIÇÃO  DESVIO PADRÃO DISTRIBUIÇÃO  \\\n",
              "count             108801.000000               108801.000000   \n",
              "mean                   8.975764                    0.585125   \n",
              "std                   14.447877                    1.316398   \n",
              "min                    0.506000                    0.000000   \n",
              "25%                    1.873000                    0.049000   \n",
              "50%                    2.458000                    0.080000   \n",
              "75%                    3.445000                    0.156000   \n",
              "max                   83.137000                   18.385000   \n",
              "\n",
              "       PREÇO MÍNIMO DISTRIBUIÇÃO  PREÇO MÁXIMO DISTRIBUIÇÃO  \\\n",
              "count              108801.000000              108801.000000   \n",
              "mean                    7.795636                  10.268345   \n",
              "std                    12.451593                  16.866790   \n",
              "min                     0.363200                   0.599200   \n",
              "25%                     1.731800                   2.017000   \n",
              "50%                     2.310100                   2.637300   \n",
              "75%                     3.283400                   3.653400   \n",
              "max                    83.000000                  94.500000   \n",
              "\n",
              "       COEF DE VARIAÇÃO DISTRIBUIÇÃO    DIA INICIAL    MES INICIAL  \\\n",
              "count                  108801.000000  108801.000000  108801.000000   \n",
              "mean                        0.045875      15.662908       6.472468   \n",
              "std                         0.041208       8.822861       3.462713   \n",
              "min                         0.000000       1.000000       1.000000   \n",
              "25%                         0.021000       8.000000       3.000000   \n",
              "50%                         0.031000      16.000000       6.000000   \n",
              "75%                         0.059000      23.000000      10.000000   \n",
              "max                         0.780000      31.000000      12.000000   \n",
              "\n",
              "         ANO INICIAL      DIA FINAL      MES FINAL      ANO FINAL  \n",
              "count  108801.000000  108801.000000  108801.000000  108801.000000  \n",
              "mean     2012.563377      15.665224       6.479297    2012.579223  \n",
              "std         4.568194       8.786065       3.463446       4.568059  \n",
              "min      2004.000000       1.000000       1.000000    2004.000000  \n",
              "25%      2009.000000       8.000000       3.000000    2009.000000  \n",
              "50%      2013.000000      16.000000       6.000000    2013.000000  \n",
              "75%      2017.000000      23.000000      10.000000    2017.000000  \n",
              "max      2020.000000      31.000000      12.000000    2020.000000  "
            ],
            "text/html": [
              "\n",
              "\n",
              "  <div id=\"df-0be16481-bb2b-47f8-b042-ae01839ff0d0\">\n",
              "    <div class=\"colab-df-container\">\n",
              "      <div>\n",
              "<style scoped>\n",
              "    .dataframe tbody tr th:only-of-type {\n",
              "        vertical-align: middle;\n",
              "    }\n",
              "\n",
              "    .dataframe tbody tr th {\n",
              "        vertical-align: top;\n",
              "    }\n",
              "\n",
              "    .dataframe thead th {\n",
              "        text-align: right;\n",
              "    }\n",
              "</style>\n",
              "<table border=\"1\" class=\"dataframe\">\n",
              "  <thead>\n",
              "    <tr style=\"text-align: right;\">\n",
              "      <th></th>\n",
              "      <th>NÚMERO DE POSTOS PESQUISADOS</th>\n",
              "      <th>PREÇO MÉDIO REVENDA</th>\n",
              "      <th>DESVIO PADRÃO REVENDA</th>\n",
              "      <th>PREÇO MÍNIMO REVENDA</th>\n",
              "      <th>PREÇO MÁXIMO REVENDA</th>\n",
              "      <th>MARGEM MÉDIA REVENDA</th>\n",
              "      <th>COEF DE VARIAÇÃO REVENDA</th>\n",
              "      <th>PREÇO MÉDIO DISTRIBUIÇÃO</th>\n",
              "      <th>DESVIO PADRÃO DISTRIBUIÇÃO</th>\n",
              "      <th>PREÇO MÍNIMO DISTRIBUIÇÃO</th>\n",
              "      <th>PREÇO MÁXIMO DISTRIBUIÇÃO</th>\n",
              "      <th>COEF DE VARIAÇÃO DISTRIBUIÇÃO</th>\n",
              "      <th>DIA INICIAL</th>\n",
              "      <th>MES INICIAL</th>\n",
              "      <th>ANO INICIAL</th>\n",
              "      <th>DIA FINAL</th>\n",
              "      <th>MES FINAL</th>\n",
              "      <th>ANO FINAL</th>\n",
              "    </tr>\n",
              "  </thead>\n",
              "  <tbody>\n",
              "    <tr>\n",
              "      <th>count</th>\n",
              "      <td>108801.000000</td>\n",
              "      <td>108801.000000</td>\n",
              "      <td>108801.000000</td>\n",
              "      <td>108801.000000</td>\n",
              "      <td>108801.000000</td>\n",
              "      <td>108801.000000</td>\n",
              "      <td>108801.000000</td>\n",
              "      <td>108801.000000</td>\n",
              "      <td>108801.000000</td>\n",
              "      <td>108801.000000</td>\n",
              "      <td>108801.000000</td>\n",
              "      <td>108801.000000</td>\n",
              "      <td>108801.000000</td>\n",
              "      <td>108801.000000</td>\n",
              "      <td>108801.000000</td>\n",
              "      <td>108801.000000</td>\n",
              "      <td>108801.000000</td>\n",
              "      <td>108801.000000</td>\n",
              "    </tr>\n",
              "    <tr>\n",
              "      <th>mean</th>\n",
              "      <td>231.600381</td>\n",
              "      <td>11.323676</td>\n",
              "      <td>0.686996</td>\n",
              "      <td>9.814044</td>\n",
              "      <td>13.121848</td>\n",
              "      <td>2.347912</td>\n",
              "      <td>0.046086</td>\n",
              "      <td>8.975764</td>\n",
              "      <td>0.585125</td>\n",
              "      <td>7.795636</td>\n",
              "      <td>10.268345</td>\n",
              "      <td>0.045875</td>\n",
              "      <td>15.662908</td>\n",
              "      <td>6.472468</td>\n",
              "      <td>2012.563377</td>\n",
              "      <td>15.665224</td>\n",
              "      <td>6.479297</td>\n",
              "      <td>2012.579223</td>\n",
              "    </tr>\n",
              "    <tr>\n",
              "      <th>std</th>\n",
              "      <td>389.837425</td>\n",
              "      <td>18.788799</td>\n",
              "      <td>1.413067</td>\n",
              "      <td>16.017485</td>\n",
              "      <td>22.170968</td>\n",
              "      <td>4.637498</td>\n",
              "      <td>0.024299</td>\n",
              "      <td>14.447877</td>\n",
              "      <td>1.316398</td>\n",
              "      <td>12.451593</td>\n",
              "      <td>16.866790</td>\n",
              "      <td>0.041208</td>\n",
              "      <td>8.822861</td>\n",
              "      <td>3.462713</td>\n",
              "      <td>4.568194</td>\n",
              "      <td>8.786065</td>\n",
              "      <td>3.463446</td>\n",
              "      <td>4.568059</td>\n",
              "    </tr>\n",
              "    <tr>\n",
              "      <th>min</th>\n",
              "      <td>1.000000</td>\n",
              "      <td>0.975000</td>\n",
              "      <td>0.000000</td>\n",
              "      <td>0.659000</td>\n",
              "      <td>0.999000</td>\n",
              "      <td>0.001000</td>\n",
              "      <td>0.000000</td>\n",
              "      <td>0.506000</td>\n",
              "      <td>0.000000</td>\n",
              "      <td>0.363200</td>\n",
              "      <td>0.599200</td>\n",
              "      <td>0.000000</td>\n",
              "      <td>1.000000</td>\n",
              "      <td>1.000000</td>\n",
              "      <td>2004.000000</td>\n",
              "      <td>1.000000</td>\n",
              "      <td>1.000000</td>\n",
              "      <td>2004.000000</td>\n",
              "    </tr>\n",
              "    <tr>\n",
              "      <th>25%</th>\n",
              "      <td>45.000000</td>\n",
              "      <td>2.157000</td>\n",
              "      <td>0.077000</td>\n",
              "      <td>1.989000</td>\n",
              "      <td>2.439000</td>\n",
              "      <td>0.290000</td>\n",
              "      <td>0.030000</td>\n",
              "      <td>1.873000</td>\n",
              "      <td>0.049000</td>\n",
              "      <td>1.731800</td>\n",
              "      <td>2.017000</td>\n",
              "      <td>0.021000</td>\n",
              "      <td>8.000000</td>\n",
              "      <td>3.000000</td>\n",
              "      <td>2009.000000</td>\n",
              "      <td>8.000000</td>\n",
              "      <td>3.000000</td>\n",
              "      <td>2009.000000</td>\n",
              "    </tr>\n",
              "    <tr>\n",
              "      <th>50%</th>\n",
              "      <td>105.000000</td>\n",
              "      <td>2.858000</td>\n",
              "      <td>0.121000</td>\n",
              "      <td>2.649000</td>\n",
              "      <td>3.190000</td>\n",
              "      <td>0.392000</td>\n",
              "      <td>0.042000</td>\n",
              "      <td>2.458000</td>\n",
              "      <td>0.080000</td>\n",
              "      <td>2.310100</td>\n",
              "      <td>2.637300</td>\n",
              "      <td>0.031000</td>\n",
              "      <td>16.000000</td>\n",
              "      <td>6.000000</td>\n",
              "      <td>2013.000000</td>\n",
              "      <td>16.000000</td>\n",
              "      <td>6.000000</td>\n",
              "      <td>2013.000000</td>\n",
              "    </tr>\n",
              "    <tr>\n",
              "      <th>75%</th>\n",
              "      <td>239.000000</td>\n",
              "      <td>3.885000</td>\n",
              "      <td>0.202000</td>\n",
              "      <td>3.639000</td>\n",
              "      <td>4.399000</td>\n",
              "      <td>0.579000</td>\n",
              "      <td>0.059000</td>\n",
              "      <td>3.445000</td>\n",
              "      <td>0.156000</td>\n",
              "      <td>3.283400</td>\n",
              "      <td>3.653400</td>\n",
              "      <td>0.059000</td>\n",
              "      <td>23.000000</td>\n",
              "      <td>10.000000</td>\n",
              "      <td>2017.000000</td>\n",
              "      <td>23.000000</td>\n",
              "      <td>10.000000</td>\n",
              "      <td>2017.000000</td>\n",
              "    </tr>\n",
              "    <tr>\n",
              "      <th>max</th>\n",
              "      <td>4155.000000</td>\n",
              "      <td>99.357000</td>\n",
              "      <td>10.748000</td>\n",
              "      <td>90.000000</td>\n",
              "      <td>120.000000</td>\n",
              "      <td>36.847000</td>\n",
              "      <td>0.262000</td>\n",
              "      <td>83.137000</td>\n",
              "      <td>18.385000</td>\n",
              "      <td>83.000000</td>\n",
              "      <td>94.500000</td>\n",
              "      <td>0.780000</td>\n",
              "      <td>31.000000</td>\n",
              "      <td>12.000000</td>\n",
              "      <td>2020.000000</td>\n",
              "      <td>31.000000</td>\n",
              "      <td>12.000000</td>\n",
              "      <td>2020.000000</td>\n",
              "    </tr>\n",
              "  </tbody>\n",
              "</table>\n",
              "</div>\n",
              "      <button class=\"colab-df-convert\" onclick=\"convertToInteractive('df-0be16481-bb2b-47f8-b042-ae01839ff0d0')\"\n",
              "              title=\"Convert this dataframe to an interactive table.\"\n",
              "              style=\"display:none;\">\n",
              "\n",
              "  <svg xmlns=\"http://www.w3.org/2000/svg\" height=\"24px\"viewBox=\"0 0 24 24\"\n",
              "       width=\"24px\">\n",
              "    <path d=\"M0 0h24v24H0V0z\" fill=\"none\"/>\n",
              "    <path d=\"M18.56 5.44l.94 2.06.94-2.06 2.06-.94-2.06-.94-.94-2.06-.94 2.06-2.06.94zm-11 1L8.5 8.5l.94-2.06 2.06-.94-2.06-.94L8.5 2.5l-.94 2.06-2.06.94zm10 10l.94 2.06.94-2.06 2.06-.94-2.06-.94-.94-2.06-.94 2.06-2.06.94z\"/><path d=\"M17.41 7.96l-1.37-1.37c-.4-.4-.92-.59-1.43-.59-.52 0-1.04.2-1.43.59L10.3 9.45l-7.72 7.72c-.78.78-.78 2.05 0 2.83L4 21.41c.39.39.9.59 1.41.59.51 0 1.02-.2 1.41-.59l7.78-7.78 2.81-2.81c.8-.78.8-2.07 0-2.86zM5.41 20L4 18.59l7.72-7.72 1.47 1.35L5.41 20z\"/>\n",
              "  </svg>\n",
              "      </button>\n",
              "\n",
              "\n",
              "\n",
              "    <div id=\"df-887491b6-ee55-4900-93d9-f75408503f84\">\n",
              "      <button class=\"colab-df-quickchart\" onclick=\"quickchart('df-887491b6-ee55-4900-93d9-f75408503f84')\"\n",
              "              title=\"Suggest charts.\"\n",
              "              style=\"display:none;\">\n",
              "\n",
              "<svg xmlns=\"http://www.w3.org/2000/svg\" height=\"24px\"viewBox=\"0 0 24 24\"\n",
              "     width=\"24px\">\n",
              "    <g>\n",
              "        <path d=\"M19 3H5c-1.1 0-2 .9-2 2v14c0 1.1.9 2 2 2h14c1.1 0 2-.9 2-2V5c0-1.1-.9-2-2-2zM9 17H7v-7h2v7zm4 0h-2V7h2v10zm4 0h-2v-4h2v4z\"/>\n",
              "    </g>\n",
              "</svg>\n",
              "      </button>\n",
              "    </div>\n",
              "\n",
              "<style>\n",
              "  .colab-df-quickchart {\n",
              "    background-color: #E8F0FE;\n",
              "    border: none;\n",
              "    border-radius: 50%;\n",
              "    cursor: pointer;\n",
              "    display: none;\n",
              "    fill: #1967D2;\n",
              "    height: 32px;\n",
              "    padding: 0 0 0 0;\n",
              "    width: 32px;\n",
              "  }\n",
              "\n",
              "  .colab-df-quickchart:hover {\n",
              "    background-color: #E2EBFA;\n",
              "    box-shadow: 0px 1px 2px rgba(60, 64, 67, 0.3), 0px 1px 3px 1px rgba(60, 64, 67, 0.15);\n",
              "    fill: #174EA6;\n",
              "  }\n",
              "\n",
              "  [theme=dark] .colab-df-quickchart {\n",
              "    background-color: #3B4455;\n",
              "    fill: #D2E3FC;\n",
              "  }\n",
              "\n",
              "  [theme=dark] .colab-df-quickchart:hover {\n",
              "    background-color: #434B5C;\n",
              "    box-shadow: 0px 1px 3px 1px rgba(0, 0, 0, 0.15);\n",
              "    filter: drop-shadow(0px 1px 2px rgba(0, 0, 0, 0.3));\n",
              "    fill: #FFFFFF;\n",
              "  }\n",
              "</style>\n",
              "\n",
              "    <script>\n",
              "      async function quickchart(key) {\n",
              "        const containerElement = document.querySelector('#' + key);\n",
              "        const charts = await google.colab.kernel.invokeFunction(\n",
              "            'suggestCharts', [key], {});\n",
              "      }\n",
              "    </script>\n",
              "\n",
              "\n",
              "      <script>\n",
              "\n",
              "function displayQuickchartButton(domScope) {\n",
              "  let quickchartButtonEl =\n",
              "    domScope.querySelector('#df-887491b6-ee55-4900-93d9-f75408503f84 button.colab-df-quickchart');\n",
              "  quickchartButtonEl.style.display =\n",
              "    google.colab.kernel.accessAllowed ? 'block' : 'none';\n",
              "}\n",
              "\n",
              "        displayQuickchartButton(document);\n",
              "      </script>\n",
              "      <style>\n",
              "    .colab-df-container {\n",
              "      display:flex;\n",
              "      flex-wrap:wrap;\n",
              "      gap: 12px;\n",
              "    }\n",
              "\n",
              "    .colab-df-convert {\n",
              "      background-color: #E8F0FE;\n",
              "      border: none;\n",
              "      border-radius: 50%;\n",
              "      cursor: pointer;\n",
              "      display: none;\n",
              "      fill: #1967D2;\n",
              "      height: 32px;\n",
              "      padding: 0 0 0 0;\n",
              "      width: 32px;\n",
              "    }\n",
              "\n",
              "    .colab-df-convert:hover {\n",
              "      background-color: #E2EBFA;\n",
              "      box-shadow: 0px 1px 2px rgba(60, 64, 67, 0.3), 0px 1px 3px 1px rgba(60, 64, 67, 0.15);\n",
              "      fill: #174EA6;\n",
              "    }\n",
              "\n",
              "    [theme=dark] .colab-df-convert {\n",
              "      background-color: #3B4455;\n",
              "      fill: #D2E3FC;\n",
              "    }\n",
              "\n",
              "    [theme=dark] .colab-df-convert:hover {\n",
              "      background-color: #434B5C;\n",
              "      box-shadow: 0px 1px 3px 1px rgba(0, 0, 0, 0.15);\n",
              "      filter: drop-shadow(0px 1px 2px rgba(0, 0, 0, 0.3));\n",
              "      fill: #FFFFFF;\n",
              "    }\n",
              "  </style>\n",
              "\n",
              "      <script>\n",
              "        const buttonEl =\n",
              "          document.querySelector('#df-0be16481-bb2b-47f8-b042-ae01839ff0d0 button.colab-df-convert');\n",
              "        buttonEl.style.display =\n",
              "          google.colab.kernel.accessAllowed ? 'block' : 'none';\n",
              "\n",
              "        async function convertToInteractive(key) {\n",
              "          const element = document.querySelector('#df-0be16481-bb2b-47f8-b042-ae01839ff0d0');\n",
              "          const dataTable =\n",
              "            await google.colab.kernel.invokeFunction('convertToInteractive',\n",
              "                                                     [key], {});\n",
              "          if (!dataTable) return;\n",
              "\n",
              "          const docLinkHtml = 'Like what you see? Visit the ' +\n",
              "            '<a target=\"_blank\" href=https://colab.research.google.com/notebooks/data_table.ipynb>data table notebook</a>'\n",
              "            + ' to learn more about interactive tables.';\n",
              "          element.innerHTML = '';\n",
              "          dataTable['output_type'] = 'display_data';\n",
              "          await google.colab.output.renderOutput(dataTable, element);\n",
              "          const docLink = document.createElement('div');\n",
              "          docLink.innerHTML = docLinkHtml;\n",
              "          element.appendChild(docLink);\n",
              "        }\n",
              "      </script>\n",
              "    </div>\n",
              "  </div>\n"
            ]
          },
          "metadata": {},
          "execution_count": 599
        }
      ]
    }
  ],
  "metadata": {
    "kernelspec": {
      "display_name": "Python 3",
      "language": "python",
      "name": "python3"
    },
    "language_info": {
      "codemirror_mode": {
        "name": "ipython",
        "version": 3
      },
      "file_extension": ".py",
      "mimetype": "text/x-python",
      "name": "python",
      "nbconvert_exporter": "python",
      "pygments_lexer": "ipython3",
      "version": "3.11.1"
    },
    "orig_nbformat": 4,
    "colab": {
      "provenance": [],
      "include_colab_link": true
    }
  },
  "nbformat": 4,
  "nbformat_minor": 0
}