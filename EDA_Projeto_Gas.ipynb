{
  "cells": [
    {
      "cell_type": "markdown",
      "metadata": {
        "id": "view-in-github",
        "colab_type": "text"
      },
      "source": [
        "<a href=\"https://colab.research.google.com/github/manusaleal/EDA_Projeto_Gas/blob/desenvolvimento-cicero/EDA_Projeto_Gas.ipynb\" target=\"_parent\"><img src=\"https://colab.research.google.com/assets/colab-badge.svg\" alt=\"Open In Colab\"/></a>"
      ]
    },
    {
      "cell_type": "markdown",
      "source": [
        "#Projeto"
      ],
      "metadata": {
        "id": "ZtuXXNR4bqRn"
      }
    },
    {
      "cell_type": "code",
      "source": [
        "from google.colab import drive\n",
        "drive.mount('/content/drive')"
      ],
      "metadata": {
        "colab": {
          "base_uri": "https://localhost:8080/"
        },
        "id": "SwH85-DjaeY9",
        "outputId": "07c65faf-edce-4340-8871-7593b8cd86d7"
      },
      "execution_count": 333,
      "outputs": [
        {
          "output_type": "stream",
          "name": "stdout",
          "text": [
            "Drive already mounted at /content/drive; to attempt to forcibly remount, call drive.mount(\"/content/drive\", force_remount=True).\n"
          ]
        }
      ]
    },
    {
      "cell_type": "code",
      "execution_count": 334,
      "metadata": {
        "id": "Z_avPcEsWh6l"
      },
      "outputs": [],
      "source": [
        "import pandas as pd\n",
        "import numpy as np"
      ]
    },
    {
      "cell_type": "code",
      "execution_count": 335,
      "metadata": {
        "colab": {
          "base_uri": "https://localhost:8080/",
          "height": 653
        },
        "id": "e77ZOdXhWh6s",
        "outputId": "b794a29a-c24c-4f96-eb20-3d78b359c493"
      },
      "outputs": [
        {
          "output_type": "execute_result",
          "data": {
            "text/plain": [
              "  DATA INICIAL  DATA FINAL        REGIÃO              ESTADO  \\\n",
              "0   2004-05-09  2004-05-15  CENTRO OESTE    DISTRITO FEDERAL   \n",
              "1   2004-05-09  2004-05-15  CENTRO OESTE               GOIAS   \n",
              "2   2004-05-09  2004-05-15  CENTRO OESTE         MATO GROSSO   \n",
              "3   2004-05-09  2004-05-15  CENTRO OESTE  MATO GROSSO DO SUL   \n",
              "4   2004-05-09  2004-05-15      NORDESTE             ALAGOAS   \n",
              "5   2004-05-09  2004-05-15      NORDESTE               BAHIA   \n",
              "6   2004-05-09  2004-05-15      NORDESTE               CEARA   \n",
              "7   2004-05-09  2004-05-15      NORDESTE            MARANHAO   \n",
              "8   2004-05-09  2004-05-15      NORDESTE             PARAIBA   \n",
              "9   2004-05-09  2004-05-15      NORDESTE          PERNAMBUCO   \n",
              "\n",
              "            PRODUTO  NÚMERO DE POSTOS PESQUISADOS UNIDADE DE MEDIDA  \\\n",
              "0  ETANOL HIDRATADO                           127              R$/l   \n",
              "1  ETANOL HIDRATADO                           387              R$/l   \n",
              "2  ETANOL HIDRATADO                           192              R$/l   \n",
              "3  ETANOL HIDRATADO                           162              R$/l   \n",
              "4  ETANOL HIDRATADO                           103              R$/l   \n",
              "5  ETANOL HIDRATADO                           408              R$/l   \n",
              "6  ETANOL HIDRATADO                           278              R$/l   \n",
              "7  ETANOL HIDRATADO                           105              R$/l   \n",
              "8  ETANOL HIDRATADO                           125              R$/l   \n",
              "9  ETANOL HIDRATADO                           423              R$/l   \n",
              "\n",
              "   PREÇO MÉDIO REVENDA  DESVIO PADRÃO REVENDA  PREÇO MÍNIMO REVENDA  \\\n",
              "0                1.288                  0.016                 1.190   \n",
              "1                1.162                  0.114                 0.890   \n",
              "2                1.389                  0.097                 1.180   \n",
              "3                1.262                  0.070                 1.090   \n",
              "4                1.181                  0.078                 1.050   \n",
              "5                1.383                  0.132                 0.999   \n",
              "6                1.453                  0.218                 1.030   \n",
              "7                1.631                  0.158                 1.350   \n",
              "8                1.284                  0.130                 1.100   \n",
              "9                1.224                  0.141                 0.989   \n",
              "\n",
              "   PREÇO MÁXIMO REVENDA MARGEM MÉDIA REVENDA  COEF DE VARIAÇÃO REVENDA  \\\n",
              "0                 1.350                0.463                     0.012   \n",
              "1                 1.449                0.399                     0.098   \n",
              "2                 1.760                0.419                     0.070   \n",
              "3                 1.509                0.432                     0.055   \n",
              "4                 1.400                 0.24                     0.066   \n",
              "5                 2.050                0.426                     0.095   \n",
              "6                 1.950                0.353                     0.150   \n",
              "7                 2.000                0.515                     0.097   \n",
              "8                 1.699                0.353                     0.101   \n",
              "9                 1.700                0.277                     0.115   \n",
              "\n",
              "  PREÇO MÉDIO DISTRIBUIÇÃO DESVIO PADRÃO DISTRIBUIÇÃO  \\\n",
              "0                    0.825                       0.11   \n",
              "1                    0.763                      0.088   \n",
              "2                     0.97                      0.095   \n",
              "3                     0.83                      0.119   \n",
              "4                    0.941                      0.077   \n",
              "5                    0.957                      0.128   \n",
              "6                      1.1                      0.068   \n",
              "7                    1.116                      0.091   \n",
              "8                    0.931                      0.072   \n",
              "9                    0.947                      0.091   \n",
              "\n",
              "  PREÇO MÍNIMO DISTRIBUIÇÃO PREÇO MÁXIMO DISTRIBUIÇÃO  \\\n",
              "0                    0.4201                    0.9666   \n",
              "1                    0.5013                     01.05   \n",
              "2                    0.5614                     1.161   \n",
              "3                    0.5991                   1.22242   \n",
              "4                    0.7441                    1.0317   \n",
              "5                    0.5686                      1.35   \n",
              "6                    0.7332                     1.294   \n",
              "7                    0.9923                   1.36183   \n",
              "8                    0.7577                    1.2972   \n",
              "9                    0.5643                    1.3541   \n",
              "\n",
              "  COEF DE VARIAÇÃO DISTRIBUIÇÃO  \n",
              "0                         0.133  \n",
              "1                         0.115  \n",
              "2                         0.098  \n",
              "3                         0.143  \n",
              "4                         0.082  \n",
              "5                         0.134  \n",
              "6                         0.062  \n",
              "7                         0.082  \n",
              "8                         0.077  \n",
              "9                         0.096  "
            ],
            "text/html": [
              "\n",
              "\n",
              "  <div id=\"df-f8a789c6-d4f5-489c-85fa-b31b5dc0b94d\">\n",
              "    <div class=\"colab-df-container\">\n",
              "      <div>\n",
              "<style scoped>\n",
              "    .dataframe tbody tr th:only-of-type {\n",
              "        vertical-align: middle;\n",
              "    }\n",
              "\n",
              "    .dataframe tbody tr th {\n",
              "        vertical-align: top;\n",
              "    }\n",
              "\n",
              "    .dataframe thead th {\n",
              "        text-align: right;\n",
              "    }\n",
              "</style>\n",
              "<table border=\"1\" class=\"dataframe\">\n",
              "  <thead>\n",
              "    <tr style=\"text-align: right;\">\n",
              "      <th></th>\n",
              "      <th>DATA INICIAL</th>\n",
              "      <th>DATA FINAL</th>\n",
              "      <th>REGIÃO</th>\n",
              "      <th>ESTADO</th>\n",
              "      <th>PRODUTO</th>\n",
              "      <th>NÚMERO DE POSTOS PESQUISADOS</th>\n",
              "      <th>UNIDADE DE MEDIDA</th>\n",
              "      <th>PREÇO MÉDIO REVENDA</th>\n",
              "      <th>DESVIO PADRÃO REVENDA</th>\n",
              "      <th>PREÇO MÍNIMO REVENDA</th>\n",
              "      <th>PREÇO MÁXIMO REVENDA</th>\n",
              "      <th>MARGEM MÉDIA REVENDA</th>\n",
              "      <th>COEF DE VARIAÇÃO REVENDA</th>\n",
              "      <th>PREÇO MÉDIO DISTRIBUIÇÃO</th>\n",
              "      <th>DESVIO PADRÃO DISTRIBUIÇÃO</th>\n",
              "      <th>PREÇO MÍNIMO DISTRIBUIÇÃO</th>\n",
              "      <th>PREÇO MÁXIMO DISTRIBUIÇÃO</th>\n",
              "      <th>COEF DE VARIAÇÃO DISTRIBUIÇÃO</th>\n",
              "    </tr>\n",
              "  </thead>\n",
              "  <tbody>\n",
              "    <tr>\n",
              "      <th>0</th>\n",
              "      <td>2004-05-09</td>\n",
              "      <td>2004-05-15</td>\n",
              "      <td>CENTRO OESTE</td>\n",
              "      <td>DISTRITO FEDERAL</td>\n",
              "      <td>ETANOL HIDRATADO</td>\n",
              "      <td>127</td>\n",
              "      <td>R$/l</td>\n",
              "      <td>1.288</td>\n",
              "      <td>0.016</td>\n",
              "      <td>1.190</td>\n",
              "      <td>1.350</td>\n",
              "      <td>0.463</td>\n",
              "      <td>0.012</td>\n",
              "      <td>0.825</td>\n",
              "      <td>0.11</td>\n",
              "      <td>0.4201</td>\n",
              "      <td>0.9666</td>\n",
              "      <td>0.133</td>\n",
              "    </tr>\n",
              "    <tr>\n",
              "      <th>1</th>\n",
              "      <td>2004-05-09</td>\n",
              "      <td>2004-05-15</td>\n",
              "      <td>CENTRO OESTE</td>\n",
              "      <td>GOIAS</td>\n",
              "      <td>ETANOL HIDRATADO</td>\n",
              "      <td>387</td>\n",
              "      <td>R$/l</td>\n",
              "      <td>1.162</td>\n",
              "      <td>0.114</td>\n",
              "      <td>0.890</td>\n",
              "      <td>1.449</td>\n",
              "      <td>0.399</td>\n",
              "      <td>0.098</td>\n",
              "      <td>0.763</td>\n",
              "      <td>0.088</td>\n",
              "      <td>0.5013</td>\n",
              "      <td>01.05</td>\n",
              "      <td>0.115</td>\n",
              "    </tr>\n",
              "    <tr>\n",
              "      <th>2</th>\n",
              "      <td>2004-05-09</td>\n",
              "      <td>2004-05-15</td>\n",
              "      <td>CENTRO OESTE</td>\n",
              "      <td>MATO GROSSO</td>\n",
              "      <td>ETANOL HIDRATADO</td>\n",
              "      <td>192</td>\n",
              "      <td>R$/l</td>\n",
              "      <td>1.389</td>\n",
              "      <td>0.097</td>\n",
              "      <td>1.180</td>\n",
              "      <td>1.760</td>\n",
              "      <td>0.419</td>\n",
              "      <td>0.070</td>\n",
              "      <td>0.97</td>\n",
              "      <td>0.095</td>\n",
              "      <td>0.5614</td>\n",
              "      <td>1.161</td>\n",
              "      <td>0.098</td>\n",
              "    </tr>\n",
              "    <tr>\n",
              "      <th>3</th>\n",
              "      <td>2004-05-09</td>\n",
              "      <td>2004-05-15</td>\n",
              "      <td>CENTRO OESTE</td>\n",
              "      <td>MATO GROSSO DO SUL</td>\n",
              "      <td>ETANOL HIDRATADO</td>\n",
              "      <td>162</td>\n",
              "      <td>R$/l</td>\n",
              "      <td>1.262</td>\n",
              "      <td>0.070</td>\n",
              "      <td>1.090</td>\n",
              "      <td>1.509</td>\n",
              "      <td>0.432</td>\n",
              "      <td>0.055</td>\n",
              "      <td>0.83</td>\n",
              "      <td>0.119</td>\n",
              "      <td>0.5991</td>\n",
              "      <td>1.22242</td>\n",
              "      <td>0.143</td>\n",
              "    </tr>\n",
              "    <tr>\n",
              "      <th>4</th>\n",
              "      <td>2004-05-09</td>\n",
              "      <td>2004-05-15</td>\n",
              "      <td>NORDESTE</td>\n",
              "      <td>ALAGOAS</td>\n",
              "      <td>ETANOL HIDRATADO</td>\n",
              "      <td>103</td>\n",
              "      <td>R$/l</td>\n",
              "      <td>1.181</td>\n",
              "      <td>0.078</td>\n",
              "      <td>1.050</td>\n",
              "      <td>1.400</td>\n",
              "      <td>0.24</td>\n",
              "      <td>0.066</td>\n",
              "      <td>0.941</td>\n",
              "      <td>0.077</td>\n",
              "      <td>0.7441</td>\n",
              "      <td>1.0317</td>\n",
              "      <td>0.082</td>\n",
              "    </tr>\n",
              "    <tr>\n",
              "      <th>5</th>\n",
              "      <td>2004-05-09</td>\n",
              "      <td>2004-05-15</td>\n",
              "      <td>NORDESTE</td>\n",
              "      <td>BAHIA</td>\n",
              "      <td>ETANOL HIDRATADO</td>\n",
              "      <td>408</td>\n",
              "      <td>R$/l</td>\n",
              "      <td>1.383</td>\n",
              "      <td>0.132</td>\n",
              "      <td>0.999</td>\n",
              "      <td>2.050</td>\n",
              "      <td>0.426</td>\n",
              "      <td>0.095</td>\n",
              "      <td>0.957</td>\n",
              "      <td>0.128</td>\n",
              "      <td>0.5686</td>\n",
              "      <td>1.35</td>\n",
              "      <td>0.134</td>\n",
              "    </tr>\n",
              "    <tr>\n",
              "      <th>6</th>\n",
              "      <td>2004-05-09</td>\n",
              "      <td>2004-05-15</td>\n",
              "      <td>NORDESTE</td>\n",
              "      <td>CEARA</td>\n",
              "      <td>ETANOL HIDRATADO</td>\n",
              "      <td>278</td>\n",
              "      <td>R$/l</td>\n",
              "      <td>1.453</td>\n",
              "      <td>0.218</td>\n",
              "      <td>1.030</td>\n",
              "      <td>1.950</td>\n",
              "      <td>0.353</td>\n",
              "      <td>0.150</td>\n",
              "      <td>1.1</td>\n",
              "      <td>0.068</td>\n",
              "      <td>0.7332</td>\n",
              "      <td>1.294</td>\n",
              "      <td>0.062</td>\n",
              "    </tr>\n",
              "    <tr>\n",
              "      <th>7</th>\n",
              "      <td>2004-05-09</td>\n",
              "      <td>2004-05-15</td>\n",
              "      <td>NORDESTE</td>\n",
              "      <td>MARANHAO</td>\n",
              "      <td>ETANOL HIDRATADO</td>\n",
              "      <td>105</td>\n",
              "      <td>R$/l</td>\n",
              "      <td>1.631</td>\n",
              "      <td>0.158</td>\n",
              "      <td>1.350</td>\n",
              "      <td>2.000</td>\n",
              "      <td>0.515</td>\n",
              "      <td>0.097</td>\n",
              "      <td>1.116</td>\n",
              "      <td>0.091</td>\n",
              "      <td>0.9923</td>\n",
              "      <td>1.36183</td>\n",
              "      <td>0.082</td>\n",
              "    </tr>\n",
              "    <tr>\n",
              "      <th>8</th>\n",
              "      <td>2004-05-09</td>\n",
              "      <td>2004-05-15</td>\n",
              "      <td>NORDESTE</td>\n",
              "      <td>PARAIBA</td>\n",
              "      <td>ETANOL HIDRATADO</td>\n",
              "      <td>125</td>\n",
              "      <td>R$/l</td>\n",
              "      <td>1.284</td>\n",
              "      <td>0.130</td>\n",
              "      <td>1.100</td>\n",
              "      <td>1.699</td>\n",
              "      <td>0.353</td>\n",
              "      <td>0.101</td>\n",
              "      <td>0.931</td>\n",
              "      <td>0.072</td>\n",
              "      <td>0.7577</td>\n",
              "      <td>1.2972</td>\n",
              "      <td>0.077</td>\n",
              "    </tr>\n",
              "    <tr>\n",
              "      <th>9</th>\n",
              "      <td>2004-05-09</td>\n",
              "      <td>2004-05-15</td>\n",
              "      <td>NORDESTE</td>\n",
              "      <td>PERNAMBUCO</td>\n",
              "      <td>ETANOL HIDRATADO</td>\n",
              "      <td>423</td>\n",
              "      <td>R$/l</td>\n",
              "      <td>1.224</td>\n",
              "      <td>0.141</td>\n",
              "      <td>0.989</td>\n",
              "      <td>1.700</td>\n",
              "      <td>0.277</td>\n",
              "      <td>0.115</td>\n",
              "      <td>0.947</td>\n",
              "      <td>0.091</td>\n",
              "      <td>0.5643</td>\n",
              "      <td>1.3541</td>\n",
              "      <td>0.096</td>\n",
              "    </tr>\n",
              "  </tbody>\n",
              "</table>\n",
              "</div>\n",
              "      <button class=\"colab-df-convert\" onclick=\"convertToInteractive('df-f8a789c6-d4f5-489c-85fa-b31b5dc0b94d')\"\n",
              "              title=\"Convert this dataframe to an interactive table.\"\n",
              "              style=\"display:none;\">\n",
              "\n",
              "  <svg xmlns=\"http://www.w3.org/2000/svg\" height=\"24px\"viewBox=\"0 0 24 24\"\n",
              "       width=\"24px\">\n",
              "    <path d=\"M0 0h24v24H0V0z\" fill=\"none\"/>\n",
              "    <path d=\"M18.56 5.44l.94 2.06.94-2.06 2.06-.94-2.06-.94-.94-2.06-.94 2.06-2.06.94zm-11 1L8.5 8.5l.94-2.06 2.06-.94-2.06-.94L8.5 2.5l-.94 2.06-2.06.94zm10 10l.94 2.06.94-2.06 2.06-.94-2.06-.94-.94-2.06-.94 2.06-2.06.94z\"/><path d=\"M17.41 7.96l-1.37-1.37c-.4-.4-.92-.59-1.43-.59-.52 0-1.04.2-1.43.59L10.3 9.45l-7.72 7.72c-.78.78-.78 2.05 0 2.83L4 21.41c.39.39.9.59 1.41.59.51 0 1.02-.2 1.41-.59l7.78-7.78 2.81-2.81c.8-.78.8-2.07 0-2.86zM5.41 20L4 18.59l7.72-7.72 1.47 1.35L5.41 20z\"/>\n",
              "  </svg>\n",
              "      </button>\n",
              "\n",
              "\n",
              "\n",
              "    <div id=\"df-84871efd-66ec-4ade-949d-f17875d2dd73\">\n",
              "      <button class=\"colab-df-quickchart\" onclick=\"quickchart('df-84871efd-66ec-4ade-949d-f17875d2dd73')\"\n",
              "              title=\"Suggest charts.\"\n",
              "              style=\"display:none;\">\n",
              "\n",
              "<svg xmlns=\"http://www.w3.org/2000/svg\" height=\"24px\"viewBox=\"0 0 24 24\"\n",
              "     width=\"24px\">\n",
              "    <g>\n",
              "        <path d=\"M19 3H5c-1.1 0-2 .9-2 2v14c0 1.1.9 2 2 2h14c1.1 0 2-.9 2-2V5c0-1.1-.9-2-2-2zM9 17H7v-7h2v7zm4 0h-2V7h2v10zm4 0h-2v-4h2v4z\"/>\n",
              "    </g>\n",
              "</svg>\n",
              "      </button>\n",
              "    </div>\n",
              "\n",
              "<style>\n",
              "  .colab-df-quickchart {\n",
              "    background-color: #E8F0FE;\n",
              "    border: none;\n",
              "    border-radius: 50%;\n",
              "    cursor: pointer;\n",
              "    display: none;\n",
              "    fill: #1967D2;\n",
              "    height: 32px;\n",
              "    padding: 0 0 0 0;\n",
              "    width: 32px;\n",
              "  }\n",
              "\n",
              "  .colab-df-quickchart:hover {\n",
              "    background-color: #E2EBFA;\n",
              "    box-shadow: 0px 1px 2px rgba(60, 64, 67, 0.3), 0px 1px 3px 1px rgba(60, 64, 67, 0.15);\n",
              "    fill: #174EA6;\n",
              "  }\n",
              "\n",
              "  [theme=dark] .colab-df-quickchart {\n",
              "    background-color: #3B4455;\n",
              "    fill: #D2E3FC;\n",
              "  }\n",
              "\n",
              "  [theme=dark] .colab-df-quickchart:hover {\n",
              "    background-color: #434B5C;\n",
              "    box-shadow: 0px 1px 3px 1px rgba(0, 0, 0, 0.15);\n",
              "    filter: drop-shadow(0px 1px 2px rgba(0, 0, 0, 0.3));\n",
              "    fill: #FFFFFF;\n",
              "  }\n",
              "</style>\n",
              "\n",
              "    <script>\n",
              "      async function quickchart(key) {\n",
              "        const containerElement = document.querySelector('#' + key);\n",
              "        const charts = await google.colab.kernel.invokeFunction(\n",
              "            'suggestCharts', [key], {});\n",
              "      }\n",
              "    </script>\n",
              "\n",
              "\n",
              "      <script>\n",
              "\n",
              "function displayQuickchartButton(domScope) {\n",
              "  let quickchartButtonEl =\n",
              "    domScope.querySelector('#df-84871efd-66ec-4ade-949d-f17875d2dd73 button.colab-df-quickchart');\n",
              "  quickchartButtonEl.style.display =\n",
              "    google.colab.kernel.accessAllowed ? 'block' : 'none';\n",
              "}\n",
              "\n",
              "        displayQuickchartButton(document);\n",
              "      </script>\n",
              "      <style>\n",
              "    .colab-df-container {\n",
              "      display:flex;\n",
              "      flex-wrap:wrap;\n",
              "      gap: 12px;\n",
              "    }\n",
              "\n",
              "    .colab-df-convert {\n",
              "      background-color: #E8F0FE;\n",
              "      border: none;\n",
              "      border-radius: 50%;\n",
              "      cursor: pointer;\n",
              "      display: none;\n",
              "      fill: #1967D2;\n",
              "      height: 32px;\n",
              "      padding: 0 0 0 0;\n",
              "      width: 32px;\n",
              "    }\n",
              "\n",
              "    .colab-df-convert:hover {\n",
              "      background-color: #E2EBFA;\n",
              "      box-shadow: 0px 1px 2px rgba(60, 64, 67, 0.3), 0px 1px 3px 1px rgba(60, 64, 67, 0.15);\n",
              "      fill: #174EA6;\n",
              "    }\n",
              "\n",
              "    [theme=dark] .colab-df-convert {\n",
              "      background-color: #3B4455;\n",
              "      fill: #D2E3FC;\n",
              "    }\n",
              "\n",
              "    [theme=dark] .colab-df-convert:hover {\n",
              "      background-color: #434B5C;\n",
              "      box-shadow: 0px 1px 3px 1px rgba(0, 0, 0, 0.15);\n",
              "      filter: drop-shadow(0px 1px 2px rgba(0, 0, 0, 0.3));\n",
              "      fill: #FFFFFF;\n",
              "    }\n",
              "  </style>\n",
              "\n",
              "      <script>\n",
              "        const buttonEl =\n",
              "          document.querySelector('#df-f8a789c6-d4f5-489c-85fa-b31b5dc0b94d button.colab-df-convert');\n",
              "        buttonEl.style.display =\n",
              "          google.colab.kernel.accessAllowed ? 'block' : 'none';\n",
              "\n",
              "        async function convertToInteractive(key) {\n",
              "          const element = document.querySelector('#df-f8a789c6-d4f5-489c-85fa-b31b5dc0b94d');\n",
              "          const dataTable =\n",
              "            await google.colab.kernel.invokeFunction('convertToInteractive',\n",
              "                                                     [key], {});\n",
              "          if (!dataTable) return;\n",
              "\n",
              "          const docLinkHtml = 'Like what you see? Visit the ' +\n",
              "            '<a target=\"_blank\" href=https://colab.research.google.com/notebooks/data_table.ipynb>data table notebook</a>'\n",
              "            + ' to learn more about interactive tables.';\n",
              "          element.innerHTML = '';\n",
              "          dataTable['output_type'] = 'display_data';\n",
              "          await google.colab.output.renderOutput(dataTable, element);\n",
              "          const docLink = document.createElement('div');\n",
              "          docLink.innerHTML = docLinkHtml;\n",
              "          element.appendChild(docLink);\n",
              "        }\n",
              "      </script>\n",
              "    </div>\n",
              "  </div>\n"
            ]
          },
          "metadata": {},
          "execution_count": 335
        }
      ],
      "source": [
        "#Abrindo a base de dados .csv\n",
        "df_base = pd.read_csv('/content/drive/MyDrive/Colab Notebooks/TPI (PY) - Projeto Final/2004-2021.csv')\n",
        "\n",
        "#Realizando uma rápida observação dos dados\n",
        "df_base.head(10)"
      ]
    },
    {
      "cell_type": "markdown",
      "source": [
        "##Pré Análise dos Dados"
      ],
      "metadata": {
        "id": "zrUfEJ9ZEbX_"
      }
    },
    {
      "cell_type": "code",
      "source": [
        "#Verificando o tamanho do nosso dataset\n",
        "df_base.shape"
      ],
      "metadata": {
        "colab": {
          "base_uri": "https://localhost:8080/"
        },
        "id": "SM2nCDviEjpG",
        "outputId": "bdc0668b-5d06-4dab-c2a1-2ec02c699588"
      },
      "execution_count": 336,
      "outputs": [
        {
          "output_type": "execute_result",
          "data": {
            "text/plain": [
              "(120823, 18)"
            ]
          },
          "metadata": {},
          "execution_count": 336
        }
      ]
    },
    {
      "cell_type": "code",
      "source": [
        "#Verificando as colunas existentes no dataset\n",
        "df_base.columns"
      ],
      "metadata": {
        "colab": {
          "base_uri": "https://localhost:8080/"
        },
        "id": "acwM6ipSEq5V",
        "outputId": "3c19b8e4-6ab5-46bd-9e4e-e1a6c8e5ca71"
      },
      "execution_count": 337,
      "outputs": [
        {
          "output_type": "execute_result",
          "data": {
            "text/plain": [
              "Index(['DATA INICIAL', 'DATA FINAL', 'REGIÃO', 'ESTADO', 'PRODUTO',\n",
              "       'NÚMERO DE POSTOS PESQUISADOS', 'UNIDADE DE MEDIDA',\n",
              "       'PREÇO MÉDIO REVENDA', 'DESVIO PADRÃO REVENDA', 'PREÇO MÍNIMO REVENDA',\n",
              "       'PREÇO MÁXIMO REVENDA', 'MARGEM MÉDIA REVENDA',\n",
              "       'COEF DE VARIAÇÃO REVENDA', 'PREÇO MÉDIO DISTRIBUIÇÃO',\n",
              "       'DESVIO PADRÃO DISTRIBUIÇÃO', 'PREÇO MÍNIMO DISTRIBUIÇÃO',\n",
              "       'PREÇO MÁXIMO DISTRIBUIÇÃO', 'COEF DE VARIAÇÃO DISTRIBUIÇÃO'],\n",
              "      dtype='object')"
            ]
          },
          "metadata": {},
          "execution_count": 337
        }
      ]
    },
    {
      "cell_type": "code",
      "source": [
        "COLUNAS = ['DATA INICIAL', 'DATA FINAL', 'REGIÃO', 'ESTADO', 'PRODUTO', 'NÚMERO DE POSTOS PESQUISADOS',\n",
        "           'UNIDADE DE MEDIDA', 'PREÇO MÉDIO REVENDA', 'DESVIO PADRÃO REVENDA', 'PREÇO MÍNIMO REVENDA',\n",
        "           'PREÇO MÁXIMO REVENDA', 'MARGEM MÉDIA REVENDA', 'COEF DE VARIAÇÃO REVENDA', 'PREÇO MÉDIO DISTRIBUIÇÃO',\n",
        "           'DESVIO PADRÃO DISTRIBUIÇÃO', 'PREÇO MÍNIMO DISTRIBUIÇÃO', 'PREÇO MÁXIMO DISTRIBUIÇÃO',\n",
        "           'COEF DE VARIAÇÃO DISTRIBUIÇÃO']"
      ],
      "metadata": {
        "id": "6e2KWJ-SEsoD"
      },
      "execution_count": 338,
      "outputs": []
    },
    {
      "cell_type": "markdown",
      "source": [
        "Não foi possível visualizar em df.head() se o dataset possui células vazias ou nulas. Para isto, iremos utilizar o comando isna(), isnull() e somar por coluna."
      ],
      "metadata": {
        "id": "P93gBcEwFqWR"
      }
    },
    {
      "cell_type": "code",
      "source": [
        "#Verificando se o dataset possui células:\n",
        "#   * NaN se o tipo de dado for numérico\n",
        "#   * None ou NaN se o tipo de dado for objeto\n",
        "#   * NaT se o tipo de dado for data\n",
        "df_base.isna().sum()"
      ],
      "metadata": {
        "colab": {
          "base_uri": "https://localhost:8080/"
        },
        "id": "LrhjC2DGFsqt",
        "outputId": "9fe1e475-23b4-473c-9135-79b192bb1410"
      },
      "execution_count": 339,
      "outputs": [
        {
          "output_type": "execute_result",
          "data": {
            "text/plain": [
              "DATA INICIAL                     0\n",
              "DATA FINAL                       0\n",
              "REGIÃO                           0\n",
              "ESTADO                           0\n",
              "PRODUTO                          0\n",
              "NÚMERO DE POSTOS PESQUISADOS     0\n",
              "UNIDADE DE MEDIDA                0\n",
              "PREÇO MÉDIO REVENDA              0\n",
              "DESVIO PADRÃO REVENDA            0\n",
              "PREÇO MÍNIMO REVENDA             0\n",
              "PREÇO MÁXIMO REVENDA             0\n",
              "MARGEM MÉDIA REVENDA             0\n",
              "COEF DE VARIAÇÃO REVENDA         0\n",
              "PREÇO MÉDIO DISTRIBUIÇÃO         0\n",
              "DESVIO PADRÃO DISTRIBUIÇÃO       0\n",
              "PREÇO MÍNIMO DISTRIBUIÇÃO        0\n",
              "PREÇO MÁXIMO DISTRIBUIÇÃO        0\n",
              "COEF DE VARIAÇÃO DISTRIBUIÇÃO    0\n",
              "dtype: int64"
            ]
          },
          "metadata": {},
          "execution_count": 339
        }
      ]
    },
    {
      "cell_type": "code",
      "source": [
        "#Verificando se o dataset possui células:\n",
        "#   * None ou numpy.NaN.\n",
        "\n",
        "#OBS: Células do tipo '' ou numpy.inf não são mapadas por essa função a menos que o comando abaixo seja rodado:\n",
        "#pd.options.mode.use_inf_as_na = True\n",
        "df_base.isnull().sum()"
      ],
      "metadata": {
        "colab": {
          "base_uri": "https://localhost:8080/"
        },
        "id": "OjPYsLIpFuwk",
        "outputId": "9925a695-2983-4de1-9c77-c93f3b677c6e"
      },
      "execution_count": 340,
      "outputs": [
        {
          "output_type": "execute_result",
          "data": {
            "text/plain": [
              "DATA INICIAL                     0\n",
              "DATA FINAL                       0\n",
              "REGIÃO                           0\n",
              "ESTADO                           0\n",
              "PRODUTO                          0\n",
              "NÚMERO DE POSTOS PESQUISADOS     0\n",
              "UNIDADE DE MEDIDA                0\n",
              "PREÇO MÉDIO REVENDA              0\n",
              "DESVIO PADRÃO REVENDA            0\n",
              "PREÇO MÍNIMO REVENDA             0\n",
              "PREÇO MÁXIMO REVENDA             0\n",
              "MARGEM MÉDIA REVENDA             0\n",
              "COEF DE VARIAÇÃO REVENDA         0\n",
              "PREÇO MÉDIO DISTRIBUIÇÃO         0\n",
              "DESVIO PADRÃO DISTRIBUIÇÃO       0\n",
              "PREÇO MÍNIMO DISTRIBUIÇÃO        0\n",
              "PREÇO MÁXIMO DISTRIBUIÇÃO        0\n",
              "COEF DE VARIAÇÃO DISTRIBUIÇÃO    0\n",
              "dtype: int64"
            ]
          },
          "metadata": {},
          "execution_count": 340
        }
      ]
    },
    {
      "cell_type": "code",
      "source": [
        "#Verificando se o dataset possui células:\n",
        "#   * None ou numpy.NaN ou '' ou nump.inf.\n",
        "pd.options.mode.use_inf_as_na = True\n",
        "df_base.isnull().sum()"
      ],
      "metadata": {
        "colab": {
          "base_uri": "https://localhost:8080/"
        },
        "id": "ViId4y65FyVV",
        "outputId": "c49d46ff-9122-4302-ac0f-84e7afb5f5bc"
      },
      "execution_count": 341,
      "outputs": [
        {
          "output_type": "execute_result",
          "data": {
            "text/plain": [
              "DATA INICIAL                     0\n",
              "DATA FINAL                       0\n",
              "REGIÃO                           0\n",
              "ESTADO                           0\n",
              "PRODUTO                          0\n",
              "NÚMERO DE POSTOS PESQUISADOS     0\n",
              "UNIDADE DE MEDIDA                0\n",
              "PREÇO MÉDIO REVENDA              0\n",
              "DESVIO PADRÃO REVENDA            0\n",
              "PREÇO MÍNIMO REVENDA             0\n",
              "PREÇO MÁXIMO REVENDA             0\n",
              "MARGEM MÉDIA REVENDA             0\n",
              "COEF DE VARIAÇÃO REVENDA         0\n",
              "PREÇO MÉDIO DISTRIBUIÇÃO         0\n",
              "DESVIO PADRÃO DISTRIBUIÇÃO       0\n",
              "PREÇO MÍNIMO DISTRIBUIÇÃO        0\n",
              "PREÇO MÁXIMO DISTRIBUIÇÃO        0\n",
              "COEF DE VARIAÇÃO DISTRIBUIÇÃO    0\n",
              "dtype: int64"
            ]
          },
          "metadata": {},
          "execution_count": 341
        }
      ]
    },
    {
      "cell_type": "markdown",
      "source": [
        "Todas as colunas não possuem valores nulos."
      ],
      "metadata": {
        "id": "Aar3nWMuF9Fv"
      }
    },
    {
      "cell_type": "code",
      "source": [
        "#Analisando a quantidade de valores únicos para as colunas\n",
        "#'DATA INICIAL', 'DATA FINAL', 'REGIÃO', 'ESTADO', 'PRODUTO', 'UNIDADE DE MEDIDA'\n",
        "\n",
        "for i in [0, 1, 2, 3, 4, 6]:\n",
        "  coluna = df_base[COLUNAS[i]].unique()\n",
        "  tamanho = len(coluna)\n",
        "  print(f'{COLUNAS[i]} tem {tamanho} valores únicos')"
      ],
      "metadata": {
        "colab": {
          "base_uri": "https://localhost:8080/"
        },
        "id": "mOBO73muFHwe",
        "outputId": "1df0e267-f0e4-46f6-f398-e5109770a023"
      },
      "execution_count": 342,
      "outputs": [
        {
          "output_type": "stream",
          "name": "stdout",
          "text": [
            "DATA INICIAL tem 873 valores únicos\n",
            "DATA FINAL tem 873 valores únicos\n",
            "REGIÃO tem 5 valores únicos\n",
            "ESTADO tem 27 valores únicos\n",
            "PRODUTO tem 9 valores únicos\n",
            "UNIDADE DE MEDIDA tem 3 valores únicos\n"
          ]
        }
      ]
    },
    {
      "cell_type": "code",
      "source": [
        "df_base['REGIÃO'].value_counts()"
      ],
      "metadata": {
        "colab": {
          "base_uri": "https://localhost:8080/"
        },
        "id": "stpu5oPCPa0Y",
        "outputId": "216774c3-41ab-4857-8ef2-774ecc7d2b7a"
      },
      "execution_count": 343,
      "outputs": [
        {
          "output_type": "execute_result",
          "data": {
            "text/plain": [
              "NORDESTE        41671\n",
              "NORTE           27989\n",
              "SUDESTE         19270\n",
              "CENTRO OESTE    17449\n",
              "SUL             14444\n",
              "Name: REGIÃO, dtype: int64"
            ]
          },
          "metadata": {},
          "execution_count": 343
        }
      ]
    },
    {
      "cell_type": "code",
      "source": [
        "df_base['ESTADO'].value_counts()"
      ],
      "metadata": {
        "colab": {
          "base_uri": "https://localhost:8080/"
        },
        "id": "tusfKBJBPo71",
        "outputId": "08fa5c3d-cc75-4b52-99e5-2485987cd830"
      },
      "execution_count": 344,
      "outputs": [
        {
          "output_type": "execute_result",
          "data": {
            "text/plain": [
              "PARAIBA                4819\n",
              "RIO DE JANEIRO         4819\n",
              "SAO PAULO              4819\n",
              "RIO GRANDE DO SUL      4819\n",
              "BAHIA                  4819\n",
              "SANTA CATARINA         4818\n",
              "RIO GRANDE DO NORTE    4818\n",
              "MINAS GERAIS           4817\n",
              "ESPIRITO SANTO         4815\n",
              "PERNAMBUCO             4813\n",
              "CEARA                  4813\n",
              "PARANA                 4807\n",
              "ALAGOAS                4806\n",
              "SERGIPE                4795\n",
              "MATO GROSSO DO SUL     4793\n",
              "MATO GROSSO            4566\n",
              "AMAZONAS               4414\n",
              "GOIAS                  4134\n",
              "PIAUI                  4017\n",
              "MARANHAO               3971\n",
              "DISTRITO FEDERAL       3956\n",
              "PARA                   3955\n",
              "TOCANTINS              3953\n",
              "RONDONIA               3950\n",
              "ACRE                   3948\n",
              "RORAIMA                3938\n",
              "AMAPA                  3831\n",
              "Name: ESTADO, dtype: int64"
            ]
          },
          "metadata": {},
          "execution_count": 344
        }
      ]
    },
    {
      "cell_type": "markdown",
      "source": [
        "Os dados estão bem distibuídos pelos estados."
      ],
      "metadata": {
        "id": "_KAKJ2-3Qhz0"
      }
    },
    {
      "cell_type": "code",
      "source": [
        "df_base['PRODUTO'].value_counts()"
      ],
      "metadata": {
        "colab": {
          "base_uri": "https://localhost:8080/"
        },
        "id": "AVShQrSDPwWv",
        "outputId": "d2a0dbab-49f2-4c57-c551-c8dfb79473da"
      },
      "execution_count": 345,
      "outputs": [
        {
          "output_type": "execute_result",
          "data": {
            "text/plain": [
              "GASOLINA COMUM        23570\n",
              "GLP                   23561\n",
              "ETANOL HIDRATADO      23440\n",
              "ÓLEO DIESEL           21194\n",
              "GNV                   14469\n",
              "ÓLEO DIESEL S10        9113\n",
              "OLEO DIESEL S10        2376\n",
              "OLEO DIESEL            2351\n",
              "GASOLINA ADITIVADA      749\n",
              "Name: PRODUTO, dtype: int64"
            ]
          },
          "metadata": {},
          "execution_count": 345
        }
      ]
    },
    {
      "cell_type": "markdown",
      "source": [
        "Precisa dar uma tratada na coluna PRODUTO."
      ],
      "metadata": {
        "id": "FZFP5x-WQzYd"
      }
    },
    {
      "cell_type": "code",
      "source": [
        "df_base['UNIDADE DE MEDIDA'].value_counts()"
      ],
      "metadata": {
        "colab": {
          "base_uri": "https://localhost:8080/"
        },
        "id": "7mKVIqT-QBQZ",
        "outputId": "2d3801f6-bb52-4d88-9bb2-dffa1a3e7865"
      },
      "execution_count": 346,
      "outputs": [
        {
          "output_type": "execute_result",
          "data": {
            "text/plain": [
              "R$/l       82793\n",
              "R$/13Kg    23561\n",
              "R$/m3      14469\n",
              "Name: UNIDADE DE MEDIDA, dtype: int64"
            ]
          },
          "metadata": {},
          "execution_count": 346
        }
      ]
    },
    {
      "cell_type": "markdown",
      "source": [
        "Tem que tomar cuidado quando for comparar"
      ],
      "metadata": {
        "id": "ZjE4rnmzQ-cM"
      }
    },
    {
      "cell_type": "markdown",
      "source": [
        "##Tratamento dos Dados"
      ],
      "metadata": {
        "id": "i18zuWeIEOv3"
      }
    },
    {
      "cell_type": "code",
      "execution_count": 347,
      "metadata": {
        "colab": {
          "base_uri": "https://localhost:8080/"
        },
        "id": "HA0TMIL8Wh60",
        "outputId": "58c91464-dee7-4750-a051-9392875ed390"
      },
      "outputs": [
        {
          "output_type": "stream",
          "name": "stdout",
          "text": [
            "<class 'pandas.core.frame.DataFrame'>\n",
            "RangeIndex: 120823 entries, 0 to 120822\n",
            "Data columns (total 18 columns):\n",
            " #   Column                         Non-Null Count   Dtype  \n",
            "---  ------                         --------------   -----  \n",
            " 0   DATA INICIAL                   120823 non-null  object \n",
            " 1   DATA FINAL                     120823 non-null  object \n",
            " 2   REGIÃO                         120823 non-null  object \n",
            " 3   ESTADO                         120823 non-null  object \n",
            " 4   PRODUTO                        120823 non-null  object \n",
            " 5   NÚMERO DE POSTOS PESQUISADOS   120823 non-null  int64  \n",
            " 6   UNIDADE DE MEDIDA              120823 non-null  object \n",
            " 7   PREÇO MÉDIO REVENDA            120823 non-null  float64\n",
            " 8   DESVIO PADRÃO REVENDA          120823 non-null  float64\n",
            " 9   PREÇO MÍNIMO REVENDA           120823 non-null  float64\n",
            " 10  PREÇO MÁXIMO REVENDA           120823 non-null  float64\n",
            " 11  MARGEM MÉDIA REVENDA           120823 non-null  object \n",
            " 12  COEF DE VARIAÇÃO REVENDA       120823 non-null  float64\n",
            " 13  PREÇO MÉDIO DISTRIBUIÇÃO       120823 non-null  object \n",
            " 14  DESVIO PADRÃO DISTRIBUIÇÃO     120823 non-null  object \n",
            " 15  PREÇO MÍNIMO DISTRIBUIÇÃO      120823 non-null  object \n",
            " 16  PREÇO MÁXIMO DISTRIBUIÇÃO      120823 non-null  object \n",
            " 17  COEF DE VARIAÇÃO DISTRIBUIÇÃO  120823 non-null  object \n",
            "dtypes: float64(5), int64(1), object(12)\n",
            "memory usage: 16.6+ MB\n"
          ]
        }
      ],
      "source": [
        "#Analisando os tipos de variáveis das colunas\n",
        "df = df_base.copy()\n",
        "df.info()"
      ]
    },
    {
      "cell_type": "markdown",
      "source": [
        "Note que algumas colunas que deveriam ser numéricas estão como object.\n",
        "\n",
        "EXEMPLO:\n",
        "* MARGEM MÉDIA REVENDA\n",
        "* PREÇO MÉDIO DISTRIBUIÇÃO\n",
        "* DESVIO PADRÃO DISTRIBUIÇÃO\n",
        "* PREÇO MÍNIMO DISTRIBUIÇÃO\n",
        "* PREÇO MÁXIMO DISTRIBUIÇÃO\n",
        "* COEF DE VARIAÇÃO DISTRIBUIÇÃO\n",
        "\n",
        "Será feita a conversão das mesmas."
      ],
      "metadata": {
        "id": "GT3KkZbQ1EL3"
      }
    },
    {
      "cell_type": "code",
      "source": [
        "#Convertendo para numérico (float neste caso) e coagindo quando necessário\n",
        "LISTA_NOME_COLUNAS_CONVERTIDAS = [\"MARGEM MÉDIA REVENDA\", \"PREÇO MÉDIO DISTRIBUIÇÃO\", \"DESVIO PADRÃO DISTRIBUIÇÃO\",\n",
        "                                  \"PREÇO MÍNIMO DISTRIBUIÇÃO\", \"PREÇO MÁXIMO DISTRIBUIÇÃO\", \"COEF DE VARIAÇÃO DISTRIBUIÇÃO\"]\n",
        "\n",
        "for i in range(0, len(LISTA_NOME_COLUNAS_CONVERTIDAS)):\n",
        "  nome = LISTA_NOME_COLUNAS_CONVERTIDAS[i]\n",
        "  #O coerce foi usado para converter em 'NaN' os casos em que não foi possível fazer o cast.\n",
        "  #O número a ser convertido não pode ser menor que (np.iinfo(np.int64).min)\n",
        "  # e nem maior que (np.iinfo(np.uint64).max)\n",
        "  df[nome] = pd.to_numeric(df[nome],errors='coerce')"
      ],
      "metadata": {
        "id": "HDu08j3F06OQ"
      },
      "execution_count": 348,
      "outputs": []
    },
    {
      "cell_type": "code",
      "source": [
        "pd.options.mode.use_inf_as_na = False\n",
        "df.isna().sum()"
      ],
      "metadata": {
        "colab": {
          "base_uri": "https://localhost:8080/"
        },
        "id": "dDp9FPNI4otO",
        "outputId": "e2b0a82f-f810-4ece-9bb6-5e449267b694"
      },
      "execution_count": 349,
      "outputs": [
        {
          "output_type": "execute_result",
          "data": {
            "text/plain": [
              "DATA INICIAL                        0\n",
              "DATA FINAL                          0\n",
              "REGIÃO                              0\n",
              "ESTADO                              0\n",
              "PRODUTO                             0\n",
              "NÚMERO DE POSTOS PESQUISADOS        0\n",
              "UNIDADE DE MEDIDA                   0\n",
              "PREÇO MÉDIO REVENDA                 0\n",
              "DESVIO PADRÃO REVENDA               0\n",
              "PREÇO MÍNIMO REVENDA                0\n",
              "PREÇO MÁXIMO REVENDA                0\n",
              "MARGEM MÉDIA REVENDA             3431\n",
              "COEF DE VARIAÇÃO REVENDA            0\n",
              "PREÇO MÉDIO DISTRIBUIÇÃO         3400\n",
              "DESVIO PADRÃO DISTRIBUIÇÃO       3400\n",
              "PREÇO MÍNIMO DISTRIBUIÇÃO        3400\n",
              "PREÇO MÁXIMO DISTRIBUIÇÃO        3400\n",
              "COEF DE VARIAÇÃO DISTRIBUIÇÃO    3400\n",
              "dtype: int64"
            ]
          },
          "metadata": {},
          "execution_count": 349
        }
      ]
    },
    {
      "cell_type": "code",
      "source": [
        "df.isnull().sum()"
      ],
      "metadata": {
        "colab": {
          "base_uri": "https://localhost:8080/"
        },
        "id": "KpZ0Cz2c4qNN",
        "outputId": "4e799add-469d-4d60-f89f-6c2005b13d5e"
      },
      "execution_count": 350,
      "outputs": [
        {
          "output_type": "execute_result",
          "data": {
            "text/plain": [
              "DATA INICIAL                        0\n",
              "DATA FINAL                          0\n",
              "REGIÃO                              0\n",
              "ESTADO                              0\n",
              "PRODUTO                             0\n",
              "NÚMERO DE POSTOS PESQUISADOS        0\n",
              "UNIDADE DE MEDIDA                   0\n",
              "PREÇO MÉDIO REVENDA                 0\n",
              "DESVIO PADRÃO REVENDA               0\n",
              "PREÇO MÍNIMO REVENDA                0\n",
              "PREÇO MÁXIMO REVENDA                0\n",
              "MARGEM MÉDIA REVENDA             3431\n",
              "COEF DE VARIAÇÃO REVENDA            0\n",
              "PREÇO MÉDIO DISTRIBUIÇÃO         3400\n",
              "DESVIO PADRÃO DISTRIBUIÇÃO       3400\n",
              "PREÇO MÍNIMO DISTRIBUIÇÃO        3400\n",
              "PREÇO MÁXIMO DISTRIBUIÇÃO        3400\n",
              "COEF DE VARIAÇÃO DISTRIBUIÇÃO    3400\n",
              "dtype: int64"
            ]
          },
          "metadata": {},
          "execution_count": 350
        }
      ]
    },
    {
      "cell_type": "code",
      "source": [
        "pd.options.mode.use_inf_as_na = True\n",
        "df.isnull().sum()"
      ],
      "metadata": {
        "colab": {
          "base_uri": "https://localhost:8080/"
        },
        "id": "Za3x-GLl43SD",
        "outputId": "1546c6e3-bab4-47ed-e9da-e461f21be405"
      },
      "execution_count": 351,
      "outputs": [
        {
          "output_type": "execute_result",
          "data": {
            "text/plain": [
              "DATA INICIAL                        0\n",
              "DATA FINAL                          0\n",
              "REGIÃO                              0\n",
              "ESTADO                              0\n",
              "PRODUTO                             0\n",
              "NÚMERO DE POSTOS PESQUISADOS        0\n",
              "UNIDADE DE MEDIDA                   0\n",
              "PREÇO MÉDIO REVENDA                 0\n",
              "DESVIO PADRÃO REVENDA               0\n",
              "PREÇO MÍNIMO REVENDA                0\n",
              "PREÇO MÁXIMO REVENDA                0\n",
              "MARGEM MÉDIA REVENDA             3431\n",
              "COEF DE VARIAÇÃO REVENDA            0\n",
              "PREÇO MÉDIO DISTRIBUIÇÃO         3400\n",
              "DESVIO PADRÃO DISTRIBUIÇÃO       3400\n",
              "PREÇO MÍNIMO DISTRIBUIÇÃO        3400\n",
              "PREÇO MÁXIMO DISTRIBUIÇÃO        3400\n",
              "COEF DE VARIAÇÃO DISTRIBUIÇÃO    3400\n",
              "dtype: int64"
            ]
          },
          "metadata": {},
          "execution_count": 351
        }
      ]
    },
    {
      "cell_type": "code",
      "source": [
        "df_base['MARGEM MÉDIA REVENDA'].value_counts()"
      ],
      "metadata": {
        "colab": {
          "base_uri": "https://localhost:8080/"
        },
        "id": "zknASyePTWaM",
        "outputId": "2a174dc6-1d35-41cf-cfcd-b272f1ea8464"
      },
      "execution_count": 352,
      "outputs": [
        {
          "output_type": "execute_result",
          "data": {
            "text/plain": [
              "-99999.0    5517\n",
              "-           3431\n",
              "0.361        329\n",
              "0.326        317\n",
              "0.333        313\n",
              "            ... \n",
              "11.091         1\n",
              "9.923          1\n",
              "13.273         1\n",
              "13.952         1\n",
              "22.671         1\n",
              "Name: MARGEM MÉDIA REVENDA, Length: 12885, dtype: int64"
            ]
          },
          "metadata": {},
          "execution_count": 352
        }
      ]
    },
    {
      "cell_type": "markdown",
      "source": [
        "São exatamente 3431 linhas que nã puderam ser conertidas para numeric. Qual é o significado de '-'?"
      ],
      "metadata": {
        "id": "HDxAjJQzTVd0"
      }
    },
    {
      "cell_type": "code",
      "source": [
        "df_base['PREÇO MÉDIO DISTRIBUIÇÃO'].value_counts()"
      ],
      "metadata": {
        "colab": {
          "base_uri": "https://localhost:8080/"
        },
        "id": "uvJyECzJTm9c",
        "outputId": "747a5d92-c63d-49c1-a0f4-acc7e8aed0ad"
      },
      "execution_count": 353,
      "outputs": [
        {
          "output_type": "execute_result",
          "data": {
            "text/plain": [
              "-99999.0    5508\n",
              "-           3400\n",
              "1.283         96\n",
              "1.684         92\n",
              "1.681         92\n",
              "            ... \n",
              "34.843         1\n",
              "39.918         1\n",
              "32.663         1\n",
              "28.48          1\n",
              "51.166         1\n",
              "Name: PREÇO MÉDIO DISTRIBUIÇÃO, Length: 17170, dtype: int64"
            ]
          },
          "metadata": {},
          "execution_count": 353
        }
      ]
    },
    {
      "cell_type": "markdown",
      "source": [
        "São exatamente 3400 linhas que nã puderam ser conertidas para numeric. Qual é o significado de '-'?"
      ],
      "metadata": {
        "id": "bAMOYkfRTnok"
      }
    },
    {
      "cell_type": "code",
      "source": [
        "df_base['DESVIO PADRÃO DISTRIBUIÇÃO'].value_counts()"
      ],
      "metadata": {
        "colab": {
          "base_uri": "https://localhost:8080/"
        },
        "id": "HQncEg9CT1V7",
        "outputId": "fed52cd6-e9d7-4edb-bea2-9e9d08b998d9"
      },
      "execution_count": 354,
      "outputs": [
        {
          "output_type": "execute_result",
          "data": {
            "text/plain": [
              "-99999.0    5508\n",
              "-           3400\n",
              "0           3235\n",
              "0.046       1108\n",
              "0.056       1062\n",
              "            ... \n",
              "3.676          1\n",
              "7.233          1\n",
              "5.469          1\n",
              "5.516          1\n",
              "5.442          1\n",
              "Name: DESVIO PADRÃO DISTRIBUIÇÃO, Length: 6144, dtype: int64"
            ]
          },
          "metadata": {},
          "execution_count": 354
        }
      ]
    },
    {
      "cell_type": "markdown",
      "source": [
        "São exatamente 3400 linhas que nã puderam ser conertidas para numeric. Qual é o significado de '-'?"
      ],
      "metadata": {
        "id": "F7gMC-QBT1uq"
      }
    },
    {
      "cell_type": "code",
      "source": [
        "df_base['PREÇO MÍNIMO DISTRIBUIÇÃO'].value_counts()"
      ],
      "metadata": {
        "colab": {
          "base_uri": "https://localhost:8080/"
        },
        "id": "vvVq8iEvUE67",
        "outputId": "84dfb9c7-e835-4f86-96f2-4f63a4bfe14e"
      },
      "execution_count": 355,
      "outputs": [
        {
          "output_type": "execute_result",
          "data": {
            "text/plain": [
              "-99999.0    5508\n",
              "-           3400\n",
              "24           832\n",
              "26           469\n",
              "22.5         446\n",
              "            ... \n",
              "1.8232         1\n",
              "1.8542         1\n",
              "2.1454         1\n",
              "1.9356         1\n",
              "2.9328         1\n",
              "Name: PREÇO MÍNIMO DISTRIBUIÇÃO, Length: 23036, dtype: int64"
            ]
          },
          "metadata": {},
          "execution_count": 355
        }
      ]
    },
    {
      "cell_type": "markdown",
      "source": [
        "São exatamente 3400 linhas que nã puderam ser conertidas para numeric. Qual é o significado de '-'?"
      ],
      "metadata": {
        "id": "udcT3xgfUFOM"
      }
    },
    {
      "cell_type": "code",
      "source": [
        "df_base['PREÇO MÁXIMO DISTRIBUIÇÃO'].value_counts()"
      ],
      "metadata": {
        "colab": {
          "base_uri": "https://localhost:8080/"
        },
        "id": "IvsRFbP6URS5",
        "outputId": "8c02afca-6900-49a1-b7fb-d54dd4b8bd9a"
      },
      "execution_count": 356,
      "outputs": [
        {
          "output_type": "execute_result",
          "data": {
            "text/plain": [
              "-99999.0    5508\n",
              "-           3400\n",
              "32           844\n",
              "35           728\n",
              "30           707\n",
              "            ... \n",
              "40.699         1\n",
              "1.2786         1\n",
              "2.7602         1\n",
              "42.4           1\n",
              "3.8237         1\n",
              "Name: PREÇO MÁXIMO DISTRIBUIÇÃO, Length: 24150, dtype: int64"
            ]
          },
          "metadata": {},
          "execution_count": 356
        }
      ]
    },
    {
      "cell_type": "markdown",
      "source": [
        "São exatamente 3400 linhas que nã puderam ser conertidas para numeric. Qual é o significado de '-'?"
      ],
      "metadata": {
        "id": "TLbWCVv7URiC"
      }
    },
    {
      "cell_type": "code",
      "source": [
        "df_base['COEF DE VARIAÇÃO DISTRIBUIÇÃO'].value_counts()"
      ],
      "metadata": {
        "colab": {
          "base_uri": "https://localhost:8080/"
        },
        "id": "Kc2jGtlCUcxS",
        "outputId": "cbbd3736-f48b-4cfe-eaa8-13ea7a80d46f"
      },
      "execution_count": 357,
      "outputs": [
        {
          "output_type": "execute_result",
          "data": {
            "text/plain": [
              "-99999.0    5508\n",
              "-           3400\n",
              "0.022       3304\n",
              "0           3292\n",
              "0.021       3284\n",
              "            ... \n",
              "0.609          1\n",
              "0.496          1\n",
              "0.35           1\n",
              "0.365          1\n",
              "0.591          1\n",
              "Name: COEF DE VARIAÇÃO DISTRIBUIÇÃO, Length: 400, dtype: int64"
            ]
          },
          "metadata": {},
          "execution_count": 357
        }
      ]
    },
    {
      "cell_type": "markdown",
      "source": [
        "São exatamente 3400 linhas que nã puderam ser conertidas para numeric. Qual é o significado de '-'?"
      ],
      "metadata": {
        "id": "xChjx__YUdF5"
      }
    },
    {
      "cell_type": "markdown",
      "source": [
        "Perceba que agora existem varias células vazias. Precisamos tratá-las antes de continuarmos."
      ],
      "metadata": {
        "id": "VpynFQj-5md0"
      }
    },
    {
      "cell_type": "code",
      "source": [],
      "metadata": {
        "id": "p-MrQkURPWvN"
      },
      "execution_count": 357,
      "outputs": []
    },
    {
      "cell_type": "markdown",
      "metadata": {
        "id": "c-5cx-mqWh61"
      },
      "source": [
        "Analisando a data, seria interessante trabalhar com o dia, mês e ano em colunas separadas para facilitar a análise."
      ]
    },
    {
      "cell_type": "code",
      "execution_count": 358,
      "metadata": {
        "colab": {
          "base_uri": "https://localhost:8080/",
          "height": 438
        },
        "id": "5jxg2DDQWh62",
        "outputId": "67910958-b65f-4cbb-bb6c-9151bfad2cce"
      },
      "outputs": [
        {
          "output_type": "execute_result",
          "data": {
            "text/plain": [
              "  DATA INICIAL  DATA FINAL        REGIÃO              ESTADO  \\\n",
              "0   2004-05-09  2004-05-15  CENTRO OESTE    DISTRITO FEDERAL   \n",
              "1   2004-05-09  2004-05-15  CENTRO OESTE               GOIAS   \n",
              "2   2004-05-09  2004-05-15  CENTRO OESTE         MATO GROSSO   \n",
              "3   2004-05-09  2004-05-15  CENTRO OESTE  MATO GROSSO DO SUL   \n",
              "4   2004-05-09  2004-05-15      NORDESTE             ALAGOAS   \n",
              "\n",
              "            PRODUTO  NÚMERO DE POSTOS PESQUISADOS UNIDADE DE MEDIDA  \\\n",
              "0  ETANOL HIDRATADO                           127              R$/l   \n",
              "1  ETANOL HIDRATADO                           387              R$/l   \n",
              "2  ETANOL HIDRATADO                           192              R$/l   \n",
              "3  ETANOL HIDRATADO                           162              R$/l   \n",
              "4  ETANOL HIDRATADO                           103              R$/l   \n",
              "\n",
              "   PREÇO MÉDIO REVENDA  DESVIO PADRÃO REVENDA  PREÇO MÍNIMO REVENDA  ...  \\\n",
              "0                1.288                  0.016                  1.19  ...   \n",
              "1                1.162                  0.114                  0.89  ...   \n",
              "2                1.389                  0.097                  1.18  ...   \n",
              "3                1.262                  0.070                  1.09  ...   \n",
              "4                1.181                  0.078                  1.05  ...   \n",
              "\n",
              "   DESVIO PADRÃO DISTRIBUIÇÃO  PREÇO MÍNIMO DISTRIBUIÇÃO  \\\n",
              "0                       0.110                     0.4201   \n",
              "1                       0.088                     0.5013   \n",
              "2                       0.095                     0.5614   \n",
              "3                       0.119                     0.5991   \n",
              "4                       0.077                     0.7441   \n",
              "\n",
              "   PREÇO MÁXIMO DISTRIBUIÇÃO  COEF DE VARIAÇÃO DISTRIBUIÇÃO  DIA INICIAL  \\\n",
              "0                    0.96660                          0.133            9   \n",
              "1                    1.05000                          0.115            9   \n",
              "2                    1.16100                          0.098            9   \n",
              "3                    1.22242                          0.143            9   \n",
              "4                    1.03170                          0.082            9   \n",
              "\n",
              "   MES INICIAL  ANO INICIAL  DIA FINAL  MES FINAL  ANO FINAL  \n",
              "0            5         2004         15          5       2004  \n",
              "1            5         2004         15          5       2004  \n",
              "2            5         2004         15          5       2004  \n",
              "3            5         2004         15          5       2004  \n",
              "4            5         2004         15          5       2004  \n",
              "\n",
              "[5 rows x 24 columns]"
            ],
            "text/html": [
              "\n",
              "\n",
              "  <div id=\"df-6eb9d896-2360-4401-b358-eadf7a03a5d4\">\n",
              "    <div class=\"colab-df-container\">\n",
              "      <div>\n",
              "<style scoped>\n",
              "    .dataframe tbody tr th:only-of-type {\n",
              "        vertical-align: middle;\n",
              "    }\n",
              "\n",
              "    .dataframe tbody tr th {\n",
              "        vertical-align: top;\n",
              "    }\n",
              "\n",
              "    .dataframe thead th {\n",
              "        text-align: right;\n",
              "    }\n",
              "</style>\n",
              "<table border=\"1\" class=\"dataframe\">\n",
              "  <thead>\n",
              "    <tr style=\"text-align: right;\">\n",
              "      <th></th>\n",
              "      <th>DATA INICIAL</th>\n",
              "      <th>DATA FINAL</th>\n",
              "      <th>REGIÃO</th>\n",
              "      <th>ESTADO</th>\n",
              "      <th>PRODUTO</th>\n",
              "      <th>NÚMERO DE POSTOS PESQUISADOS</th>\n",
              "      <th>UNIDADE DE MEDIDA</th>\n",
              "      <th>PREÇO MÉDIO REVENDA</th>\n",
              "      <th>DESVIO PADRÃO REVENDA</th>\n",
              "      <th>PREÇO MÍNIMO REVENDA</th>\n",
              "      <th>...</th>\n",
              "      <th>DESVIO PADRÃO DISTRIBUIÇÃO</th>\n",
              "      <th>PREÇO MÍNIMO DISTRIBUIÇÃO</th>\n",
              "      <th>PREÇO MÁXIMO DISTRIBUIÇÃO</th>\n",
              "      <th>COEF DE VARIAÇÃO DISTRIBUIÇÃO</th>\n",
              "      <th>DIA INICIAL</th>\n",
              "      <th>MES INICIAL</th>\n",
              "      <th>ANO INICIAL</th>\n",
              "      <th>DIA FINAL</th>\n",
              "      <th>MES FINAL</th>\n",
              "      <th>ANO FINAL</th>\n",
              "    </tr>\n",
              "  </thead>\n",
              "  <tbody>\n",
              "    <tr>\n",
              "      <th>0</th>\n",
              "      <td>2004-05-09</td>\n",
              "      <td>2004-05-15</td>\n",
              "      <td>CENTRO OESTE</td>\n",
              "      <td>DISTRITO FEDERAL</td>\n",
              "      <td>ETANOL HIDRATADO</td>\n",
              "      <td>127</td>\n",
              "      <td>R$/l</td>\n",
              "      <td>1.288</td>\n",
              "      <td>0.016</td>\n",
              "      <td>1.19</td>\n",
              "      <td>...</td>\n",
              "      <td>0.110</td>\n",
              "      <td>0.4201</td>\n",
              "      <td>0.96660</td>\n",
              "      <td>0.133</td>\n",
              "      <td>9</td>\n",
              "      <td>5</td>\n",
              "      <td>2004</td>\n",
              "      <td>15</td>\n",
              "      <td>5</td>\n",
              "      <td>2004</td>\n",
              "    </tr>\n",
              "    <tr>\n",
              "      <th>1</th>\n",
              "      <td>2004-05-09</td>\n",
              "      <td>2004-05-15</td>\n",
              "      <td>CENTRO OESTE</td>\n",
              "      <td>GOIAS</td>\n",
              "      <td>ETANOL HIDRATADO</td>\n",
              "      <td>387</td>\n",
              "      <td>R$/l</td>\n",
              "      <td>1.162</td>\n",
              "      <td>0.114</td>\n",
              "      <td>0.89</td>\n",
              "      <td>...</td>\n",
              "      <td>0.088</td>\n",
              "      <td>0.5013</td>\n",
              "      <td>1.05000</td>\n",
              "      <td>0.115</td>\n",
              "      <td>9</td>\n",
              "      <td>5</td>\n",
              "      <td>2004</td>\n",
              "      <td>15</td>\n",
              "      <td>5</td>\n",
              "      <td>2004</td>\n",
              "    </tr>\n",
              "    <tr>\n",
              "      <th>2</th>\n",
              "      <td>2004-05-09</td>\n",
              "      <td>2004-05-15</td>\n",
              "      <td>CENTRO OESTE</td>\n",
              "      <td>MATO GROSSO</td>\n",
              "      <td>ETANOL HIDRATADO</td>\n",
              "      <td>192</td>\n",
              "      <td>R$/l</td>\n",
              "      <td>1.389</td>\n",
              "      <td>0.097</td>\n",
              "      <td>1.18</td>\n",
              "      <td>...</td>\n",
              "      <td>0.095</td>\n",
              "      <td>0.5614</td>\n",
              "      <td>1.16100</td>\n",
              "      <td>0.098</td>\n",
              "      <td>9</td>\n",
              "      <td>5</td>\n",
              "      <td>2004</td>\n",
              "      <td>15</td>\n",
              "      <td>5</td>\n",
              "      <td>2004</td>\n",
              "    </tr>\n",
              "    <tr>\n",
              "      <th>3</th>\n",
              "      <td>2004-05-09</td>\n",
              "      <td>2004-05-15</td>\n",
              "      <td>CENTRO OESTE</td>\n",
              "      <td>MATO GROSSO DO SUL</td>\n",
              "      <td>ETANOL HIDRATADO</td>\n",
              "      <td>162</td>\n",
              "      <td>R$/l</td>\n",
              "      <td>1.262</td>\n",
              "      <td>0.070</td>\n",
              "      <td>1.09</td>\n",
              "      <td>...</td>\n",
              "      <td>0.119</td>\n",
              "      <td>0.5991</td>\n",
              "      <td>1.22242</td>\n",
              "      <td>0.143</td>\n",
              "      <td>9</td>\n",
              "      <td>5</td>\n",
              "      <td>2004</td>\n",
              "      <td>15</td>\n",
              "      <td>5</td>\n",
              "      <td>2004</td>\n",
              "    </tr>\n",
              "    <tr>\n",
              "      <th>4</th>\n",
              "      <td>2004-05-09</td>\n",
              "      <td>2004-05-15</td>\n",
              "      <td>NORDESTE</td>\n",
              "      <td>ALAGOAS</td>\n",
              "      <td>ETANOL HIDRATADO</td>\n",
              "      <td>103</td>\n",
              "      <td>R$/l</td>\n",
              "      <td>1.181</td>\n",
              "      <td>0.078</td>\n",
              "      <td>1.05</td>\n",
              "      <td>...</td>\n",
              "      <td>0.077</td>\n",
              "      <td>0.7441</td>\n",
              "      <td>1.03170</td>\n",
              "      <td>0.082</td>\n",
              "      <td>9</td>\n",
              "      <td>5</td>\n",
              "      <td>2004</td>\n",
              "      <td>15</td>\n",
              "      <td>5</td>\n",
              "      <td>2004</td>\n",
              "    </tr>\n",
              "  </tbody>\n",
              "</table>\n",
              "<p>5 rows × 24 columns</p>\n",
              "</div>\n",
              "      <button class=\"colab-df-convert\" onclick=\"convertToInteractive('df-6eb9d896-2360-4401-b358-eadf7a03a5d4')\"\n",
              "              title=\"Convert this dataframe to an interactive table.\"\n",
              "              style=\"display:none;\">\n",
              "\n",
              "  <svg xmlns=\"http://www.w3.org/2000/svg\" height=\"24px\"viewBox=\"0 0 24 24\"\n",
              "       width=\"24px\">\n",
              "    <path d=\"M0 0h24v24H0V0z\" fill=\"none\"/>\n",
              "    <path d=\"M18.56 5.44l.94 2.06.94-2.06 2.06-.94-2.06-.94-.94-2.06-.94 2.06-2.06.94zm-11 1L8.5 8.5l.94-2.06 2.06-.94-2.06-.94L8.5 2.5l-.94 2.06-2.06.94zm10 10l.94 2.06.94-2.06 2.06-.94-2.06-.94-.94-2.06-.94 2.06-2.06.94z\"/><path d=\"M17.41 7.96l-1.37-1.37c-.4-.4-.92-.59-1.43-.59-.52 0-1.04.2-1.43.59L10.3 9.45l-7.72 7.72c-.78.78-.78 2.05 0 2.83L4 21.41c.39.39.9.59 1.41.59.51 0 1.02-.2 1.41-.59l7.78-7.78 2.81-2.81c.8-.78.8-2.07 0-2.86zM5.41 20L4 18.59l7.72-7.72 1.47 1.35L5.41 20z\"/>\n",
              "  </svg>\n",
              "      </button>\n",
              "\n",
              "\n",
              "\n",
              "    <div id=\"df-42f7fdf8-8fc1-4942-b828-6fa0375a2b5c\">\n",
              "      <button class=\"colab-df-quickchart\" onclick=\"quickchart('df-42f7fdf8-8fc1-4942-b828-6fa0375a2b5c')\"\n",
              "              title=\"Suggest charts.\"\n",
              "              style=\"display:none;\">\n",
              "\n",
              "<svg xmlns=\"http://www.w3.org/2000/svg\" height=\"24px\"viewBox=\"0 0 24 24\"\n",
              "     width=\"24px\">\n",
              "    <g>\n",
              "        <path d=\"M19 3H5c-1.1 0-2 .9-2 2v14c0 1.1.9 2 2 2h14c1.1 0 2-.9 2-2V5c0-1.1-.9-2-2-2zM9 17H7v-7h2v7zm4 0h-2V7h2v10zm4 0h-2v-4h2v4z\"/>\n",
              "    </g>\n",
              "</svg>\n",
              "      </button>\n",
              "    </div>\n",
              "\n",
              "<style>\n",
              "  .colab-df-quickchart {\n",
              "    background-color: #E8F0FE;\n",
              "    border: none;\n",
              "    border-radius: 50%;\n",
              "    cursor: pointer;\n",
              "    display: none;\n",
              "    fill: #1967D2;\n",
              "    height: 32px;\n",
              "    padding: 0 0 0 0;\n",
              "    width: 32px;\n",
              "  }\n",
              "\n",
              "  .colab-df-quickchart:hover {\n",
              "    background-color: #E2EBFA;\n",
              "    box-shadow: 0px 1px 2px rgba(60, 64, 67, 0.3), 0px 1px 3px 1px rgba(60, 64, 67, 0.15);\n",
              "    fill: #174EA6;\n",
              "  }\n",
              "\n",
              "  [theme=dark] .colab-df-quickchart {\n",
              "    background-color: #3B4455;\n",
              "    fill: #D2E3FC;\n",
              "  }\n",
              "\n",
              "  [theme=dark] .colab-df-quickchart:hover {\n",
              "    background-color: #434B5C;\n",
              "    box-shadow: 0px 1px 3px 1px rgba(0, 0, 0, 0.15);\n",
              "    filter: drop-shadow(0px 1px 2px rgba(0, 0, 0, 0.3));\n",
              "    fill: #FFFFFF;\n",
              "  }\n",
              "</style>\n",
              "\n",
              "    <script>\n",
              "      async function quickchart(key) {\n",
              "        const containerElement = document.querySelector('#' + key);\n",
              "        const charts = await google.colab.kernel.invokeFunction(\n",
              "            'suggestCharts', [key], {});\n",
              "      }\n",
              "    </script>\n",
              "\n",
              "\n",
              "      <script>\n",
              "\n",
              "function displayQuickchartButton(domScope) {\n",
              "  let quickchartButtonEl =\n",
              "    domScope.querySelector('#df-42f7fdf8-8fc1-4942-b828-6fa0375a2b5c button.colab-df-quickchart');\n",
              "  quickchartButtonEl.style.display =\n",
              "    google.colab.kernel.accessAllowed ? 'block' : 'none';\n",
              "}\n",
              "\n",
              "        displayQuickchartButton(document);\n",
              "      </script>\n",
              "      <style>\n",
              "    .colab-df-container {\n",
              "      display:flex;\n",
              "      flex-wrap:wrap;\n",
              "      gap: 12px;\n",
              "    }\n",
              "\n",
              "    .colab-df-convert {\n",
              "      background-color: #E8F0FE;\n",
              "      border: none;\n",
              "      border-radius: 50%;\n",
              "      cursor: pointer;\n",
              "      display: none;\n",
              "      fill: #1967D2;\n",
              "      height: 32px;\n",
              "      padding: 0 0 0 0;\n",
              "      width: 32px;\n",
              "    }\n",
              "\n",
              "    .colab-df-convert:hover {\n",
              "      background-color: #E2EBFA;\n",
              "      box-shadow: 0px 1px 2px rgba(60, 64, 67, 0.3), 0px 1px 3px 1px rgba(60, 64, 67, 0.15);\n",
              "      fill: #174EA6;\n",
              "    }\n",
              "\n",
              "    [theme=dark] .colab-df-convert {\n",
              "      background-color: #3B4455;\n",
              "      fill: #D2E3FC;\n",
              "    }\n",
              "\n",
              "    [theme=dark] .colab-df-convert:hover {\n",
              "      background-color: #434B5C;\n",
              "      box-shadow: 0px 1px 3px 1px rgba(0, 0, 0, 0.15);\n",
              "      filter: drop-shadow(0px 1px 2px rgba(0, 0, 0, 0.3));\n",
              "      fill: #FFFFFF;\n",
              "    }\n",
              "  </style>\n",
              "\n",
              "      <script>\n",
              "        const buttonEl =\n",
              "          document.querySelector('#df-6eb9d896-2360-4401-b358-eadf7a03a5d4 button.colab-df-convert');\n",
              "        buttonEl.style.display =\n",
              "          google.colab.kernel.accessAllowed ? 'block' : 'none';\n",
              "\n",
              "        async function convertToInteractive(key) {\n",
              "          const element = document.querySelector('#df-6eb9d896-2360-4401-b358-eadf7a03a5d4');\n",
              "          const dataTable =\n",
              "            await google.colab.kernel.invokeFunction('convertToInteractive',\n",
              "                                                     [key], {});\n",
              "          if (!dataTable) return;\n",
              "\n",
              "          const docLinkHtml = 'Like what you see? Visit the ' +\n",
              "            '<a target=\"_blank\" href=https://colab.research.google.com/notebooks/data_table.ipynb>data table notebook</a>'\n",
              "            + ' to learn more about interactive tables.';\n",
              "          element.innerHTML = '';\n",
              "          dataTable['output_type'] = 'display_data';\n",
              "          await google.colab.output.renderOutput(dataTable, element);\n",
              "          const docLink = document.createElement('div');\n",
              "          docLink.innerHTML = docLinkHtml;\n",
              "          element.appendChild(docLink);\n",
              "        }\n",
              "      </script>\n",
              "    </div>\n",
              "  </div>\n"
            ]
          },
          "metadata": {},
          "execution_count": 358
        }
      ],
      "source": [
        "#Novas colunas com o dia, mês e ano baseadas na coluna \"DATA INICIAL\" e \"DATA FINAL\"\n",
        "\n",
        "   #dia_inicial = pd.DatetimeIndex(df_base['DATA INICIAL']).day\n",
        "   #dia_final = pd.DatetimeIndex(df_base['DATA FINAL']).day\n",
        "\n",
        "   #mes_inicial = pd.DatetimeIndex(df_base['DATA INICIAL']).month\n",
        "   #mes_final = pd.DatetimeIndex(df_base['DATA FINAL']).month\n",
        "\n",
        "   #ano_inicial = pd.DatetimeIndex(df_base['DATA INICIAL']).year\n",
        "   #ano_final = pd.DatetimeIndex(df_base['DATA FINAL']).year\n",
        "\n",
        "LISTA_NOME_COLUNAS_NOVAS = ['DIA INICIAL', 'MES INICIAL', 'ANO INICIAL', 'DIA FINAL', 'MES FINAL', 'ANO FINAL']\n",
        "\n",
        "lista_colunas = list()\n",
        "\n",
        "for i in range(0, len(LISTA_NOME_COLUNAS_NOVAS)):\n",
        "  nome = LISTA_NOME_COLUNAS_NOVAS[i]\n",
        "\n",
        "  if 'INICIAL' in nome:\n",
        "    coluna_aux = df['DATA INICIAL']\n",
        "  elif 'FINAL' in nome:\n",
        "    coluna_aux = df['DATA FINAL']\n",
        "  else:\n",
        "    print('Erro Inesperado')\n",
        "    continue\n",
        "\n",
        "  if 'DIA' in nome:\n",
        "    coluna = pd.DatetimeIndex(coluna_aux).day\n",
        "  elif 'MES' in nome:\n",
        "    coluna = pd.DatetimeIndex(coluna_aux).month\n",
        "  elif 'ANO' in nome:\n",
        "    coluna = pd.DatetimeIndex(coluna_aux).year\n",
        "  else:\n",
        "    print('Erro Inesperado')\n",
        "    continue\n",
        "\n",
        "#Adicionando as colunas no DataFrame\n",
        "#df_base = df_base.assign(dia_inicial = dia_inicial, mes_inicial = mes_inicial, ano_inicial = ano_inicial, dia_final = dia_final, mes_final = mes_final, ano_final = ano_final)\n",
        "\n",
        "  df.insert(len(df.columns), LISTA_NOME_COLUNAS_NOVAS[i], coluna)\n",
        "\n",
        "#Visualizando o dataset modificado\n",
        "df.head()"
      ]
    },
    {
      "cell_type": "code",
      "source": [
        "#Analisando os tipos de variáveis das colunas\n",
        "df.info()"
      ],
      "metadata": {
        "colab": {
          "base_uri": "https://localhost:8080/"
        },
        "id": "jrMutJi50Z2Y",
        "outputId": "a18fe4dd-e6b3-4492-b1a9-29062d5151d4"
      },
      "execution_count": 359,
      "outputs": [
        {
          "output_type": "stream",
          "name": "stdout",
          "text": [
            "<class 'pandas.core.frame.DataFrame'>\n",
            "RangeIndex: 120823 entries, 0 to 120822\n",
            "Data columns (total 24 columns):\n",
            " #   Column                         Non-Null Count   Dtype  \n",
            "---  ------                         --------------   -----  \n",
            " 0   DATA INICIAL                   120823 non-null  object \n",
            " 1   DATA FINAL                     120823 non-null  object \n",
            " 2   REGIÃO                         120823 non-null  object \n",
            " 3   ESTADO                         120823 non-null  object \n",
            " 4   PRODUTO                        120823 non-null  object \n",
            " 5   NÚMERO DE POSTOS PESQUISADOS   120823 non-null  int64  \n",
            " 6   UNIDADE DE MEDIDA              120823 non-null  object \n",
            " 7   PREÇO MÉDIO REVENDA            120823 non-null  float64\n",
            " 8   DESVIO PADRÃO REVENDA          120823 non-null  float64\n",
            " 9   PREÇO MÍNIMO REVENDA           120823 non-null  float64\n",
            " 10  PREÇO MÁXIMO REVENDA           120823 non-null  float64\n",
            " 11  MARGEM MÉDIA REVENDA           117392 non-null  float64\n",
            " 12  COEF DE VARIAÇÃO REVENDA       120823 non-null  float64\n",
            " 13  PREÇO MÉDIO DISTRIBUIÇÃO       117423 non-null  float64\n",
            " 14  DESVIO PADRÃO DISTRIBUIÇÃO     117423 non-null  float64\n",
            " 15  PREÇO MÍNIMO DISTRIBUIÇÃO      117423 non-null  float64\n",
            " 16  PREÇO MÁXIMO DISTRIBUIÇÃO      117423 non-null  float64\n",
            " 17  COEF DE VARIAÇÃO DISTRIBUIÇÃO  117423 non-null  float64\n",
            " 18  DIA INICIAL                    120823 non-null  int64  \n",
            " 19  MES INICIAL                    120823 non-null  int64  \n",
            " 20  ANO INICIAL                    120823 non-null  int64  \n",
            " 21  DIA FINAL                      120823 non-null  int64  \n",
            " 22  MES FINAL                      120823 non-null  int64  \n",
            " 23  ANO FINAL                      120823 non-null  int64  \n",
            "dtypes: float64(11), int64(7), object(6)\n",
            "memory usage: 22.1+ MB\n"
          ]
        }
      ]
    },
    {
      "cell_type": "code",
      "source": [
        "#Visualizando algumas estatísticas rápidas do dataset\n",
        "df.describe()"
      ],
      "metadata": {
        "colab": {
          "base_uri": "https://localhost:8080/",
          "height": 399
        },
        "id": "SJV7DLtrAMcR",
        "outputId": "98378fb8-30e8-4a4f-c8f4-ac324dcb279c"
      },
      "execution_count": 362,
      "outputs": [
        {
          "output_type": "execute_result",
          "data": {
            "text/plain": [
              "       NÚMERO DE POSTOS PESQUISADOS  PREÇO MÉDIO REVENDA  \\\n",
              "count                 120823.000000        120823.000000   \n",
              "mean                     221.066461            11.473440   \n",
              "std                      387.940239            19.161823   \n",
              "min                        1.000000             0.766000   \n",
              "25%                       39.000000             2.157000   \n",
              "50%                       99.000000             2.899000   \n",
              "75%                      226.000000             4.026000   \n",
              "max                     4167.000000           107.500000   \n",
              "\n",
              "       DESVIO PADRÃO REVENDA  PREÇO MÍNIMO REVENDA  PREÇO MÁXIMO REVENDA  \\\n",
              "count          120823.000000         120823.000000         120823.000000   \n",
              "mean                0.684132              9.977821             13.233902   \n",
              "std                 1.403317             16.433783             22.451445   \n",
              "min                 0.000000              0.590000              0.999000   \n",
              "25%                 0.075000              1.989000              2.420000   \n",
              "50%                 0.121000              2.690000              3.200000   \n",
              "75%                 0.204000              3.790000              4.589000   \n",
              "max                10.748000            100.000000            120.000000   \n",
              "\n",
              "       MARGEM MÉDIA REVENDA  COEF DE VARIAÇÃO REVENDA  \\\n",
              "count         117392.000000             120823.000000   \n",
              "mean           -4697.376395                  0.045298   \n",
              "std            21163.482182                  0.024763   \n",
              "min           -99999.000000                  0.000000   \n",
              "25%                0.272000                  0.029000   \n",
              "50%                0.381000                  0.041000   \n",
              "75%                0.554000                  0.058000   \n",
              "max               36.847000                  0.395000   \n",
              "\n",
              "       PREÇO MÉDIO DISTRIBUIÇÃO  DESVIO PADRÃO DISTRIBUIÇÃO  \\\n",
              "count             117423.000000               117423.000000   \n",
              "mean               -4682.188208                -4690.133173   \n",
              "std                21145.807211                21144.040032   \n",
              "min               -99999.000000               -99999.000000   \n",
              "25%                    1.757000                    0.044000   \n",
              "50%                    2.359000                    0.076000   \n",
              "75%                    3.364000                    0.148000   \n",
              "max                   83.137000                   18.385000   \n",
              "\n",
              "       PREÇO MÍNIMO DISTRIBUIÇÃO  PREÇO MÁXIMO DISTRIBUIÇÃO  \\\n",
              "count              117423.000000              117423.000000   \n",
              "mean                -4683.304895               -4680.964830   \n",
              "std                 21145.558284               21146.080296   \n",
              "min                -99999.000000              -99999.000000   \n",
              "25%                     1.638000                   1.900250   \n",
              "50%                     2.238000                   2.537600   \n",
              "75%                     3.200000                   3.575750   \n",
              "max                    83.000000                  94.500000   \n",
              "\n",
              "       COEF DE VARIAÇÃO DISTRIBUIÇÃO    DIA INICIAL    MES INICIAL  \\\n",
              "count                  117423.000000  120823.000000  120823.000000   \n",
              "mean                    -4690.642465      15.713829       6.468876   \n",
              "std                     21143.927009       8.806543       3.475266   \n",
              "min                    -99999.000000       1.000000       1.000000   \n",
              "25%                         0.019000       8.000000       3.000000   \n",
              "50%                         0.029000      16.000000       6.000000   \n",
              "75%                         0.058000      23.000000      10.000000   \n",
              "max                         0.780000      31.000000      12.000000   \n",
              "\n",
              "        ANO INICIAL      DIA FINAL      MES FINAL      ANO FINAL  \n",
              "count  120823.00000  120823.000000  120823.000000  120823.000000  \n",
              "mean     2012.74355      15.717123       6.469927    2012.759880  \n",
              "std         4.88562       8.799908       3.472910       4.887389  \n",
              "min      2004.00000       1.000000       1.000000    2004.000000  \n",
              "25%      2009.00000       8.000000       3.000000    2009.000000  \n",
              "50%      2013.00000      16.000000       6.000000    2013.000000  \n",
              "75%      2017.00000      23.000000      10.000000    2017.000000  \n",
              "max      2021.00000      31.000000      12.000000    2021.000000  "
            ],
            "text/html": [
              "\n",
              "\n",
              "  <div id=\"df-31015f77-730a-4e54-8ab8-38b0babfe44f\">\n",
              "    <div class=\"colab-df-container\">\n",
              "      <div>\n",
              "<style scoped>\n",
              "    .dataframe tbody tr th:only-of-type {\n",
              "        vertical-align: middle;\n",
              "    }\n",
              "\n",
              "    .dataframe tbody tr th {\n",
              "        vertical-align: top;\n",
              "    }\n",
              "\n",
              "    .dataframe thead th {\n",
              "        text-align: right;\n",
              "    }\n",
              "</style>\n",
              "<table border=\"1\" class=\"dataframe\">\n",
              "  <thead>\n",
              "    <tr style=\"text-align: right;\">\n",
              "      <th></th>\n",
              "      <th>NÚMERO DE POSTOS PESQUISADOS</th>\n",
              "      <th>PREÇO MÉDIO REVENDA</th>\n",
              "      <th>DESVIO PADRÃO REVENDA</th>\n",
              "      <th>PREÇO MÍNIMO REVENDA</th>\n",
              "      <th>PREÇO MÁXIMO REVENDA</th>\n",
              "      <th>MARGEM MÉDIA REVENDA</th>\n",
              "      <th>COEF DE VARIAÇÃO REVENDA</th>\n",
              "      <th>PREÇO MÉDIO DISTRIBUIÇÃO</th>\n",
              "      <th>DESVIO PADRÃO DISTRIBUIÇÃO</th>\n",
              "      <th>PREÇO MÍNIMO DISTRIBUIÇÃO</th>\n",
              "      <th>PREÇO MÁXIMO DISTRIBUIÇÃO</th>\n",
              "      <th>COEF DE VARIAÇÃO DISTRIBUIÇÃO</th>\n",
              "      <th>DIA INICIAL</th>\n",
              "      <th>MES INICIAL</th>\n",
              "      <th>ANO INICIAL</th>\n",
              "      <th>DIA FINAL</th>\n",
              "      <th>MES FINAL</th>\n",
              "      <th>ANO FINAL</th>\n",
              "    </tr>\n",
              "  </thead>\n",
              "  <tbody>\n",
              "    <tr>\n",
              "      <th>count</th>\n",
              "      <td>120823.000000</td>\n",
              "      <td>120823.000000</td>\n",
              "      <td>120823.000000</td>\n",
              "      <td>120823.000000</td>\n",
              "      <td>120823.000000</td>\n",
              "      <td>117392.000000</td>\n",
              "      <td>120823.000000</td>\n",
              "      <td>117423.000000</td>\n",
              "      <td>117423.000000</td>\n",
              "      <td>117423.000000</td>\n",
              "      <td>117423.000000</td>\n",
              "      <td>117423.000000</td>\n",
              "      <td>120823.000000</td>\n",
              "      <td>120823.000000</td>\n",
              "      <td>120823.00000</td>\n",
              "      <td>120823.000000</td>\n",
              "      <td>120823.000000</td>\n",
              "      <td>120823.000000</td>\n",
              "    </tr>\n",
              "    <tr>\n",
              "      <th>mean</th>\n",
              "      <td>221.066461</td>\n",
              "      <td>11.473440</td>\n",
              "      <td>0.684132</td>\n",
              "      <td>9.977821</td>\n",
              "      <td>13.233902</td>\n",
              "      <td>-4697.376395</td>\n",
              "      <td>0.045298</td>\n",
              "      <td>-4682.188208</td>\n",
              "      <td>-4690.133173</td>\n",
              "      <td>-4683.304895</td>\n",
              "      <td>-4680.964830</td>\n",
              "      <td>-4690.642465</td>\n",
              "      <td>15.713829</td>\n",
              "      <td>6.468876</td>\n",
              "      <td>2012.74355</td>\n",
              "      <td>15.717123</td>\n",
              "      <td>6.469927</td>\n",
              "      <td>2012.759880</td>\n",
              "    </tr>\n",
              "    <tr>\n",
              "      <th>std</th>\n",
              "      <td>387.940239</td>\n",
              "      <td>19.161823</td>\n",
              "      <td>1.403317</td>\n",
              "      <td>16.433783</td>\n",
              "      <td>22.451445</td>\n",
              "      <td>21163.482182</td>\n",
              "      <td>0.024763</td>\n",
              "      <td>21145.807211</td>\n",
              "      <td>21144.040032</td>\n",
              "      <td>21145.558284</td>\n",
              "      <td>21146.080296</td>\n",
              "      <td>21143.927009</td>\n",
              "      <td>8.806543</td>\n",
              "      <td>3.475266</td>\n",
              "      <td>4.88562</td>\n",
              "      <td>8.799908</td>\n",
              "      <td>3.472910</td>\n",
              "      <td>4.887389</td>\n",
              "    </tr>\n",
              "    <tr>\n",
              "      <th>min</th>\n",
              "      <td>1.000000</td>\n",
              "      <td>0.766000</td>\n",
              "      <td>0.000000</td>\n",
              "      <td>0.590000</td>\n",
              "      <td>0.999000</td>\n",
              "      <td>-99999.000000</td>\n",
              "      <td>0.000000</td>\n",
              "      <td>-99999.000000</td>\n",
              "      <td>-99999.000000</td>\n",
              "      <td>-99999.000000</td>\n",
              "      <td>-99999.000000</td>\n",
              "      <td>-99999.000000</td>\n",
              "      <td>1.000000</td>\n",
              "      <td>1.000000</td>\n",
              "      <td>2004.00000</td>\n",
              "      <td>1.000000</td>\n",
              "      <td>1.000000</td>\n",
              "      <td>2004.000000</td>\n",
              "    </tr>\n",
              "    <tr>\n",
              "      <th>25%</th>\n",
              "      <td>39.000000</td>\n",
              "      <td>2.157000</td>\n",
              "      <td>0.075000</td>\n",
              "      <td>1.989000</td>\n",
              "      <td>2.420000</td>\n",
              "      <td>0.272000</td>\n",
              "      <td>0.029000</td>\n",
              "      <td>1.757000</td>\n",
              "      <td>0.044000</td>\n",
              "      <td>1.638000</td>\n",
              "      <td>1.900250</td>\n",
              "      <td>0.019000</td>\n",
              "      <td>8.000000</td>\n",
              "      <td>3.000000</td>\n",
              "      <td>2009.00000</td>\n",
              "      <td>8.000000</td>\n",
              "      <td>3.000000</td>\n",
              "      <td>2009.000000</td>\n",
              "    </tr>\n",
              "    <tr>\n",
              "      <th>50%</th>\n",
              "      <td>99.000000</td>\n",
              "      <td>2.899000</td>\n",
              "      <td>0.121000</td>\n",
              "      <td>2.690000</td>\n",
              "      <td>3.200000</td>\n",
              "      <td>0.381000</td>\n",
              "      <td>0.041000</td>\n",
              "      <td>2.359000</td>\n",
              "      <td>0.076000</td>\n",
              "      <td>2.238000</td>\n",
              "      <td>2.537600</td>\n",
              "      <td>0.029000</td>\n",
              "      <td>16.000000</td>\n",
              "      <td>6.000000</td>\n",
              "      <td>2013.00000</td>\n",
              "      <td>16.000000</td>\n",
              "      <td>6.000000</td>\n",
              "      <td>2013.000000</td>\n",
              "    </tr>\n",
              "    <tr>\n",
              "      <th>75%</th>\n",
              "      <td>226.000000</td>\n",
              "      <td>4.026000</td>\n",
              "      <td>0.204000</td>\n",
              "      <td>3.790000</td>\n",
              "      <td>4.589000</td>\n",
              "      <td>0.554000</td>\n",
              "      <td>0.058000</td>\n",
              "      <td>3.364000</td>\n",
              "      <td>0.148000</td>\n",
              "      <td>3.200000</td>\n",
              "      <td>3.575750</td>\n",
              "      <td>0.058000</td>\n",
              "      <td>23.000000</td>\n",
              "      <td>10.000000</td>\n",
              "      <td>2017.00000</td>\n",
              "      <td>23.000000</td>\n",
              "      <td>10.000000</td>\n",
              "      <td>2017.000000</td>\n",
              "    </tr>\n",
              "    <tr>\n",
              "      <th>max</th>\n",
              "      <td>4167.000000</td>\n",
              "      <td>107.500000</td>\n",
              "      <td>10.748000</td>\n",
              "      <td>100.000000</td>\n",
              "      <td>120.000000</td>\n",
              "      <td>36.847000</td>\n",
              "      <td>0.395000</td>\n",
              "      <td>83.137000</td>\n",
              "      <td>18.385000</td>\n",
              "      <td>83.000000</td>\n",
              "      <td>94.500000</td>\n",
              "      <td>0.780000</td>\n",
              "      <td>31.000000</td>\n",
              "      <td>12.000000</td>\n",
              "      <td>2021.00000</td>\n",
              "      <td>31.000000</td>\n",
              "      <td>12.000000</td>\n",
              "      <td>2021.000000</td>\n",
              "    </tr>\n",
              "  </tbody>\n",
              "</table>\n",
              "</div>\n",
              "      <button class=\"colab-df-convert\" onclick=\"convertToInteractive('df-31015f77-730a-4e54-8ab8-38b0babfe44f')\"\n",
              "              title=\"Convert this dataframe to an interactive table.\"\n",
              "              style=\"display:none;\">\n",
              "\n",
              "  <svg xmlns=\"http://www.w3.org/2000/svg\" height=\"24px\"viewBox=\"0 0 24 24\"\n",
              "       width=\"24px\">\n",
              "    <path d=\"M0 0h24v24H0V0z\" fill=\"none\"/>\n",
              "    <path d=\"M18.56 5.44l.94 2.06.94-2.06 2.06-.94-2.06-.94-.94-2.06-.94 2.06-2.06.94zm-11 1L8.5 8.5l.94-2.06 2.06-.94-2.06-.94L8.5 2.5l-.94 2.06-2.06.94zm10 10l.94 2.06.94-2.06 2.06-.94-2.06-.94-.94-2.06-.94 2.06-2.06.94z\"/><path d=\"M17.41 7.96l-1.37-1.37c-.4-.4-.92-.59-1.43-.59-.52 0-1.04.2-1.43.59L10.3 9.45l-7.72 7.72c-.78.78-.78 2.05 0 2.83L4 21.41c.39.39.9.59 1.41.59.51 0 1.02-.2 1.41-.59l7.78-7.78 2.81-2.81c.8-.78.8-2.07 0-2.86zM5.41 20L4 18.59l7.72-7.72 1.47 1.35L5.41 20z\"/>\n",
              "  </svg>\n",
              "      </button>\n",
              "\n",
              "\n",
              "\n",
              "    <div id=\"df-d7a2bfc0-eb71-4495-b417-09b0162808f8\">\n",
              "      <button class=\"colab-df-quickchart\" onclick=\"quickchart('df-d7a2bfc0-eb71-4495-b417-09b0162808f8')\"\n",
              "              title=\"Suggest charts.\"\n",
              "              style=\"display:none;\">\n",
              "\n",
              "<svg xmlns=\"http://www.w3.org/2000/svg\" height=\"24px\"viewBox=\"0 0 24 24\"\n",
              "     width=\"24px\">\n",
              "    <g>\n",
              "        <path d=\"M19 3H5c-1.1 0-2 .9-2 2v14c0 1.1.9 2 2 2h14c1.1 0 2-.9 2-2V5c0-1.1-.9-2-2-2zM9 17H7v-7h2v7zm4 0h-2V7h2v10zm4 0h-2v-4h2v4z\"/>\n",
              "    </g>\n",
              "</svg>\n",
              "      </button>\n",
              "    </div>\n",
              "\n",
              "<style>\n",
              "  .colab-df-quickchart {\n",
              "    background-color: #E8F0FE;\n",
              "    border: none;\n",
              "    border-radius: 50%;\n",
              "    cursor: pointer;\n",
              "    display: none;\n",
              "    fill: #1967D2;\n",
              "    height: 32px;\n",
              "    padding: 0 0 0 0;\n",
              "    width: 32px;\n",
              "  }\n",
              "\n",
              "  .colab-df-quickchart:hover {\n",
              "    background-color: #E2EBFA;\n",
              "    box-shadow: 0px 1px 2px rgba(60, 64, 67, 0.3), 0px 1px 3px 1px rgba(60, 64, 67, 0.15);\n",
              "    fill: #174EA6;\n",
              "  }\n",
              "\n",
              "  [theme=dark] .colab-df-quickchart {\n",
              "    background-color: #3B4455;\n",
              "    fill: #D2E3FC;\n",
              "  }\n",
              "\n",
              "  [theme=dark] .colab-df-quickchart:hover {\n",
              "    background-color: #434B5C;\n",
              "    box-shadow: 0px 1px 3px 1px rgba(0, 0, 0, 0.15);\n",
              "    filter: drop-shadow(0px 1px 2px rgba(0, 0, 0, 0.3));\n",
              "    fill: #FFFFFF;\n",
              "  }\n",
              "</style>\n",
              "\n",
              "    <script>\n",
              "      async function quickchart(key) {\n",
              "        const containerElement = document.querySelector('#' + key);\n",
              "        const charts = await google.colab.kernel.invokeFunction(\n",
              "            'suggestCharts', [key], {});\n",
              "      }\n",
              "    </script>\n",
              "\n",
              "\n",
              "      <script>\n",
              "\n",
              "function displayQuickchartButton(domScope) {\n",
              "  let quickchartButtonEl =\n",
              "    domScope.querySelector('#df-d7a2bfc0-eb71-4495-b417-09b0162808f8 button.colab-df-quickchart');\n",
              "  quickchartButtonEl.style.display =\n",
              "    google.colab.kernel.accessAllowed ? 'block' : 'none';\n",
              "}\n",
              "\n",
              "        displayQuickchartButton(document);\n",
              "      </script>\n",
              "      <style>\n",
              "    .colab-df-container {\n",
              "      display:flex;\n",
              "      flex-wrap:wrap;\n",
              "      gap: 12px;\n",
              "    }\n",
              "\n",
              "    .colab-df-convert {\n",
              "      background-color: #E8F0FE;\n",
              "      border: none;\n",
              "      border-radius: 50%;\n",
              "      cursor: pointer;\n",
              "      display: none;\n",
              "      fill: #1967D2;\n",
              "      height: 32px;\n",
              "      padding: 0 0 0 0;\n",
              "      width: 32px;\n",
              "    }\n",
              "\n",
              "    .colab-df-convert:hover {\n",
              "      background-color: #E2EBFA;\n",
              "      box-shadow: 0px 1px 2px rgba(60, 64, 67, 0.3), 0px 1px 3px 1px rgba(60, 64, 67, 0.15);\n",
              "      fill: #174EA6;\n",
              "    }\n",
              "\n",
              "    [theme=dark] .colab-df-convert {\n",
              "      background-color: #3B4455;\n",
              "      fill: #D2E3FC;\n",
              "    }\n",
              "\n",
              "    [theme=dark] .colab-df-convert:hover {\n",
              "      background-color: #434B5C;\n",
              "      box-shadow: 0px 1px 3px 1px rgba(0, 0, 0, 0.15);\n",
              "      filter: drop-shadow(0px 1px 2px rgba(0, 0, 0, 0.3));\n",
              "      fill: #FFFFFF;\n",
              "    }\n",
              "  </style>\n",
              "\n",
              "      <script>\n",
              "        const buttonEl =\n",
              "          document.querySelector('#df-31015f77-730a-4e54-8ab8-38b0babfe44f button.colab-df-convert');\n",
              "        buttonEl.style.display =\n",
              "          google.colab.kernel.accessAllowed ? 'block' : 'none';\n",
              "\n",
              "        async function convertToInteractive(key) {\n",
              "          const element = document.querySelector('#df-31015f77-730a-4e54-8ab8-38b0babfe44f');\n",
              "          const dataTable =\n",
              "            await google.colab.kernel.invokeFunction('convertToInteractive',\n",
              "                                                     [key], {});\n",
              "          if (!dataTable) return;\n",
              "\n",
              "          const docLinkHtml = 'Like what you see? Visit the ' +\n",
              "            '<a target=\"_blank\" href=https://colab.research.google.com/notebooks/data_table.ipynb>data table notebook</a>'\n",
              "            + ' to learn more about interactive tables.';\n",
              "          element.innerHTML = '';\n",
              "          dataTable['output_type'] = 'display_data';\n",
              "          await google.colab.output.renderOutput(dataTable, element);\n",
              "          const docLink = document.createElement('div');\n",
              "          docLink.innerHTML = docLinkHtml;\n",
              "          element.appendChild(docLink);\n",
              "        }\n",
              "      </script>\n",
              "    </div>\n",
              "  </div>\n"
            ]
          },
          "metadata": {},
          "execution_count": 362
        }
      ]
    }
  ],
  "metadata": {
    "kernelspec": {
      "display_name": "Python 3",
      "language": "python",
      "name": "python3"
    },
    "language_info": {
      "codemirror_mode": {
        "name": "ipython",
        "version": 3
      },
      "file_extension": ".py",
      "mimetype": "text/x-python",
      "name": "python",
      "nbconvert_exporter": "python",
      "pygments_lexer": "ipython3",
      "version": "3.11.1"
    },
    "orig_nbformat": 4,
    "colab": {
      "provenance": [],
      "include_colab_link": true
    }
  },
  "nbformat": 4,
  "nbformat_minor": 0
}